{
 "cells": [
  {
   "cell_type": "code",
   "execution_count": 33,
   "id": "117e72cb",
   "metadata": {},
   "outputs": [
    {
     "name": "stdout",
     "output_type": "stream",
     "text": [
      "Requirement already satisfied: sunpy[all] in /home/anu/anaconda3/lib/python3.9/site-packages (4.0.5)\n",
      "Requirement already satisfied: parfive[ftp]>=1.2.0 in /home/anu/anaconda3/lib/python3.9/site-packages (from sunpy[all]) (2.0.1)\n",
      "Requirement already satisfied: packaging>=19.0 in /home/anu/anaconda3/lib/python3.9/site-packages (from sunpy[all]) (21.0)\n",
      "Requirement already satisfied: numpy>=1.17.0 in /home/anu/anaconda3/lib/python3.9/site-packages (from sunpy[all]) (1.20.3)\n",
      "Requirement already satisfied: astropy>=4.2.1 in /home/anu/anaconda3/lib/python3.9/site-packages (from sunpy[all]) (5.1)\n",
      "Requirement already satisfied: scikit-image>=0.16.0 in /home/anu/anaconda3/lib/python3.9/site-packages (from sunpy[all]) (0.18.3)\n",
      "Requirement already satisfied: asdf>=2.8.0 in /home/anu/anaconda3/lib/python3.9/site-packages (from sunpy[all]) (2.13.0)\n",
      "Requirement already satisfied: mpl-animators>=1.0.0 in /home/anu/anaconda3/lib/python3.9/site-packages (from sunpy[all]) (1.1.0)\n",
      "Requirement already satisfied: sqlalchemy>=1.3.4 in /home/anu/anaconda3/lib/python3.9/site-packages (from sunpy[all]) (1.4.22)\n",
      "Requirement already satisfied: h5py>=3.1.0 in /home/anu/anaconda3/lib/python3.9/site-packages (from sunpy[all]) (3.3.0)\n",
      "Requirement already satisfied: reproject in /home/anu/anaconda3/lib/python3.9/site-packages (from sunpy[all]) (0.9)\n",
      "Requirement already satisfied: glymur!=0.9.0,!=0.9.5,>=0.8.18 in /home/anu/anaconda3/lib/python3.9/site-packages (from sunpy[all]) (0.11.7)\n",
      "Requirement already satisfied: matplotlib>=3.2.0 in /home/anu/anaconda3/lib/python3.9/site-packages (from sunpy[all]) (3.4.3)\n",
      "Requirement already satisfied: asdf-astropy>=0.1.1 in /home/anu/anaconda3/lib/python3.9/site-packages (from sunpy[all]) (0.2.2)\n",
      "Requirement already satisfied: zeep>=3.4.0 in /home/anu/anaconda3/lib/python3.9/site-packages (from sunpy[all]) (4.1.0)\n",
      "Requirement already satisfied: cdflib!=0.4.0,>=0.3.19 in /home/anu/anaconda3/lib/python3.9/site-packages (from sunpy[all]) (0.4.7)\n",
      "Requirement already satisfied: drms>=0.6.1 in /home/anu/anaconda3/lib/python3.9/site-packages (from sunpy[all]) (0.6.3)\n",
      "Requirement already satisfied: tqdm>=4.32.1 in /home/anu/anaconda3/lib/python3.9/site-packages (from sunpy[all]) (4.62.3)\n",
      "Requirement already satisfied: pandas>=1.0.0 in /home/anu/anaconda3/lib/python3.9/site-packages (from sunpy[all]) (1.3.4)\n",
      "Requirement already satisfied: python-dateutil>=2.8.0 in /home/anu/anaconda3/lib/python3.9/site-packages (from sunpy[all]) (2.8.2)\n",
      "Requirement already satisfied: dask[array]>=2.0.0 in /home/anu/anaconda3/lib/python3.9/site-packages (from sunpy[all]) (2021.10.0)\n",
      "Requirement already satisfied: h5netcdf>=0.8.1 in /home/anu/anaconda3/lib/python3.9/site-packages (from sunpy[all]) (1.0.2)\n",
      "Requirement already satisfied: beautifulsoup4>=4.8.0 in /home/anu/anaconda3/lib/python3.9/site-packages (from sunpy[all]) (4.10.0)\n",
      "Requirement already satisfied: scipy>=1.3.0 in /home/anu/anaconda3/lib/python3.9/site-packages (from sunpy[all]) (1.7.1)\n",
      "Requirement already satisfied: asdf-standard>=1.0.1 in /home/anu/anaconda3/lib/python3.9/site-packages (from asdf>=2.8.0->sunpy[all]) (1.0.3)\n",
      "Requirement already satisfied: asdf-transform-schemas>=0.2.2 in /home/anu/anaconda3/lib/python3.9/site-packages (from asdf>=2.8.0->sunpy[all]) (0.3.0)\n",
      "Requirement already satisfied: jmespath>=0.6.2 in /home/anu/anaconda3/lib/python3.9/site-packages (from asdf>=2.8.0->sunpy[all]) (1.0.1)\n",
      "Requirement already satisfied: pyyaml>=3.10 in /home/anu/anaconda3/lib/python3.9/site-packages (from asdf>=2.8.0->sunpy[all]) (6.0)\n",
      "Requirement already satisfied: semantic-version>=2.8 in /home/anu/anaconda3/lib/python3.9/site-packages (from asdf>=2.8.0->sunpy[all]) (2.10.0)\n",
      "Requirement already satisfied: jsonschema<4.10.0,>=4.0.1 in /home/anu/anaconda3/lib/python3.9/site-packages (from asdf>=2.8.0->sunpy[all]) (4.9.1)\n",
      "Requirement already satisfied: asdf-coordinates-schemas in /home/anu/anaconda3/lib/python3.9/site-packages (from asdf-astropy>=0.1.1->sunpy[all]) (0.1.0)\n",
      "Requirement already satisfied: pyerfa>=2.0 in /home/anu/anaconda3/lib/python3.9/site-packages (from astropy>=4.2.1->sunpy[all]) (2.0.0)\n",
      "Requirement already satisfied: soupsieve>1.2 in /home/anu/anaconda3/lib/python3.9/site-packages (from beautifulsoup4>=4.8.0->sunpy[all]) (2.2.1)\n",
      "Requirement already satisfied: attrs>=19.2.0 in /home/anu/anaconda3/lib/python3.9/site-packages (from cdflib!=0.4.0,>=0.3.19->sunpy[all]) (21.2.0)\n",
      "Requirement already satisfied: cloudpickle>=1.1.1 in /home/anu/anaconda3/lib/python3.9/site-packages (from dask[array]>=2.0.0->sunpy[all]) (2.0.0)\n",
      "Requirement already satisfied: fsspec>=0.6.0 in /home/anu/anaconda3/lib/python3.9/site-packages (from dask[array]>=2.0.0->sunpy[all]) (2021.8.1)\n",
      "Requirement already satisfied: partd>=0.3.10 in /home/anu/anaconda3/lib/python3.9/site-packages (from dask[array]>=2.0.0->sunpy[all]) (1.2.0)\n",
      "Requirement already satisfied: toolz>=0.8.2 in /home/anu/anaconda3/lib/python3.9/site-packages (from dask[array]>=2.0.0->sunpy[all]) (0.11.1)\n",
      "Requirement already satisfied: lxml in /home/anu/anaconda3/lib/python3.9/site-packages (from glymur!=0.9.0,!=0.9.5,>=0.8.18->sunpy[all]) (4.6.3)\n",
      "Requirement already satisfied: setuptools in /home/anu/anaconda3/lib/python3.9/site-packages (from glymur!=0.9.0,!=0.9.5,>=0.8.18->sunpy[all]) (58.0.4)\n",
      "Requirement already satisfied: pyrsistent!=0.17.0,!=0.17.1,!=0.17.2,>=0.14.0 in /home/anu/anaconda3/lib/python3.9/site-packages (from jsonschema<4.10.0,>=4.0.1->asdf>=2.8.0->sunpy[all]) (0.18.0)\n",
      "Requirement already satisfied: cycler>=0.10 in /home/anu/anaconda3/lib/python3.9/site-packages (from matplotlib>=3.2.0->sunpy[all]) (0.10.0)\n",
      "Requirement already satisfied: kiwisolver>=1.0.1 in /home/anu/anaconda3/lib/python3.9/site-packages (from matplotlib>=3.2.0->sunpy[all]) (1.3.1)\n",
      "Requirement already satisfied: pyparsing>=2.2.1 in /home/anu/anaconda3/lib/python3.9/site-packages (from matplotlib>=3.2.0->sunpy[all]) (3.0.4)\n",
      "Requirement already satisfied: pillow>=6.2.0 in /home/anu/anaconda3/lib/python3.9/site-packages (from matplotlib>=3.2.0->sunpy[all]) (8.4.0)\n",
      "Requirement already satisfied: six in /home/anu/anaconda3/lib/python3.9/site-packages (from cycler>=0.10->matplotlib>=3.2.0->sunpy[all]) (1.16.0)\n",
      "Requirement already satisfied: pytz>=2017.3 in /home/anu/anaconda3/lib/python3.9/site-packages (from pandas>=1.0.0->sunpy[all]) (2021.3)\n",
      "Requirement already satisfied: aiohttp in /home/anu/anaconda3/lib/python3.9/site-packages (from parfive[ftp]>=1.2.0->sunpy[all]) (3.8.3)\n",
      "Requirement already satisfied: aioftp>=0.17.1 in /home/anu/anaconda3/lib/python3.9/site-packages (from parfive[ftp]>=1.2.0->sunpy[all]) (0.21.4)\n",
      "Requirement already satisfied: locket in /home/anu/anaconda3/lib/python3.9/site-packages/locket-0.2.1-py3.9.egg (from partd>=0.3.10->dask[array]>=2.0.0->sunpy[all]) (0.2.1)\n",
      "Requirement already satisfied: networkx>=2.0 in /home/anu/anaconda3/lib/python3.9/site-packages (from scikit-image>=0.16.0->sunpy[all]) (2.6.3)\n",
      "Requirement already satisfied: imageio>=2.3.0 in /home/anu/anaconda3/lib/python3.9/site-packages (from scikit-image>=0.16.0->sunpy[all]) (2.9.0)\n",
      "Requirement already satisfied: tifffile>=2019.7.26 in /home/anu/anaconda3/lib/python3.9/site-packages (from scikit-image>=0.16.0->sunpy[all]) (2021.7.2)\n",
      "Requirement already satisfied: PyWavelets>=1.1.1 in /home/anu/anaconda3/lib/python3.9/site-packages (from scikit-image>=0.16.0->sunpy[all]) (1.1.1)\n",
      "Requirement already satisfied: greenlet!=0.4.17 in /home/anu/anaconda3/lib/python3.9/site-packages (from sqlalchemy>=1.3.4->sunpy[all]) (1.1.1)\n",
      "Requirement already satisfied: cached-property>=1.3.0 in /home/anu/anaconda3/lib/python3.9/site-packages (from zeep>=3.4.0->sunpy[all]) (1.5.2)\n",
      "Requirement already satisfied: requests-toolbelt>=0.7.1 in /home/anu/anaconda3/lib/python3.9/site-packages (from zeep>=3.4.0->sunpy[all]) (0.10.0)\n",
      "Requirement already satisfied: requests-file>=1.5.1 in /home/anu/anaconda3/lib/python3.9/site-packages (from zeep>=3.4.0->sunpy[all]) (1.5.1)\n",
      "Requirement already satisfied: isodate>=0.5.4 in /home/anu/anaconda3/lib/python3.9/site-packages (from zeep>=3.4.0->sunpy[all]) (0.6.1)\n",
      "Requirement already satisfied: platformdirs>=1.4.0 in /home/anu/anaconda3/lib/python3.9/site-packages (from zeep>=3.4.0->sunpy[all]) (2.5.2)\n",
      "Requirement already satisfied: requests>=2.7.0 in /home/anu/anaconda3/lib/python3.9/site-packages (from zeep>=3.4.0->sunpy[all]) (2.26.0)\n",
      "Requirement already satisfied: certifi>=2017.4.17 in /home/anu/anaconda3/lib/python3.9/site-packages (from requests>=2.7.0->zeep>=3.4.0->sunpy[all]) (2021.10.8)\n",
      "Requirement already satisfied: charset-normalizer~=2.0.0 in /home/anu/anaconda3/lib/python3.9/site-packages (from requests>=2.7.0->zeep>=3.4.0->sunpy[all]) (2.0.4)\n",
      "Requirement already satisfied: idna<4,>=2.5 in /home/anu/anaconda3/lib/python3.9/site-packages (from requests>=2.7.0->zeep>=3.4.0->sunpy[all]) (3.2)\n",
      "Requirement already satisfied: urllib3<1.27,>=1.21.1 in /home/anu/anaconda3/lib/python3.9/site-packages (from requests>=2.7.0->zeep>=3.4.0->sunpy[all]) (1.26.7)\n",
      "Requirement already satisfied: yarl<2.0,>=1.0 in /home/anu/anaconda3/lib/python3.9/site-packages (from aiohttp->parfive[ftp]>=1.2.0->sunpy[all]) (1.8.1)\n",
      "Requirement already satisfied: aiosignal>=1.1.2 in /home/anu/anaconda3/lib/python3.9/site-packages (from aiohttp->parfive[ftp]>=1.2.0->sunpy[all]) (1.2.0)\n",
      "Requirement already satisfied: frozenlist>=1.1.1 in /home/anu/anaconda3/lib/python3.9/site-packages (from aiohttp->parfive[ftp]>=1.2.0->sunpy[all]) (1.3.1)\n",
      "Requirement already satisfied: async-timeout<5.0,>=4.0.0a3 in /home/anu/anaconda3/lib/python3.9/site-packages (from aiohttp->parfive[ftp]>=1.2.0->sunpy[all]) (4.0.2)\n",
      "Requirement already satisfied: multidict<7.0,>=4.5 in /home/anu/anaconda3/lib/python3.9/site-packages (from aiohttp->parfive[ftp]>=1.2.0->sunpy[all]) (6.0.2)\n",
      "Requirement already satisfied: astropy-healpix>=0.6 in /home/anu/anaconda3/lib/python3.9/site-packages (from reproject->sunpy[all]) (0.7)\n"
     ]
    }
   ],
   "source": [
    "!pip install sunpy[all]"
   ]
  },
  {
   "cell_type": "code",
   "execution_count": null,
   "id": "9f272dfc",
   "metadata": {},
   "outputs": [],
   "source": []
  },
  {
   "cell_type": "code",
   "execution_count": 2,
   "id": "030dadbc",
   "metadata": {},
   "outputs": [],
   "source": [
    "import os\n",
    "from astropy.io import fits\n",
    "import sunpy.map\n",
    "#from sunpy.coordinates import NorthOffsetFrame\n",
    "import astropy.units as u\n",
    "import numpy as np\n",
    "from astropy.coordinates import SkyCoord\n",
    "from sunpy.coordinates import frames\n",
    "import matplotlib.pyplot as plt\n",
    "import matplotlib.colors\n",
    "import glob\n",
    "from scipy import ndimage\n",
    "import numpy as np\n",
    "import sunpy.timeseries\n",
    "import scipy.ndimage as ndimage\n",
    "from scipy.ndimage import label\n",
    "from scipy.optimize import curve_fit\n",
    "from scipy.interpolate import RegularGridInterpolator\n",
    "from skimage.transform import resize"
   ]
  },
  {
   "cell_type": "code",
   "execution_count": 151,
   "id": "b4238a72",
   "metadata": {},
   "outputs": [
    {
     "name": "stdout",
     "output_type": "stream",
     "text": [
      "['/home/anu/Desktop/samapti/carrington/synop_Mr_0.1960.fits']\n"
     ]
    }
   ],
   "source": [
    "folder_path = \"/home/anu/Desktop/samapti/carrington\"\n",
    "save_dir1=\"/home/anu/Desktop/samapti/carrington/South hemisphere\"\n",
    "save_dir2= \"/home/anu/Desktop/samapti/carrington/North hemisphere\"\n",
    "save_dir3= \"/home/anu/Desktop/samapti/carrington/image\"\n",
    "save_dir4= \"/home/anu/Desktop/samapti/carrington/test\"\n",
    "files = os.listdir(folder_path)\n",
    "fits_files = glob.glob(os.path.join(folder_path, '*.fits'))\n",
    "print(fits_files)"
   ]
  },
  {
   "cell_type": "code",
   "execution_count": 153,
   "id": "3c1ca130",
   "metadata": {},
   "outputs": [],
   "source": [
    "for file in fits_files:\n",
    "  with fits.open(file)as f:\n",
    "    header = f[0].header\n",
    "    data=f[0].data\n",
    "    #print(header)\n",
    "    #print(data)\n",
    "    #print(data[0:1,])\n",
    "    #print(data[:,0:1])"
   ]
  },
  {
   "cell_type": "code",
   "execution_count": 150,
   "id": "f7e66663",
   "metadata": {},
   "outputs": [
    {
     "name": "stdout",
     "output_type": "stream",
     "text": [
      "0.1\n",
      "0.002777777777777778\n"
     ]
    }
   ],
   "source": [
    "print(360/3600)\n",
    "print(2/720)"
   ]
  },
  {
   "cell_type": "code",
   "execution_count": 124,
   "id": "5098da86",
   "metadata": {},
   "outputs": [
    {
     "data": {
      "text/plain": [
       "<matplotlib.colorbar.Colorbar at 0x7f34a4f9e8b0>"
      ]
     },
     "execution_count": 124,
     "metadata": {},
     "output_type": "execute_result"
    },
    {
     "data": {
      "image/png": "[encoded data removed]",
      "text/plain": [
       "<Figure size 864x432 with 2 Axes>"
      ]
     },
     "metadata": {
      "needs_background": "light"
     },
     "output_type": "display_data"
    }
   ],
   "source": [
    "fig = plt.figure(figsize=(12,6))\n",
    "plt.imshow(data, origin=\"lower\", cmap='gray', aspect=1.5)              #vmax=100, vmin=-100\n",
    "plt.colorbar()"
   ]
  },
  {
   "cell_type": "code",
   "execution_count": 154,
   "id": "580252ce",
   "metadata": {},
   "outputs": [
    {
     "name": "stdout",
     "output_type": "stream",
     "text": [
      "3600\n",
      "1080\n"
     ]
    }
   ],
   "source": [
    "nx=data.shape[1]\n",
    "ny=data.shape[0]\n",
    "print(nx)\n",
    "print(ny)\n"
   ]
  },
  {
   "cell_type": "code",
   "execution_count": 155,
   "id": "89330b62",
   "metadata": {},
   "outputs": [
    {
     "name": "stdout",
     "output_type": "stream",
     "text": [
      "0.0017453292519943296\n",
      "1.56567669432238e+16\n",
      "1874355\n",
      "1939924\n"
     ]
    }
   ],
   "source": [
    "longitude=[]\n",
    "longitude_rad=[]\n",
    "sinlat=[]\n",
    "latitude=[]\n",
    "latitude_rad=[]\n",
    "coslat=[]\n",
    "R_sun = 6.96e10\n",
    "d_sinlat=2/ny\n",
    "dtr=np.pi/180\n",
    "rtd=180/np.pi\n",
    "dlon_rad=(360/nx)*dtr\n",
    "print(dlon_rad)\n",
    "\n",
    "\n",
    "\n",
    "for i in range (ny):\n",
    "  sin_lat= -1+i*(2/ny)\n",
    "  Latitude_rad= np.arcsin(sin_lat)\n",
    "  Latitude =Latitude_rad*rtd\n",
    "  cos_lat=np.cos(Latitude_rad)\n",
    "  coslat.append(cos_lat)\n",
    "  latitude.append(Latitude)\n",
    "  sinlat.append(sin_lat)\n",
    "  latitude_rad.append(Latitude_rad)\n",
    "  \n",
    "for j in range(nx):\n",
    "    Longitude = 0+j*(360/nx)\n",
    "    Longitude_rad=Longitude*dtr\n",
    "    longitude.append(Longitude)\n",
    "   \n",
    "  \n",
    "Flux=(data)*(R_sun**2)*(d_sinlat)*(dlon_rad)\n",
    "S= (R_sun**2)*(d_sinlat)*(dlon_rad)\n",
    "print(S)\n",
    "print(np.nansum(Flux>0))\n",
    "print(np.nansum(Flux<0))\n",
    "\n",
    "#print( longitude_rad[1:6])\n",
    "#print(coslat)\n",
    "#plt.plot( latitude,coslat)\n",
    "#fig = plt.figure()\n",
    "#plt.plot( latitude, sinlat)"
   ]
  },
  {
   "cell_type": "code",
   "execution_count": 143,
   "id": "f15d577e",
   "metadata": {},
   "outputs": [
    {
     "name": "stdout",
     "output_type": "stream",
     "text": [
      "[0.00174533 0.00174533 0.00174533 ... 0.00174533 0.00174533 0.00174533]\n"
     ]
    }
   ],
   "source": [
    "#print(np.diff( longitude_rad))"
   ]
  },
  {
   "cell_type": "code",
   "execution_count": 145,
   "id": "80f884f8",
   "metadata": {},
   "outputs": [
    {
     "name": "stdout",
     "output_type": "stream",
     "text": [
      "748\n",
      "12151\n"
     ]
    }
   ],
   "source": [
    "print(129067-128319)\n",
    "print(2577388-2565237)"
   ]
  },
  {
   "cell_type": "code",
   "execution_count": 146,
   "id": "059c8227",
   "metadata": {},
   "outputs": [
    {
     "name": "stdout",
     "output_type": "stream",
     "text": [
      "16.244652406417114\n"
     ]
    }
   ],
   "source": [
    "print(12151/748)"
   ]
  },
  {
   "cell_type": "code",
   "execution_count": 127,
   "id": "d88a9f84",
   "metadata": {},
   "outputs": [
    {
     "name": "stdout",
     "output_type": "stream",
     "text": [
      "1.56567669432238e+18\n"
     ]
    }
   ],
   "source": [
    "\n",
    "print(100*S)"
   ]
  },
  {
   "cell_type": "code",
   "execution_count": 128,
   "id": "84f42285",
   "metadata": {},
   "outputs": [
    {
     "name": "stderr",
     "output_type": "stream",
     "text": [
      "/tmp/ipykernel_63061/3796153067.py:14: MatplotlibDeprecationWarning: shading='flat' when X and Y have the same dimensions as C is deprecated since 3.3.  Either specify the corners of the quadrilaterals with X and Y, or pass shading='auto', 'nearest' or 'gouraud', or set rcParams['pcolor.shading'].  This will become an error two minor releases later.\n",
      "  plt.pcolormesh(X,Y,Flux, cmap='gray')\n",
      "/tmp/ipykernel_63061/3796153067.py:24: MatplotlibDeprecationWarning: shading='flat' when X and Y have the same dimensions as C is deprecated since 3.3.  Either specify the corners of the quadrilaterals with X and Y, or pass shading='auto', 'nearest' or 'gouraud', or set rcParams['pcolor.shading'].  This will become an error two minor releases later.\n",
      "  plt.pcolormesh(x,y,Flux, cmap='gray')\n"
     ]
    }
   ],
   "source": [
    "base_name = os.path.basename(file).replace('.fits', '')\n",
    "lon=np.array(longitude)\n",
    "Sinlat=np.array( sinlat)\n",
    "lat=np.array(latitude)\n",
    "Coslat=np.array(coslat)\n",
    "latrad=np.array(latitude_rad)\n",
    "dlat= np.diff(latrad)\n",
    "#dlat=np.subtract(latrad[1:1080],latrad[0:1079])\n",
    "#print(Coslat)\n",
    "\n",
    "\n",
    "X,Y=np.meshgrid(lon, Sinlat )\n",
    "fig = plt.figure(figsize=(12,6))\n",
    "plt.pcolormesh(X,Y,Flux, cmap='gray')\n",
    "plt.colorbar()\n",
    "image_name= f\" {base_name}_.jpeg\"\n",
    "mag_image= os.path.join(save_dir3, image_name)\n",
    "plt.savefig(mag_image, dpi=300)\n",
    "plt.close(fig)\n",
    "\n",
    "x,y=np.meshgrid(lon, lat )\n",
    "#print(np.diff(y,axis=0))\n",
    "fig = plt.figure(figsize=(12,6))\n",
    "plt.pcolormesh(x,y,Flux, cmap='gray')\n",
    "plt.colorbar()\n",
    "image_name= f\" {base_name}_lat.jpeg\"\n",
    "mag_image= os.path.join(save_dir3, image_name)\n",
    "plt.savefig(mag_image, dpi=300)\n",
    "plt.close(fig)\n",
    "\n",
    "fig = plt.figure(figsize=(12,6))\n",
    "plt.imshow(Flux,origin=\"lower\", cmap='gray',aspect=1.5)\n",
    "plt.colorbar()\n",
    "plt.close(fig)\n",
    "#plt.plot(dlat1,dlat)\n"
   ]
  },
  {
   "cell_type": "code",
   "execution_count": 211,
   "id": "437de7cb",
   "metadata": {},
   "outputs": [],
   "source": [
    "#print(8.59865686e-02*1.44531038)"
   ]
  },
  {
   "cell_type": "code",
   "execution_count": 212,
   "id": "1c39f4f8",
   "metadata": {},
   "outputs": [],
   "source": [
    "#print(data[100:103,])"
   ]
  },
  {
   "cell_type": "code",
   "execution_count": 129,
   "id": "7f76caeb",
   "metadata": {},
   "outputs": [
    {
     "name": "stdout",
     "output_type": "stream",
     "text": [
      "(1079,)\n",
      "<class 'numpy.ndarray'>\n",
      "(1079,)\n",
      "1874355\n",
      "1939924\n"
     ]
    },
    {
     "data": {
      "text/plain": [
       "[<matplotlib.lines.Line2D at 0x7f34a70f46a0>]"
      ]
     },
     "execution_count": 129,
     "metadata": {},
     "output_type": "execute_result"
    },
    {
     "data": {
      "image/png": "[encoded data removed]",
      "text/plain": [
       "<Figure size 432x288 with 1 Axes>"
      ]
     },
     "metadata": {
      "needs_background": "light"
     },
     "output_type": "display_data"
    }
   ],
   "source": [
    "#print(type(dlat))\n",
    "print(dlat.shape)\n",
    "\n",
    "coslat_avg=np.mean([coslat[0:1079],coslat[1:]],axis=0)\n",
    "print(type(coslat_avg))\n",
    "print(coslat_avg.shape)\n",
    "#print(coslat[1077:1078])\n",
    "b=np.multiply(coslat_avg,dlat)\n",
    "#print(b)\n",
    "#plt.plot(lat[100:1030],b)\n",
    "S1=(R_sun**2)*b*(dlon_rad)\n",
    "#print(S1)\n",
    "#print(data)\n",
    "#fig = plt.figure()\n",
    "#plt.plot(lat[100:1030],S1)\n",
    "reshapeS1=S1.reshape(-1,1)\n",
    "#print(reshapeS1)\n",
    "F=data[:1079,]*S1.reshape(-1,1)\n",
    "#print(F[100:102,])\n",
    "#print(Flux[100:102,])\n",
    "#print(F)\n",
    "#print(Flux[:1079,])\n",
    "#plt.pcolormesh(x,y, F, cmap='gray')\n",
    "#plt.colorbar()\n",
    "#plt.pcolormesh(x,y, Flux, cmap='gray')\n",
    "#diffF=np.subtract(F[100:102,],Flux[100:102,])\n",
    "print(np.nansum(F>0))\n",
    "print(np.nansum(F<0))\n",
    "plt.plot(b[1:])\n",
    "\n",
    "\n"
   ]
  },
  {
   "cell_type": "code",
   "execution_count": null,
   "id": "bd70af35",
   "metadata": {},
   "outputs": [],
   "source": []
  },
  {
   "cell_type": "code",
   "execution_count": null,
   "id": "3376a6c9",
   "metadata": {},
   "outputs": [],
   "source": []
  },
  {
   "cell_type": "code",
   "execution_count": null,
   "id": "7bae4aac",
   "metadata": {},
   "outputs": [],
   "source": []
  },
  {
   "cell_type": "code",
   "execution_count": 130,
   "id": "174b87b0",
   "metadata": {},
   "outputs": [
    {
     "name": "stdout",
     "output_type": "stream",
     "text": [
      "-1.5e+18\n"
     ]
    }
   ],
   "source": [
    "fluxthres1=1.5e18\n",
    "fluxthres2= -1.5e18\n",
    "print(fluxthres2)\n",
    "binary_mask=(Flux>fluxthres1)|(Flux<fluxthres2)\n",
    "labeled_array, num_features = label(binary_mask)\n"
   ]
  },
  {
   "cell_type": "code",
   "execution_count": 131,
   "id": "3200bc66",
   "metadata": {},
   "outputs": [
    {
     "name": "stderr",
     "output_type": "stream",
     "text": [
      "/tmp/ipykernel_63061/1922091522.py:2: MatplotlibDeprecationWarning: shading='flat' when X and Y have the same dimensions as C is deprecated since 3.3.  Either specify the corners of the quadrilaterals with X and Y, or pass shading='auto', 'nearest' or 'gouraud', or set rcParams['pcolor.shading'].  This will become an error two minor releases later.\n",
      "  plt.pcolormesh(x,y, binary_mask, cmap='gray')\n"
     ]
    }
   ],
   "source": [
    "fig=plt.figure(figsize=(12,6))\n",
    "plt.pcolormesh(x,y, binary_mask, cmap='gray')\n",
    "image_name= f\" {base_name}_binarymask.jpeg\"\n",
    "mag_image= os.path.join(save_dir3, image_name)\n",
    "plt.savefig(mag_image, dpi=300)\n",
    "plt.close(fig)\n",
    "\n"
   ]
  },
  {
   "cell_type": "code",
   "execution_count": 132,
   "id": "068b9d28",
   "metadata": {},
   "outputs": [],
   "source": [
    "totflux=ndimage.sum(Flux, labeled_array, range(1, num_features + 1))\n",
    "Totflux= np.zeros_like(Flux)\n",
    "\n",
    "for i, val in enumerate(totflux):\n",
    "    Totflux[labeled_array == (i + 1)] = val\n",
    "\n",
    "\n"
   ]
  },
  {
   "cell_type": "code",
   "execution_count": 133,
   "id": "9dd86c70",
   "metadata": {},
   "outputs": [
    {
     "name": "stderr",
     "output_type": "stream",
     "text": [
      "/tmp/ipykernel_63061/3124300687.py:2: MatplotlibDeprecationWarning: shading='flat' when X and Y have the same dimensions as C is deprecated since 3.3.  Either specify the corners of the quadrilaterals with X and Y, or pass shading='auto', 'nearest' or 'gouraud', or set rcParams['pcolor.shading'].  This will become an error two minor releases later.\n",
      "  plt.pcolormesh(x,y, Totflux, cmap='gray')\n"
     ]
    }
   ],
   "source": [
    "fig=plt.figure(figsize=(12,6))\n",
    "plt.pcolormesh(x,y, Totflux, cmap='gray')\n",
    "plt.colorbar()\n",
    "image_name= f\" {base_name}_Totflux.jpeg\"\n",
    "mag_image= os.path.join(save_dir3, image_name)\n",
    "plt.savefig(mag_image, dpi=300)\n",
    "plt.close(fig)"
   ]
  },
  {
   "cell_type": "code",
   "execution_count": 134,
   "id": "0dadae96",
   "metadata": {},
   "outputs": [],
   "source": [
    "regionthres1 = 2e20\n",
    "regionthres2 = -2e20\n",
    "binary_mask2=(Totflux>regionthres1)| (Totflux<regionthres2)\n",
    "#print(binary_mask2.shape)\n",
    "#print(x.shape)\n"
   ]
  },
  {
   "cell_type": "code",
   "execution_count": 135,
   "id": "49ab21c4",
   "metadata": {},
   "outputs": [
    {
     "name": "stderr",
     "output_type": "stream",
     "text": [
      "/tmp/ipykernel_63061/1287545201.py:2: MatplotlibDeprecationWarning: shading='flat' when X and Y have the same dimensions as C is deprecated since 3.3.  Either specify the corners of the quadrilaterals with X and Y, or pass shading='auto', 'nearest' or 'gouraud', or set rcParams['pcolor.shading'].  This will become an error two minor releases later.\n",
      "  plt.pcolormesh(x,y, binary_mask2, cmap='gray')\n"
     ]
    }
   ],
   "source": [
    "fig=plt.figure(figsize=(12,6))\n",
    "plt.pcolormesh(x,y, binary_mask2, cmap='gray')\n",
    "image_name= f\" {base_name}_binarmask2.jpeg\"\n",
    "mag_image= os.path.join(save_dir3, image_name)\n",
    "plt.savefig(mag_image, dpi=300)\n",
    "plt.close(fig)"
   ]
  },
  {
   "cell_type": "code",
   "execution_count": 136,
   "id": "4eb434c3",
   "metadata": {},
   "outputs": [],
   "source": [
    "y_indices, x_indices = np.where(binary_mask2==1)\n",
    "\n",
    "Lat=lat[y_indices]\n",
    "Lon=lon[x_indices]\n",
    "mask1=(Lat<=0)& (Lat>=-90)\n",
    "SH_lat=Lat[mask1]\n",
    "SH_lon=Lon[mask1]\n",
    "mask2= (Lat<=90) & (Lat>=0)\n",
    "NH_lat = Lat[mask2]\n",
    "NH_lon = Lon[mask2]\n",
    "\n",
    "sorted_indices1= np.argsort(SH_lon)\n",
    "\n",
    "SHlon_sorted=SH_lon[sorted_indices1]\n",
    "SHlat_sorted=SH_lat[sorted_indices1]\n",
    "output1=np.column_stack((SHlon_sorted,SHlat_sorted))\n",
    "#print(SH_lon)\n",
    "#print(sorted_indices1)\n",
    "#print(output1)\n",
    "sorted_indices2 = np.argsort(NH_lon)\n",
    "NHlon_sorted= NH_lon[sorted_indices2]\n",
    "NHlat_sorted = NH_lat[sorted_indices2]\n",
    "output2 = np.column_stack((NHlon_sorted, NHlat_sorted))\n",
    "#print(output2)"
   ]
  },
  {
   "cell_type": "code",
   "execution_count": 137,
   "id": "6007d2bb",
   "metadata": {},
   "outputs": [],
   "source": [
    "base_name = os.path.basename(file).replace('.fits', '')\n",
    "txt_name1= f\" {base_name}_SH.txt\"\n",
    "txt1= os.path.join(save_dir1, txt_name1)\n",
    "txt_name2= f\" {base_name}_NH.txt\"\n",
    "txt2= os.path.join(save_dir2, txt_name2)\n",
    "np.savetxt(txt1,output1)\n",
    "np.savetxt(txt2, output2)"
   ]
  },
  {
   "cell_type": "markdown",
   "id": "bbf561d0",
   "metadata": {},
   "source": [
    "# latitude=lamda, longitude=fhi"
   ]
  },
  {
   "cell_type": "code",
   "execution_count": 138,
   "id": "b8fd1fb3",
   "metadata": {},
   "outputs": [
    {
     "name": "stdout",
     "output_type": "stream",
     "text": [
      "/home/anu/Desktop/samapti/carrington/South hemisphere/ synop_Mr_0.1960_SH.txt\n",
      "p = -17.89987108632638, q1 = 2.5196595002703255, r1=3.3333394473783327\n",
      "5.90033836360402\n"
     ]
    },
    {
     "name": "stderr",
     "output_type": "stream",
     "text": [
      "/tmp/ipykernel_63061/932251364.py:43: MatplotlibDeprecationWarning: shading='flat' when X and Y have the same dimensions as C is deprecated since 3.3.  Either specify the corners of the quadrilaterals with X and Y, or pass shading='auto', 'nearest' or 'gouraud', or set rcParams['pcolor.shading'].  This will become an error two minor releases later.\n",
      "  plt.pcolormesh(x,y,Flux,cmap='gray')\n"
     ]
    },
    {
     "name": "stdout",
     "output_type": "stream",
     "text": [
      "/home/anu/Desktop/samapti/carrington/South hemisphere/ hmi.Synoptic_Mr.2292_SH.txt\n",
      "p = -13.879370710979437, q1 = 1.6328532229192603, r1=0.34318210691671863\n",
      "4.741778520312029\n"
     ]
    },
    {
     "name": "stderr",
     "output_type": "stream",
     "text": [
      "/tmp/ipykernel_63061/932251364.py:43: MatplotlibDeprecationWarning: shading='flat' when X and Y have the same dimensions as C is deprecated since 3.3.  Either specify the corners of the quadrilaterals with X and Y, or pass shading='auto', 'nearest' or 'gouraud', or set rcParams['pcolor.shading'].  This will become an error two minor releases later.\n",
      "  plt.pcolormesh(x,y,Flux,cmap='gray')\n"
     ]
    }
   ],
   "source": [
    "folder_path3=\"/home/anu/Desktop/samapti/carrington/South hemisphere\"\n",
    "Files = os.listdir(folder_path3)\n",
    "txt_files = glob.glob(os.path.join(folder_path3, '*.txt'))\n",
    "RMS=[]\n",
    "\n",
    "for Sfile in txt_files:\n",
    "    P=[]\n",
    "    Q=[]\n",
    "    print(Sfile)\n",
    "    with open (Sfile, \"r\") as infile:\n",
    "          for line in infile:\n",
    "            parts=line.split()\n",
    "            if len(parts)==2:\n",
    "                fhi=float(parts[0])\n",
    "                lamda=float(parts[1])\n",
    "                P.append(fhi)\n",
    "                Q.append(lamda)\n",
    "    M=np.array(P)\n",
    "    def model(lon,p,q1,r1):\n",
    "        S= (lon*np.pi)/180\n",
    "        return p+q1*np.sin(S+r1)\n",
    "    Params, Cov = curve_fit(model,M,Q,method = 'trf')\n",
    "    print(f\"p = {Params[0]}, q1 = {Params[1]}, r1={Params[2]}\")\n",
    "    Y=model(M, *Params)\n",
    "#print(SY)\n",
    "    SQ=np.subtract(Q,Y)\n",
    "#print(SQ)\n",
    "    mean=np.mean(SQ**2)\n",
    "#print(Smean)\n",
    "    rms=np.sqrt(mean)\n",
    "    print(rms)\n",
    "    RMS.append(rms)\n",
    "    #print(RMS)\n",
    "#print(Srms)\n",
    "    Error1=model(lon, *Params)+rms\n",
    "    Error2=model(lon, *Params)-rms\n",
    "    \n",
    "    base_name = os.path.basename(file).replace('.txt', '')\n",
    "    fig = plt.figure(figsize=(12,6))\n",
    "    plt.plot (lon,model(lon, *Params), color=\"Red\" ,linewidth=1)\n",
    "    plt.plot(lon,Error1, color=\"green\",linewidth=1)\n",
    "    plt.plot(lon,Error2, color=\"blue\",linewidth=1)\n",
    "    plt.pcolormesh(x,y,Flux,cmap='gray')\n",
    "\n",
    "    plt.xlabel(\"carington longitutde\", color=\"black\", fontsize=14, fontstyle=\"oblique\")\n",
    "    plt.ylabel(\" latitude\", color=\"black\", fontsize=14, fontstyle=\"oblique\")\n",
    "    image_name= f\" {base_name}_STF.jpeg\"\n",
    "    mag_image= os.path.join(save_dir4, image_name)\n",
    "    plt.savefig(mag_image, dpi=300)\n",
    "    plt.close(fig)"
   ]
  },
  {
   "cell_type": "code",
   "execution_count": 47,
   "id": "bd72e852",
   "metadata": {},
   "outputs": [
    {
     "name": "stdout",
     "output_type": "stream",
     "text": [
      "/home/anu/Desktop/samapti/carrington/South hemisphere/ synop_Mr_0.1960_SH.txt\n",
      "p = -18.023009087619254, q1 = 2.993716219999704, r1=3.208657495266965,q2=2.2820741112230647,r2=2.5880327035331856\n",
      "5.709271945403592\n"
     ]
    },
    {
     "name": "stderr",
     "output_type": "stream",
     "text": [
      "/tmp/ipykernel_63061/1758956083.py:42: MatplotlibDeprecationWarning: shading='flat' when X and Y have the same dimensions as C is deprecated since 3.3.  Either specify the corners of the quadrilaterals with X and Y, or pass shading='auto', 'nearest' or 'gouraud', or set rcParams['pcolor.shading'].  This will become an error two minor releases later.\n",
      "  plt.pcolormesh(x,y,Flux,cmap='gray')\n"
     ]
    }
   ],
   "source": [
    "folder_path3=\"/home/anu/Desktop/samapti/carrington/South hemisphere\"\n",
    "Files = os.listdir(folder_path3)\n",
    "txt_files = glob.glob(os.path.join(folder_path3, '*.txt'))\n",
    "\n",
    "for Sfile in txt_files:\n",
    "    P=[]\n",
    "    Q=[]\n",
    "    print(Sfile)\n",
    "    with open (Sfile, \"r\") as infile:\n",
    "          for line in infile:\n",
    "            parts=line.split()\n",
    "            if len(parts)==2:\n",
    "                fhi=float(parts[0])\n",
    "                lamda=float(parts[1])\n",
    "                P.append(fhi)\n",
    "                Q.append(lamda)\n",
    "    M=np.array(P)\n",
    "    def model(lon,p,q1,r1,q2,r2):\n",
    "        S= (lon*np.pi)/180\n",
    "        return p+q1*np.sin(S+r1)+q2*np.sin(2*S+r2)\n",
    "    Params2, Cov2 = curve_fit(model,M,Q,method = 'trf')\n",
    "    print(f\"p = {Params2[0]}, q1 = {Params2[1]}, r1={Params2[2]},q2={Params2[3]},r2={Params2[4]}\")\n",
    "    Y2=model(M, *Params2)\n",
    "#print(SY)\n",
    "    SQ=np.subtract(Q,Y2)\n",
    "#print(SQ)\n",
    "    mean=np.mean(SQ**2)\n",
    "#print(Smean)\n",
    "    rms=np.sqrt(mean)\n",
    "    print(rms)\n",
    "    RMS.append(rms)\n",
    "    #print(RMS)\n",
    "#print(Srms)\n",
    "    Error3=model(lon, *Params2)+rms\n",
    "    Error4=model(lon, *Params2)-rms\n",
    "    \n",
    "    base_name = os.path.basename(file).replace('.txt', '')\n",
    "    fig = plt.figure(figsize=(12,6))\n",
    "    plt.plot (lon,model(lon, *Params2), color=\"Red\" ,linewidth=1)\n",
    "    plt.plot(lon,Error3, color=\"green\",linewidth=1)\n",
    "    plt.plot(lon,Error4, color=\"blue\",linewidth=1)\n",
    "    plt.pcolormesh(x,y,Flux,cmap='gray')\n",
    "\n",
    "    plt.xlabel(\"carington longitutde\", color=\"black\", fontsize=14, fontstyle=\"oblique\")\n",
    "    plt.ylabel(\" latitude\", color=\"black\", fontsize=14, fontstyle=\"oblique\")\n",
    "    image_name= f\" {base_name}_STF2.jpeg\"\n",
    "    mag_image= os.path.join(save_dir4, image_name)\n",
    "    plt.savefig(mag_image, dpi=300)\n",
    "    plt.close(fig)"
   ]
  },
  {
   "cell_type": "code",
   "execution_count": 48,
   "id": "f2db1ef0",
   "metadata": {},
   "outputs": [
    {
     "name": "stdout",
     "output_type": "stream",
     "text": [
      "/home/anu/Desktop/samapti/carrington/South hemisphere/ synop_Mr_0.1960_SH.txt\n",
      "p = -17.676722111478234, q1 = 3.1869447471133747, r1=2.944962970284336,q2=2.8854739626579606,r2=1.9305967571940383,q3=2.65528154277843,r3=0.9657827297851601\n",
      "5.566362651523858\n"
     ]
    },
    {
     "name": "stderr",
     "output_type": "stream",
     "text": [
      "/tmp/ipykernel_63061/913870987.py:42: MatplotlibDeprecationWarning: shading='flat' when X and Y have the same dimensions as C is deprecated since 3.3.  Either specify the corners of the quadrilaterals with X and Y, or pass shading='auto', 'nearest' or 'gouraud', or set rcParams['pcolor.shading'].  This will become an error two minor releases later.\n",
      "  plt.pcolormesh(x,y,Flux,cmap='gray')\n"
     ]
    }
   ],
   "source": [
    "folder_path3=\"/home/anu/Desktop/samapti/carrington/South hemisphere\"\n",
    "Files = os.listdir(folder_path3)\n",
    "txt_files = glob.glob(os.path.join(folder_path3, '*.txt'))\n",
    "\n",
    "for Sfile in txt_files:\n",
    "    P=[]\n",
    "    Q=[]\n",
    "    print(Sfile)\n",
    "    with open (Sfile, \"r\") as infile:\n",
    "          for line in infile:\n",
    "            parts=line.split()\n",
    "            if len(parts)==2:\n",
    "                fhi=float(parts[0])\n",
    "                lamda=float(parts[1])\n",
    "                P.append(fhi)\n",
    "                Q.append(lamda)\n",
    "    M=np.array(P)\n",
    "    def model(lon,p,q1,r1,q2,r2,q3,r3):\n",
    "        S= (lon*np.pi)/180\n",
    "        return p+q1*np.sin(S+r1)+q2*np.sin(2*S+r2)+q3*np.sin(3*S+r3)\n",
    "    Params3, Cov3 = curve_fit(model,M,Q,method = 'trf')\n",
    "    print(f\"p = {Params3[0]}, q1 = {Params3[1]}, r1={Params3[2]},q2={Params3[3]},r2={Params3[4]},q3={Params3[5]},r3={Params3[6]}\")\n",
    "    Y3=model(M, *Params3)\n",
    "#print(SY)\n",
    "    SQ=np.subtract(Q,Y3)\n",
    "#print(SQ)\n",
    "    mean=np.mean(SQ**2)\n",
    "#print(Smean)\n",
    "    rms=np.sqrt(mean)\n",
    "    print(rms)\n",
    "    RMS.append(rms)\n",
    "    \n",
    "#print(Srms)\n",
    "    Error5=model(lon, *Params3)+rms\n",
    "    Error6=model(lon, *Params3)-rms\n",
    "    \n",
    "    base_name = os.path.basename(file).replace('.txt', '')\n",
    "    fig = plt.figure(figsize=(12,6))\n",
    "    plt.plot (lon,model(lon, *Params3), color=\"Red\" ,linewidth=1)\n",
    "    plt.plot(lon,Error5, color=\"green\",linewidth=1)\n",
    "    plt.plot(lon,Error6, color=\"blue\",linewidth=1)\n",
    "    plt.pcolormesh(x,y,Flux,cmap='gray')\n",
    "\n",
    "    plt.xlabel(\"carington longitutde\", color=\"black\", fontsize=14, fontstyle=\"oblique\")\n",
    "    plt.ylabel(\" latitude\", color=\"black\", fontsize=14, fontstyle=\"oblique\")\n",
    "    image_name= f\" {base_name}_STF3.jpeg\"\n",
    "    mag_image= os.path.join(save_dir4, image_name)\n",
    "    plt.savefig(mag_image, dpi=300)\n",
    "    plt.close(fig)"
   ]
  },
  {
   "cell_type": "code",
   "execution_count": 49,
   "id": "b119da84",
   "metadata": {},
   "outputs": [
    {
     "name": "stdout",
     "output_type": "stream",
     "text": [
      "/home/anu/Desktop/samapti/carrington/South hemisphere/ synop_Mr_0.1960_SH.txt\n",
      "p = -17.662790702299485, q1 = 3.731511973383825, r1=2.7179099644520015,q2=3.7283098072080665,r2=1.877430856537913,q3=2.649923229946058,r3=0.6821482938916621,q4=2.4333695053092277,r4=-0.30380598237169254\n",
      "5.394785217669893\n"
     ]
    },
    {
     "name": "stderr",
     "output_type": "stream",
     "text": [
      "/tmp/ipykernel_63061/2440765152.py:41: MatplotlibDeprecationWarning: shading='flat' when X and Y have the same dimensions as C is deprecated since 3.3.  Either specify the corners of the quadrilaterals with X and Y, or pass shading='auto', 'nearest' or 'gouraud', or set rcParams['pcolor.shading'].  This will become an error two minor releases later.\n",
      "  plt.pcolormesh(x,y,Flux,cmap='gray')\n"
     ]
    }
   ],
   "source": [
    "folder_path3=\"/home/anu/Desktop/samapti/carrington/South hemisphere\"\n",
    "Files = os.listdir(folder_path3)\n",
    "txt_files = glob.glob(os.path.join(folder_path3, '*.txt'))\n",
    "\n",
    "for Sfile in txt_files:\n",
    "    P=[]\n",
    "    Q=[]\n",
    "    print(Sfile)\n",
    "    with open (Sfile, \"r\") as infile:\n",
    "          for line in infile:\n",
    "            parts=line.split()\n",
    "            if len(parts)==2:\n",
    "                fhi=float(parts[0])\n",
    "                lamda=float(parts[1])\n",
    "                P.append(fhi)\n",
    "                Q.append(lamda)\n",
    "    M=np.array(P)\n",
    "    def model(lon,p,q1,r1,q2,r2,q3,r3,q4,r4):\n",
    "        S= (lon*np.pi)/180\n",
    "        return p+q1*np.sin(S+r1)+q2*np.sin(2*S+r2)+q3*np.sin(3*S+r3)+q4*np.sin(4*S+r4)\n",
    "    Params4, Cov4 = curve_fit(model,M,Q,method = 'trf')\n",
    "    print(f\"p = {Params4[0]}, q1 = {Params4[1]}, r1={Params4[2]},q2={Params4[3]},r2={Params4[4]},q3={Params4[5]},r3={Params4[6]},q4={Params4[7]},r4={Params4[8]}\")\n",
    "    Y4=model(M, *Params4)\n",
    "#print(SY)\n",
    "    SQ=np.subtract(Q,Y4)\n",
    "#print(SQ)\n",
    "    mean=np.mean(SQ**2)\n",
    "#print(Smean)\n",
    "    rms=np.sqrt(mean)\n",
    "    print(rms)\n",
    "    RMS.append(rms)\n",
    "#print(Srms)\n",
    "    Error7=model(lon, *Params4)+rms\n",
    "    Error8=model(lon, *Params4)-rms\n",
    "    \n",
    "    base_name = os.path.basename(file).replace('.txt', '')\n",
    "    fig = plt.figure(figsize=(12,6))\n",
    "    plt.plot (lon,model(lon, *Params4), color=\"Red\" ,linewidth=1)\n",
    "    plt.plot(lon,Error7, color=\"green\",linewidth=1)\n",
    "    plt.plot(lon,Error8, color=\"blue\",linewidth=1)\n",
    "    plt.pcolormesh(x,y,Flux,cmap='gray')\n",
    "\n",
    "    plt.xlabel(\"carington longitutde\", color=\"black\", fontsize=14, fontstyle=\"oblique\")\n",
    "    plt.ylabel(\" latitude\", color=\"black\", fontsize=14, fontstyle=\"oblique\")\n",
    "    image_name= f\" {base_name}_STF4.jpeg\"\n",
    "    mag_image= os.path.join(save_dir4, image_name)\n",
    "    plt.savefig(mag_image, dpi=300)\n",
    "    plt.close(fig)"
   ]
  },
  {
   "cell_type": "code",
   "execution_count": 50,
   "id": "a23b748c",
   "metadata": {},
   "outputs": [
    {
     "name": "stdout",
     "output_type": "stream",
     "text": [
      "/home/anu/Desktop/samapti/carrington/South hemisphere/ synop_Mr_0.1960_SH.txt\n",
      "p = -17.610485625788485, q1 = 4.021759138678438, r1=2.769902955616646,q2=3.3037270650478345,r2=1.8750770223970115,q3=2.7589729840163386,r3=0.5950583331629001,q4=2.88411499042464,r4=-0.38852277759554654,q5=1.580404433173207,r5=-1.1172455447090528\n",
      "5.310963102165824\n"
     ]
    },
    {
     "name": "stderr",
     "output_type": "stream",
     "text": [
      "/tmp/ipykernel_63061/2071667880.py:42: MatplotlibDeprecationWarning: shading='flat' when X and Y have the same dimensions as C is deprecated since 3.3.  Either specify the corners of the quadrilaterals with X and Y, or pass shading='auto', 'nearest' or 'gouraud', or set rcParams['pcolor.shading'].  This will become an error two minor releases later.\n",
      "  plt.pcolormesh(x,y,Flux,cmap='gray')\n"
     ]
    }
   ],
   "source": [
    "folder_path3=\"/home/anu/Desktop/samapti/carrington/South hemisphere\"\n",
    "Files = os.listdir(folder_path3)\n",
    "txt_files = glob.glob(os.path.join(folder_path3, '*.txt'))\n",
    "\n",
    "for Sfile in txt_files:\n",
    "    P=[]\n",
    "    Q=[]\n",
    "    print(Sfile)\n",
    "    with open (Sfile, \"r\") as infile:\n",
    "          for line in infile:\n",
    "            parts=line.split()\n",
    "            if len(parts)==2:\n",
    "                fhi=float(parts[0])\n",
    "                lamda=float(parts[1])\n",
    "                P.append(fhi)\n",
    "                Q.append(lamda)\n",
    "    M=np.array(P)\n",
    "    def model(lon,p,q1,r1,q2,r2,q3,r3,q4,r4,q5,r5):\n",
    "        S= (lon*np.pi)/180\n",
    "        return p+q1*np.sin(S+r1)+q2*np.sin(2*S+r2)+q3*np.sin(3*S+r3)+q4*np.sin(4*S+r4)+q5*np.sin(5*S+r5)\n",
    "    Params5, Cov5 = curve_fit(model,M,Q,method = 'trf')\n",
    "    print(f\"p = {Params5[0]}, q1 = {Params5[1]}, r1={Params5[2]},q2={Params5[3]},r2={Params5[4]},q3={Params5[5]},r3={Params5[6]},q4={Params5[7]},r4={Params5[8]},q5={Params5[9]},r5={Params5[10]}\")\n",
    "    Y5=model(M, *Params5)\n",
    "#print(SY)\n",
    "    SQ=np.subtract(Q,Y5)\n",
    "#print(SQ)\n",
    "    mean=np.mean(SQ**2)\n",
    "#print(Smean)\n",
    "    rms=np.sqrt(mean)\n",
    "    print(rms)\n",
    "    RMS.append(rms)\n",
    "    #print(RMS)\n",
    "#print(Srms)\n",
    "    Error9=model(lon, *Params5)+rms\n",
    "    Error10=model(lon, *Params5)-rms\n",
    "    \n",
    "    base_name = os.path.basename(file).replace('.txt', '')\n",
    "    fig = plt.figure(figsize=(12,6))\n",
    "    plt.plot (lon,model(lon, *Params5), color=\"Red\" ,linewidth=1)\n",
    "    plt.plot(lon,Error9, color=\"green\",linewidth=1)\n",
    "    plt.plot(lon,Error10, color=\"blue\",linewidth=1)\n",
    "    plt.pcolormesh(x,y,Flux,cmap='gray')\n",
    "\n",
    "    plt.xlabel(\"carington longitutde\", color=\"black\", fontsize=14, fontstyle=\"oblique\")\n",
    "    plt.ylabel(\" latitude\", color=\"black\", fontsize=14, fontstyle=\"oblique\")\n",
    "    image_name= f\" {base_name}_STF5.jpeg\"\n",
    "    mag_image= os.path.join(save_dir4, image_name)\n",
    "    plt.savefig(mag_image, dpi=300)\n",
    "    plt.close(fig)"
   ]
  },
  {
   "cell_type": "code",
   "execution_count": 51,
   "id": "e5ace435",
   "metadata": {},
   "outputs": [
    {
     "name": "stdout",
     "output_type": "stream",
     "text": [
      "/home/anu/Desktop/samapti/carrington/South hemisphere/ synop_Mr_0.1960_SH.txt\n",
      "p = -17.735489917941848, q1 = 3.8234565420493434, r1=2.8168731588825353,q2=3.20158491230236,r2=1.8828970460430023,q3=2.7032479766325164,r3=0.6011181390595008,q4=2.7913153424055483,r4=-0.419571692226919,q5=1.6203412364045846,r5=-1.2231157735730953,q6=-0.31786241699505347,r6=1.1643522987019967\n",
      "5.308418356080656\n"
     ]
    },
    {
     "name": "stderr",
     "output_type": "stream",
     "text": [
      "/tmp/ipykernel_63061/2989689259.py:42: MatplotlibDeprecationWarning: shading='flat' when X and Y have the same dimensions as C is deprecated since 3.3.  Either specify the corners of the quadrilaterals with X and Y, or pass shading='auto', 'nearest' or 'gouraud', or set rcParams['pcolor.shading'].  This will become an error two minor releases later.\n",
      "  plt.pcolormesh(x,y,Flux,cmap='gray')\n"
     ]
    }
   ],
   "source": [
    "folder_path3=\"/home/anu/Desktop/samapti/carrington/South hemisphere\"\n",
    "Files = os.listdir(folder_path3)\n",
    "txt_files = glob.glob(os.path.join(folder_path3, '*.txt'))\n",
    "\n",
    "for Sfile in txt_files:\n",
    "    P=[]\n",
    "    Q=[]\n",
    "    print(Sfile)\n",
    "    with open (Sfile, \"r\") as infile:\n",
    "          for line in infile:\n",
    "            parts=line.split()\n",
    "            if len(parts)==2:\n",
    "                fhi=float(parts[0])\n",
    "                lamda=float(parts[1])\n",
    "                P.append(fhi)\n",
    "                Q.append(lamda)\n",
    "    M=np.array(P)\n",
    "    def model(lon,p,q1,r1,q2,r2,q3,r3,q4,r4,q5,r5,q6,r6):\n",
    "        S= (lon*np.pi)/180\n",
    "        return p+q1*np.sin(S+r1)+q2*np.sin(2*S+r2)+q3*np.sin(3*S+r3)+q4*np.sin(4*S+r4)+q5*np.sin(5*S+r5)+q6*np.sin(6*S+r6)\n",
    "    Params6, Cov6 = curve_fit(model,M,Q,method = 'trf')\n",
    "    print(f\"p = {Params6[0]}, q1 = {Params6[1]}, r1={Params6[2]},q2={Params6[3]},r2={Params6[4]},q3={Params6[5]},r3={Params6[6]},q4={Params6[7]},r4={Params6[8]},q5={Params6[9]},r5={Params6[10]},q6={Params6[11]},r6={Params6[12]}\")\n",
    "    Y6=model(M, *Params6)\n",
    "#print(SY)\n",
    "    SQ=np.subtract(Q,Y6)\n",
    "#print(SQ)\n",
    "    mean=np.mean(SQ**2)\n",
    "#print(Smean)\n",
    "    rms=np.sqrt(mean)\n",
    "    print(rms)\n",
    "    RMS.append(rms)\n",
    "    #print(RMS)\n",
    "#print(Srms)\n",
    "    Error11=model(lon, *Params6)+rms\n",
    "    Error12=model(lon, *Params6)-rms\n",
    "    \n",
    "    base_name = os.path.basename(file).replace('.txt', '')\n",
    "    fig = plt.figure(figsize=(12,6))\n",
    "    plt.plot (lon,model(lon, *Params6), color=\"Red\" ,linewidth=1)\n",
    "    plt.plot(lon,Error11, color=\"green\",linewidth=1)\n",
    "    plt.plot(lon,Error12, color=\"blue\",linewidth=1)\n",
    "    plt.pcolormesh(x,y,Flux,cmap='gray')\n",
    "\n",
    "    plt.xlabel(\"carington longitutde\", color=\"black\", fontsize=14, fontstyle=\"oblique\")\n",
    "    plt.ylabel(\" latitude\", color=\"black\", fontsize=14, fontstyle=\"oblique\")\n",
    "    image_name= f\" {base_name}_STF6.jpeg\"\n",
    "    mag_image= os.path.join(save_dir4, image_name)\n",
    "    plt.savefig(mag_image, dpi=300)\n",
    "    plt.close(fig)"
   ]
  },
  {
   "cell_type": "code",
   "execution_count": 52,
   "id": "09ea19a0",
   "metadata": {},
   "outputs": [
    {
     "name": "stdout",
     "output_type": "stream",
     "text": [
      "/home/anu/Desktop/samapti/carrington/South hemisphere/ synop_Mr_0.1960_SH.txt\n",
      "p = -18.221244724972344, q1 = 4.2744713766856535, r1=3.1791558795091412,q2=2.6286046482522383,r2=2.445276143137297,q3=1.503618872712335,r3=0.4257054215700186,q4=2.342098686446767,r4=-0.8295438203602369,q5=1.6439110801049523,r5=-1.7568983087676964,q6=-1.1023321962601687,r6=-0.1300416857321991,q7=1.3097244048996557,r7=2.74059217206699\n",
      "5.274402456558634\n"
     ]
    },
    {
     "name": "stderr",
     "output_type": "stream",
     "text": [
      "/tmp/ipykernel_63061/2801736065.py:42: MatplotlibDeprecationWarning: shading='flat' when X and Y have the same dimensions as C is deprecated since 3.3.  Either specify the corners of the quadrilaterals with X and Y, or pass shading='auto', 'nearest' or 'gouraud', or set rcParams['pcolor.shading'].  This will become an error two minor releases later.\n",
      "  plt.pcolormesh(x,y,Flux,cmap='gray')\n"
     ]
    }
   ],
   "source": [
    "folder_path3=\"/home/anu/Desktop/samapti/carrington/South hemisphere\"\n",
    "Files = os.listdir(folder_path3)\n",
    "txt_files = glob.glob(os.path.join(folder_path3, '*.txt'))\n",
    "\n",
    "for Sfile in txt_files:\n",
    "    P=[]\n",
    "    Q=[]\n",
    "    print(Sfile)\n",
    "    with open (Sfile, \"r\") as infile:\n",
    "          for line in infile:\n",
    "            parts=line.split()\n",
    "            if len(parts)==2:\n",
    "                fhi=float(parts[0])\n",
    "                lamda=float(parts[1])\n",
    "                P.append(fhi)\n",
    "                Q.append(lamda)\n",
    "    M=np.array(P)\n",
    "    def model(lon,p,q1,r1,q2,r2,q3,r3,q4,r4,q5,r5,q6,r6,q7,r7):\n",
    "        S= (lon*np.pi)/180\n",
    "        return p+q1*np.sin(S+r1)+q2*np.sin(2*S+r2)+q3*np.sin(3*S+r3)+q4*np.sin(4*S+r4)+q5*np.sin(5*S+r5)+q6*np.sin(6*S+r6)+q7*np.sin(7*S+r7)\n",
    "    Params7, Cov7 = curve_fit(model,M,Q,method = 'trf')\n",
    "    print(f\"p = {Params7[0]}, q1 = {Params7[1]}, r1={Params7[2]},q2={Params7[3]},r2={Params7[4]},q3={Params7[5]},r3={Params7[6]},q4={Params7[7]},r4={Params7[8]},q5={Params7[9]},r5={Params7[10]},q6={Params7[11]},r6={Params7[12]},q7={Params7[13]},r7={Params7[14]}\")\n",
    "    Y7=model(M, *Params7)\n",
    "#print(SY)\n",
    "    SQ=np.subtract(Q,Y7)\n",
    "#print(SQ)\n",
    "    mean=np.mean(SQ**2)\n",
    "#print(Smean)\n",
    "    rms=np.sqrt(mean)\n",
    "    print(rms)\n",
    "    RMS.append(rms)\n",
    "    #print(RMS)\n",
    "#print(Srms)\n",
    "    Error13=model(lon, *Params7)+rms\n",
    "    Error14=model(lon, *Params7)-rms\n",
    "    \n",
    "    base_name = os.path.basename(file).replace('.txt', '')\n",
    "    fig = plt.figure(figsize=(12,6))\n",
    "    plt.plot (lon,model(lon, *Params7), color=\"Red\" ,linewidth=1)\n",
    "    plt.plot(lon,Error13, color=\"green\",linewidth=1)\n",
    "    plt.plot(lon,Error14, color=\"blue\",linewidth=1)\n",
    "    plt.pcolormesh(x,y,Flux,cmap='gray')\n",
    "\n",
    "    plt.xlabel(\"carington longitutde\", color=\"black\", fontsize=14, fontstyle=\"oblique\")\n",
    "    plt.ylabel(\" latitude\", color=\"black\", fontsize=14, fontstyle=\"oblique\")\n",
    "    image_name= f\" {base_name}_STF7.jpeg\"\n",
    "    mag_image= os.path.join(save_dir4, image_name)\n",
    "    plt.savefig(mag_image, dpi=300)\n",
    "    plt.close(fig)"
   ]
  },
  {
   "cell_type": "code",
   "execution_count": 53,
   "id": "c3e6e674",
   "metadata": {},
   "outputs": [
    {
     "name": "stdout",
     "output_type": "stream",
     "text": [
      "/home/anu/Desktop/samapti/carrington/South hemisphere/ synop_Mr_0.1960_SH.txt\n",
      "p = -18.395442658706084, q1 = 4.525938560130052, r1=3.262064245807189,q2=2.6100231525332704,r2=2.6732715881122653,q3=0.9901393267966689,r3=0.2349419294491009,q4=2.275149268838589,r4=-0.9761297616043525,q5=-1.7595268473248733,r5=7.524342958347038,q6=-1.332226415717868,r6=-0.11951569720664204,q7=1.606332933924349,r7=2.731579958410309,q8=0.4205530867633588,r8=2.669904200166163\n",
      "5.271050206644738\n"
     ]
    },
    {
     "name": "stderr",
     "output_type": "stream",
     "text": [
      "/tmp/ipykernel_63061/3514461285.py:42: MatplotlibDeprecationWarning: shading='flat' when X and Y have the same dimensions as C is deprecated since 3.3.  Either specify the corners of the quadrilaterals with X and Y, or pass shading='auto', 'nearest' or 'gouraud', or set rcParams['pcolor.shading'].  This will become an error two minor releases later.\n",
      "  plt.pcolormesh(x,y,Flux,cmap='gray')\n"
     ]
    }
   ],
   "source": [
    "folder_path3=\"/home/anu/Desktop/samapti/carrington/South hemisphere\"\n",
    "Files = os.listdir(folder_path3)\n",
    "txt_files = glob.glob(os.path.join(folder_path3, '*.txt'))\n",
    "\n",
    "for Sfile in txt_files:\n",
    "    P=[]\n",
    "    Q=[]\n",
    "    print(Sfile)\n",
    "    with open (Sfile, \"r\") as infile:\n",
    "          for line in infile:\n",
    "            parts=line.split()\n",
    "            if len(parts)==2:\n",
    "                fhi=float(parts[0])\n",
    "                lamda=float(parts[1])\n",
    "                P.append(fhi)\n",
    "                Q.append(lamda)\n",
    "    M=np.array(P)\n",
    "    def model(lon,p,q1,r1,q2,r2,q3,r3,q4,r4,q5,r5,q6,r6,q7,r7,q8,r8):\n",
    "        S= (lon*np.pi)/180\n",
    "        return p+q1*np.sin(S+r1)+q2*np.sin(2*S+r2)+q3*np.sin(3*S+r3)+q4*np.sin(4*S+r4)+q5*np.sin(5*S+r5)+q6*np.sin(6*S+r6)+q7*np.sin(7*S+r7)+q8*np.sin(8*S+r8)\n",
    "    Params8, Cov8 = curve_fit(model,M,Q,method = 'trf')\n",
    "    print(f\"p = {Params8[0]}, q1 = {Params8[1]}, r1={Params8[2]},q2={Params8[3]},r2={Params8[4]},q3={Params8[5]},r3={Params8[6]},q4={Params8[7]},r4={Params8[8]},q5={Params8[9]},r5={Params8[10]},q6={Params8[11]},r6={Params8[12]},q7={Params8[13]},r7={Params8[14]},q8={Params8[15]},r8={Params8[16]}\")\n",
    "    Y8=model(M, *Params8)\n",
    "#print(SY)\n",
    "    SQ=np.subtract(Q,Y8)\n",
    "#print(SQ)\n",
    "    mean=np.mean(SQ**2)\n",
    "#print(Smean)\n",
    "    rms=np.sqrt(mean)\n",
    "    print(rms)\n",
    "    RMS.append(rms)\n",
    "    #print(RMS)\n",
    "#print(Srms)\n",
    "    Error15=model(lon, *Params8)+rms\n",
    "    Error16=model(lon, *Params8)-rms\n",
    "    \n",
    "    base_name = os.path.basename(file).replace('.txt', '')\n",
    "    fig = plt.figure(figsize=(12,6))\n",
    "    plt.plot (lon,model(lon, *Params8), color=\"Red\" ,linewidth=1)\n",
    "    plt.plot(lon,Error15, color=\"green\",linewidth=1)\n",
    "    plt.plot(lon,Error16, color=\"blue\",linewidth=1)\n",
    "    plt.pcolormesh(x,y,Flux,cmap='gray')\n",
    "\n",
    "    plt.xlabel(\"carington longitutde\", color=\"black\", fontsize=14, fontstyle=\"oblique\")\n",
    "    plt.ylabel(\" latitude\", color=\"black\", fontsize=14, fontstyle=\"oblique\")\n",
    "    image_name= f\" {base_name}_STF8.jpeg\"\n",
    "    mag_image= os.path.join(save_dir4, image_name)\n",
    "    plt.savefig(mag_image, dpi=300)\n",
    "    plt.close(fig)"
   ]
  },
  {
   "cell_type": "code",
   "execution_count": 57,
   "id": "acdb719b",
   "metadata": {},
   "outputs": [
    {
     "name": "stdout",
     "output_type": "stream",
     "text": [
      "/home/anu/Desktop/samapti/carrington/South hemisphere/ synop_Mr_0.1960_SH.txt\n",
      "p = -19.9577233825881, q1 = 5.895711678076643, r1=3.715769306434961,q2=4.023500862505392,r2=3.360143300270503,q3=2.155776023221749,r3=3.7120521707726213,q4=2.8211614557833866,r4=-2.183820032768665,q5=2.835790044890877,r5=-2.5812480547256205,q6=-2.9039952460269625,r6=-0.23960486385286883,q7=3.111872390890272,r7=2.582317165788666,q8=2.105191753549183,r8=2.0540244771310716,q9=2.2449049894477704,r9=1.8054576725206564\n",
      "5.178317740057429\n"
     ]
    },
    {
     "name": "stderr",
     "output_type": "stream",
     "text": [
      "/tmp/ipykernel_63061/3439020623.py:42: MatplotlibDeprecationWarning: shading='flat' when X and Y have the same dimensions as C is deprecated since 3.3.  Either specify the corners of the quadrilaterals with X and Y, or pass shading='auto', 'nearest' or 'gouraud', or set rcParams['pcolor.shading'].  This will become an error two minor releases later.\n",
      "  plt.pcolormesh(x,y,Flux,cmap='gray')\n"
     ]
    }
   ],
   "source": [
    "folder_path3=\"/home/anu/Desktop/samapti/carrington/South hemisphere\"\n",
    "Files = os.listdir(folder_path3)\n",
    "txt_files = glob.glob(os.path.join(folder_path3, '*.txt'))\n",
    "\n",
    "for Sfile in txt_files:\n",
    "    P=[]\n",
    "    Q=[]\n",
    "    print(Sfile)\n",
    "    with open (Sfile, \"r\") as infile:\n",
    "          for line in infile:\n",
    "            parts=line.split()\n",
    "            if len(parts)==2:\n",
    "                fhi=float(parts[0])\n",
    "                lamda=float(parts[1])\n",
    "                P.append(fhi)\n",
    "                Q.append(lamda)\n",
    "    M=np.array(P)\n",
    "    def model(lon,p,q1,r1,q2,r2,q3,r3,q4,r4,q5,r5,q6,r6,q7,r7,q8,r8,q9,r9):\n",
    "        S= (lon*np.pi)/180\n",
    "        return p+q1*np.sin(S+r1)+q2*np.sin(2*S+r2)+q3*np.sin(3*S+r3)+q4*np.sin(4*S+r4)+q5*np.sin(5*S+r5)+q6*np.sin(6*S+r6)+q7*np.sin(7*S+r7)+q8*np.sin(8*S+r8)+q9*np.sin(9*S+r9)\n",
    "    Params9, Cov9 = curve_fit(model,M,Q,method = 'trf')\n",
    "    print(f\"p = {Params9[0]}, q1 = {Params9[1]}, r1={Params9[2]},q2={Params9[3]},r2={Params9[4]},q3={Params9[5]},r3={Params9[6]},q4={Params9[7]},r4={Params9[8]},q5={Params9[9]},r5={Params9[10]},q6={Params9[11]},r6={Params9[12]},q7={Params9[13]},r7={Params9[14]},q8={Params9[15]},r8={Params9[16]},q9={Params9[17]},r9={Params9[18]}\")\n",
    "    Y9=model(M, *Params9)\n",
    "#print(SY)\n",
    "    SQ=np.subtract(Q,Y9)\n",
    "#print(SQ)\n",
    "    mean=np.mean(SQ**2)\n",
    "#print(Smean)\n",
    "    rms=np.sqrt(mean)\n",
    "    print(rms)\n",
    "    RMS.append(rms)\n",
    "    #print(RMS)\n",
    "#print(Srms)\n",
    "    Error17=model(lon, *Params9)+rms\n",
    "    Error18=model(lon, *Params9)-rms\n",
    "    \n",
    "    base_name = os.path.basename(file).replace('.txt', '')\n",
    "    fig = plt.figure(figsize=(12,6))\n",
    "    plt.plot (lon,model(lon, *Params9), color=\"Red\" ,linewidth=1)\n",
    "    plt.plot(lon,Error17, color=\"green\",linewidth=1)\n",
    "    plt.plot(lon,Error18, color=\"blue\",linewidth=1)\n",
    "    plt.pcolormesh(x,y,Flux,cmap='gray')\n",
    "\n",
    "    plt.xlabel(\"carington longitutde\", color=\"black\", fontsize=14, fontstyle=\"oblique\")\n",
    "    plt.ylabel(\" latitude\", color=\"black\", fontsize=14, fontstyle=\"oblique\")\n",
    "    image_name= f\" {base_name}_STF9.jpeg\"\n",
    "    mag_image= os.path.join(save_dir4, image_name)\n",
    "    plt.savefig(mag_image, dpi=300)\n",
    "    plt.close(fig)"
   ]
  },
  {
   "cell_type": "code",
   "execution_count": 59,
   "id": "ba68eb09",
   "metadata": {},
   "outputs": [
    {
     "name": "stdout",
     "output_type": "stream",
     "text": [
      "/home/anu/Desktop/samapti/carrington/South hemisphere/ synop_Mr_0.1960_SH.txt\n",
      "p = -19.36820622216119, q1 = 5.137948783871174, r1=3.55934422047762,q2=3.452203379159575,r2=3.1904683918360965,q3=-1.3408309304933987,r3=0.6851456670757646,q4=2.139311415150913,r4=-1.867341371075402,q5=-2.0863137877690603,r5=0.7949826830494235,q6=-2.2127797701074443,r6=-0.2139492496130945,q7=2.58172409238049,r7=2.58478767844807,q8=1.6500963623753515,r8=2.0506353905072108,q9=1.647626745918492,r9=1.8014980226489854,q10=0.7486307966538897,r10=-1.2248585900128819\n",
      "5.16757197991091\n"
     ]
    },
    {
     "name": "stderr",
     "output_type": "stream",
     "text": [
      "/tmp/ipykernel_63061/2110041423.py:42: MatplotlibDeprecationWarning: shading='flat' when X and Y have the same dimensions as C is deprecated since 3.3.  Either specify the corners of the quadrilaterals with X and Y, or pass shading='auto', 'nearest' or 'gouraud', or set rcParams['pcolor.shading'].  This will become an error two minor releases later.\n",
      "  plt.pcolormesh(x,y,Flux,cmap='gray')\n"
     ]
    }
   ],
   "source": [
    "folder_path3=\"/home/anu/Desktop/samapti/carrington/South hemisphere\"\n",
    "Files = os.listdir(folder_path3)\n",
    "txt_files = glob.glob(os.path.join(folder_path3, '*.txt'))\n",
    "\n",
    "for Sfile in txt_files:\n",
    "    P=[]\n",
    "    Q=[]\n",
    "    print(Sfile)\n",
    "    with open (Sfile, \"r\") as infile:\n",
    "          for line in infile:\n",
    "            parts=line.split()\n",
    "            if len(parts)==2:\n",
    "                fhi=float(parts[0])\n",
    "                lamda=float(parts[1])\n",
    "                P.append(fhi)\n",
    "                Q.append(lamda)\n",
    "    M=np.array(P)\n",
    "    def model(lon,p,q1,r1,q2,r2,q3,r3,q4,r4,q5,r5,q6,r6,q7,r7,q8,r8,q9,r9,q10,r10):\n",
    "        S= (lon*np.pi)/180\n",
    "        return p+q1*np.sin(S+r1)+q2*np.sin(2*S+r2)+q3*np.sin(3*S+r3)+q4*np.sin(4*S+r4)+q5*np.sin(5*S+r5)+q6*np.sin(6*S+r6)+q7*np.sin(7*S+r7)+q8*np.sin(8*S+r8)+q9*np.sin(9*S+r9)+q10*np.sin(10*S+r10)\n",
    "    Params10, Cov10 = curve_fit(model,M,Q,method = 'trf')\n",
    "    print(f\"p = {Params10[0]}, q1 = {Params10[1]}, r1={Params10[2]},q2={Params10[3]},r2={Params10[4]},q3={Params10[5]},r3={Params10[6]},q4={Params10[7]},r4={Params10[8]},q5={Params10[9]},r5={Params10[10]},q6={Params10[11]},r6={Params10[12]},q7={Params10[13]},r7={Params10[14]},q8={Params10[15]},r8={Params10[16]},q9={Params10[17]},r9={Params10[18]},q10={Params10[19]},r10={Params10[20]}\")\n",
    "    Y10=model(M, *Params10)\n",
    "#print(SY)\n",
    "    SQ=np.subtract(Q,Y10)\n",
    "#print(SQ)\n",
    "    mean=np.mean(SQ**2)\n",
    "#print(Smean)\n",
    "    rms=np.sqrt(mean)\n",
    "    print(rms)\n",
    "    #RMS.append(rms)\n",
    "    #print(RMS)\n",
    "#print(Srms)\n",
    "    Error19=model(lon, *Params10)+rms\n",
    "    Error20=model(lon, *Params10)-rms\n",
    "    \n",
    "    base_name = os.path.basename(file).replace('.txt', '')\n",
    "    fig = plt.figure(figsize=(12,6))\n",
    "    plt.plot (lon,model(lon, *Params10), color=\"Red\" ,linewidth=1)\n",
    "    plt.plot(lon,Error19, color=\"green\",linewidth=1)\n",
    "    plt.plot(lon,Error20, color=\"blue\",linewidth=1)\n",
    "    plt.pcolormesh(x,y,Flux,cmap='gray')\n",
    "\n",
    "    plt.xlabel(\"carington longitutde\", color=\"black\", fontsize=14, fontstyle=\"oblique\")\n",
    "    plt.ylabel(\" latitude\", color=\"black\", fontsize=14, fontstyle=\"oblique\")\n",
    "    image_name= f\" {base_name}_STF10.jpeg\"\n",
    "    mag_image= os.path.join(save_dir4, image_name)\n",
    "    plt.savefig(mag_image, dpi=300)\n",
    "    plt.close(fig)\n"
   ]
  },
  {
   "cell_type": "code",
   "execution_count": 55,
   "id": "05cf9e55",
   "metadata": {},
   "outputs": [
    {
     "data": {
      "text/plain": [
       "[<matplotlib.lines.Line2D at 0x7f34a711f550>]"
      ]
     },
     "execution_count": 55,
     "metadata": {},
     "output_type": "execute_result"
    },
    {
     "data": {
      "image/png": "[encoded data removed]",
      "text/plain": [
       "<Figure size 432x288 with 1 Axes>"
      ]
     },
     "metadata": {
      "needs_background": "light"
     },
     "output_type": "display_data"
    }
   ],
   "source": [
    "M=[1,2,3,4,5,6,7,8,9]\n",
    "\n",
    "plt.plot(M,RMS)"
   ]
  },
  {
   "cell_type": "code",
   "execution_count": 91,
   "id": "183ff437",
   "metadata": {},
   "outputs": [
    {
     "name": "stdout",
     "output_type": "stream",
     "text": [
      "/home/anu/Desktop/samapti/carrington/North hemisphere/ synop_Mr_0.1960_NH.txt\n",
      "a= 18.476026518428423, b= 1.9253667330208963, c=3.1742824914212493\n",
      "8.573605809854731\n"
     ]
    },
    {
     "name": "stderr",
     "output_type": "stream",
     "text": [
      "/tmp/ipykernel_63061/2925852267.py:44: MatplotlibDeprecationWarning: shading='flat' when X and Y have the same dimensions as C is deprecated since 3.3.  Either specify the corners of the quadrilaterals with X and Y, or pass shading='auto', 'nearest' or 'gouraud', or set rcParams['pcolor.shading'].  This will become an error two minor releases later.\n",
      "  plt.pcolormesh(x,y,Flux,cmap='gray')\n"
     ]
    }
   ],
   "source": [
    "folder_path3=\"/home/anu/Desktop/samapti/carrington/North hemisphere\"\n",
    "Files = os.listdir(folder_path3)\n",
    "txt_files = glob.glob(os.path.join(folder_path3, '*.txt'))\n",
    "RMS=[]\n",
    "\n",
    "for Nfile in txt_files:\n",
    "    A=[]\n",
    "    B=[]\n",
    "    print(Nfile)\n",
    "    with open (Nfile, \"r\") as infile:\n",
    "          for line in infile:\n",
    "            parts=line.split()\n",
    "            if len(parts)==2:\n",
    "                fhi=float(parts[0])\n",
    "                lamda=float(parts[1])\n",
    "                A.append(fhi)\n",
    "                B.append(lamda)\n",
    "    N=np.array(A)\n",
    "    def model(lon,a,b1,c1):\n",
    "        S= (lon*np.pi)/180\n",
    "        return a+b1*np.sin(S+c1)\n",
    "    params1, Cov1 = curve_fit(model,N,B,method = 'trf')\n",
    "    print(f\"a= {params1[0]}, b= {params1[1]}, c={params1[2]}\")\n",
    "    Y1=model(N, *params1)\n",
    "#print(SY)\n",
    "    NB=np.subtract(B,Y1)\n",
    "#print(SQ)\n",
    "    mean=np.mean(NB**2)\n",
    "#print(Smean)\n",
    "    rms=np.sqrt(mean)\n",
    "    print(rms)\n",
    "    RMS.append(rms)\n",
    "    \n",
    "    \n",
    "#print(Srms)\n",
    "    error1=model(lon, *params1)+rms\n",
    "    error2=model(lon, *params1)-rms\n",
    "    \n",
    "    base_name = os.path.basename(file).replace('.txt', '')\n",
    "    fig = plt.figure(figsize=(12,6))\n",
    "    plt.plot (lon,model(lon, *params1), color=\"Red\" ,linewidth=1)\n",
    "    plt.plot(lon,error1, color=\"green\",linewidth=1)\n",
    "    plt.plot(lon,error2, color=\"blue\",linewidth=1)\n",
    "    plt.pcolormesh(x,y,Flux,cmap='gray')\n",
    "\n",
    "    plt.xlabel(\"carington longitutde\", color=\"black\", fontsize=14, fontstyle=\"oblique\")\n",
    "    plt.ylabel(\" latitude\", color=\"black\", fontsize=14, fontstyle=\"oblique\")\n",
    "    image_name= f\" {base_name}_NTF.jpeg\"\n",
    "    mag_image= os.path.join(save_dir4, image_name)\n",
    "    plt.savefig(mag_image, dpi=300)\n",
    "    plt.close(fig)"
   ]
  },
  {
   "cell_type": "code",
   "execution_count": 92,
   "id": "7e433a5f",
   "metadata": {},
   "outputs": [
    {
     "name": "stdout",
     "output_type": "stream",
     "text": [
      "/home/anu/Desktop/samapti/carrington/North hemisphere/ synop_Mr_0.1960_NH.txt\n",
      "a= 19.745648756475322, b1= 2.4529641665282553, c1=4.079915500424769,b2=-2.7351656516635034,c2=17.91116118528341\n",
      "8.412081580588778\n"
     ]
    },
    {
     "name": "stderr",
     "output_type": "stream",
     "text": [
      "/tmp/ipykernel_63061/1812859256.py:40: MatplotlibDeprecationWarning: shading='flat' when X and Y have the same dimensions as C is deprecated since 3.3.  Either specify the corners of the quadrilaterals with X and Y, or pass shading='auto', 'nearest' or 'gouraud', or set rcParams['pcolor.shading'].  This will become an error two minor releases later.\n",
      "  plt.pcolormesh(x,y,Flux,cmap='gray')\n"
     ]
    }
   ],
   "source": [
    "folder_path3=\"/home/anu/Desktop/samapti/carrington/North hemisphere\"\n",
    "Files = os.listdir(folder_path3)\n",
    "txt_files = glob.glob(os.path.join(folder_path3, '*.txt'))\n",
    "\n",
    "for Nfile in txt_files:\n",
    "    A=[]\n",
    "    B=[]\n",
    "    print(Nfile)\n",
    "    with open (Nfile, \"r\") as infile:\n",
    "          for line in infile:\n",
    "            parts=line.split()\n",
    "            if len(parts)==2:\n",
    "                fhi=float(parts[0])\n",
    "                lamda=float(parts[1])\n",
    "                A.append(fhi)\n",
    "                B.append(lamda)\n",
    "    N=np.array(A)\n",
    "    def model(lon,a,b1,c1,b2,c2):\n",
    "        S= (lon*np.pi)/180\n",
    "        return a+b1*np.sin(S+c1)+b2*np.sin(2*S+c2)\n",
    "    params2, Cov2 = curve_fit(model,N,B,method = 'trf')\n",
    "    print(f\"a= {params2[0]}, b1= {params2[1]}, c1={params2[2]},b2={params2[3]},c2={params2[4]}\")\n",
    "    Y2=model(N, *params2)\n",
    "#print(SY)\n",
    "    NB=np.subtract(B,Y2)\n",
    "#print(SQ)\n",
    "    mean=np.mean(NB**2)\n",
    "#print(Smean)\n",
    "    rms=np.sqrt(mean)\n",
    "    print(rms)\n",
    "    RMS.append(rms)\n",
    "    error3=model(lon, *params2)+rms\n",
    "    error4=model(lon, *params2)-rms\n",
    "    \n",
    "    base_name = os.path.basename(file).replace('.txt', '')\n",
    "    fig = plt.figure(figsize=(12,6))\n",
    "    plt.plot (lon,model(lon, *params2), color=\"Red\" ,linewidth=1)\n",
    "    plt.plot(lon,error3, color=\"green\",linewidth=1)\n",
    "    plt.plot(lon,error4, color=\"blue\",linewidth=1)\n",
    "    plt.pcolormesh(x,y,Flux,cmap='gray')\n",
    "\n",
    "    plt.xlabel(\"carington longitutde\", color=\"black\", fontsize=14, fontstyle=\"oblique\")\n",
    "    plt.ylabel(\" latitude\", color=\"black\", fontsize=14, fontstyle=\"oblique\")\n",
    "    image_name= f\" {base_name}_NTF2.jpeg\"\n",
    "    mag_image= os.path.join(save_dir4, image_name)\n",
    "    plt.savefig(mag_image, dpi=300)\n",
    "    plt.close(fig)"
   ]
  },
  {
   "cell_type": "code",
   "execution_count": 93,
   "id": "c3af6edb",
   "metadata": {},
   "outputs": [
    {
     "name": "stdout",
     "output_type": "stream",
     "text": [
      "/home/anu/Desktop/samapti/carrington/North hemisphere/ synop_Mr_0.1960_NH.txt\n",
      "a= 19.592210087269294, b1= 2.589349676703581, c1=4.096763787509294,b2=-4.084720941988768,c2=-1.2635681417980273,b3=2.803787677633395,c3=-0.8460868185768674\n",
      "8.266635177637706\n"
     ]
    },
    {
     "name": "stderr",
     "output_type": "stream",
     "text": [
      "/tmp/ipykernel_63061/3437304033.py:40: MatplotlibDeprecationWarning: shading='flat' when X and Y have the same dimensions as C is deprecated since 3.3.  Either specify the corners of the quadrilaterals with X and Y, or pass shading='auto', 'nearest' or 'gouraud', or set rcParams['pcolor.shading'].  This will become an error two minor releases later.\n",
      "  plt.pcolormesh(x,y,Flux,cmap='gray')\n"
     ]
    }
   ],
   "source": [
    "folder_path3=\"/home/anu/Desktop/samapti/carrington/North hemisphere\"\n",
    "Files = os.listdir(folder_path3)\n",
    "txt_files = glob.glob(os.path.join(folder_path3, '*.txt'))\n",
    "\n",
    "for Nfile in txt_files:\n",
    "    A=[]\n",
    "    B=[]\n",
    "    print(Nfile)\n",
    "    with open (Nfile, \"r\") as infile:\n",
    "          for line in infile:\n",
    "            parts=line.split()\n",
    "            if len(parts)==2:\n",
    "                fhi=float(parts[0])\n",
    "                lamda=float(parts[1])\n",
    "                A.append(fhi)\n",
    "                B.append(lamda)\n",
    "    N=np.array(A)\n",
    "    def model(lon,a,b1,c1,b2,c2,b3,c3):\n",
    "        S= (lon*np.pi)/180\n",
    "        return a+b1*np.sin(S+c1)+b2*np.sin(2*S+c2)+b3*np.sin(3*S+c3)\n",
    "    params3, Cov3 = curve_fit(model,N,B,method = 'trf')\n",
    "    print(f\"a= {params3[0]}, b1= {params3[1]}, c1={params3[2]},b2={params3[3]},c2={params3[4]},b3={params3[5]},c3={params3[6]}\")\n",
    "    Y3=model(N, *params3)\n",
    "#print(SY)\n",
    "    NB=np.subtract(B,Y3)\n",
    "#print(SQ)\n",
    "    mean=np.mean(NB**2)\n",
    "#print(Smean)\n",
    "    rms=np.sqrt(mean)\n",
    "    print(rms)\n",
    "    RMS.append(rms)\n",
    "    error5=model(lon, *params3)+rms\n",
    "    error6=model(lon, *params3)-rms\n",
    "    \n",
    "    base_name = os.path.basename(file).replace('.txt', '')\n",
    "    fig = plt.figure(figsize=(12,6))\n",
    "    plt.plot (lon,model(lon, *params3), color=\"Red\" ,linewidth=1)\n",
    "    plt.plot(lon,error5, color=\"green\",linewidth=1)\n",
    "    plt.plot(lon,error6, color=\"blue\",linewidth=1)\n",
    "    plt.pcolormesh(x,y,Flux,cmap='gray')\n",
    "\n",
    "    plt.xlabel(\"carington longitutde\", color=\"black\", fontsize=14, fontstyle=\"oblique\")\n",
    "    plt.ylabel(\" latitude\", color=\"black\", fontsize=14, fontstyle=\"oblique\")\n",
    "    image_name= f\" {base_name}_NTF3.jpeg\"\n",
    "    mag_image= os.path.join(save_dir4, image_name)\n",
    "    plt.savefig(mag_image, dpi=300)\n",
    "    plt.close(fig)"
   ]
  },
  {
   "cell_type": "code",
   "execution_count": 94,
   "id": "ce8eddf2",
   "metadata": {},
   "outputs": [
    {
     "name": "stdout",
     "output_type": "stream",
     "text": [
      "/home/anu/Desktop/samapti/carrington/North hemisphere/ synop_Mr_0.1960_NH.txt\n",
      "a= 21.02774268768572, b1= -2.5815742600675975, c1=14.134532942159518,b2=-2.454563832433087,c2=-1.4930566059387025,b3=-0.4589100544653747,c3=-1.350576436557473,b4=5.56080025027376,c4=-0.4014702848815793\n",
      "7.723949023659128\n"
     ]
    },
    {
     "name": "stderr",
     "output_type": "stream",
     "text": [
      "/tmp/ipykernel_63061/1212127801.py:40: MatplotlibDeprecationWarning: shading='flat' when X and Y have the same dimensions as C is deprecated since 3.3.  Either specify the corners of the quadrilaterals with X and Y, or pass shading='auto', 'nearest' or 'gouraud', or set rcParams['pcolor.shading'].  This will become an error two minor releases later.\n",
      "  plt.pcolormesh(x,y,Flux,cmap='gray')\n"
     ]
    }
   ],
   "source": [
    "folder_path3=\"/home/anu/Desktop/samapti/carrington/North hemisphere\"\n",
    "Files = os.listdir(folder_path3)\n",
    "txt_files = glob.glob(os.path.join(folder_path3, '*.txt'))\n",
    "\n",
    "for Nfile in txt_files:\n",
    "    A=[]\n",
    "    B=[]\n",
    "    print(Nfile)\n",
    "    with open (Nfile, \"r\") as infile:\n",
    "          for line in infile:\n",
    "            parts=line.split()\n",
    "            if len(parts)==2:\n",
    "                fhi=float(parts[0])\n",
    "                lamda=float(parts[1])\n",
    "                A.append(fhi)\n",
    "                B.append(lamda)\n",
    "    N=np.array(A)\n",
    "    def model(lon,a,b1,c1,b2,c2,b3,c3,b4,c4):\n",
    "        S= (lon*np.pi)/180\n",
    "        return a+b1*np.sin(S+c1)+b2*np.sin(2*S+c2)+b3*np.sin(3*S+c3)+b4*np.sin(4*S+c4)\n",
    "    params4, Cov4 = curve_fit(model,N,B,method = 'trf')\n",
    "    print(f\"a= {params4[0]}, b1= {params4[1]}, c1={params4[2]},b2={params4[3]},c2={params4[4]},b3={params4[5]},c3={params4[6]},b4={params4[7]},c4={params4[8]}\")\n",
    "    Y4=model(N, *params4)\n",
    "#print(SY)\n",
    "    NB=np.subtract(B,Y4)\n",
    "#print(SQ)\n",
    "    mean=np.mean(NB**2)\n",
    "#print(Smean)\n",
    "    rms=np.sqrt(mean)\n",
    "    print(rms)\n",
    "    RMS.append(rms)\n",
    "    error7=model(lon, *params4)+rms\n",
    "    error8=model(lon, *params4)-rms\n",
    "    \n",
    "    base_name = os.path.basename(file).replace('.txt', '')\n",
    "    fig = plt.figure(figsize=(12,6))\n",
    "    plt.plot (lon,model(lon, *params4), color=\"Red\" ,linewidth=1)\n",
    "    plt.plot(lon,error7, color=\"green\",linewidth=1)\n",
    "    plt.plot(lon,error8, color=\"blue\",linewidth=1)\n",
    "    plt.pcolormesh(x,y,Flux,cmap='gray')\n",
    "\n",
    "    plt.xlabel(\"carington longitutde\", color=\"black\", fontsize=14, fontstyle=\"oblique\")\n",
    "    plt.ylabel(\" latitude\", color=\"black\", fontsize=14, fontstyle=\"oblique\")\n",
    "    image_name= f\" {base_name}_NTF4.jpeg\"\n",
    "    mag_image= os.path.join(save_dir4, image_name)\n",
    "    plt.savefig(mag_image, dpi=300)\n",
    "    plt.close(fig)"
   ]
  },
  {
   "cell_type": "code",
   "execution_count": 95,
   "id": "0a03a6b9",
   "metadata": {},
   "outputs": [
    {
     "name": "stdout",
     "output_type": "stream",
     "text": [
      "a= 20.433786956916677, b1= -1.0807570404429558, c1=1.1723575313804895,b2=-2.220962101466413,c2=-1.7724736615928174,b3=1.0159896467972942,c3=-7.628742656436366,b4=4.174699411465753,c4=0.04974685234779042,b5=3.606077252473304,c5=-0.6647252321299327\n",
      "7.573995807211322\n"
     ]
    },
    {
     "name": "stderr",
     "output_type": "stream",
     "text": [
      "/tmp/ipykernel_63061/4006259608.py:40: MatplotlibDeprecationWarning: shading='flat' when X and Y have the same dimensions as C is deprecated since 3.3.  Either specify the corners of the quadrilaterals with X and Y, or pass shading='auto', 'nearest' or 'gouraud', or set rcParams['pcolor.shading'].  This will become an error two minor releases later.\n",
      "  plt.pcolormesh(x,y,Flux,cmap='gray')\n"
     ]
    }
   ],
   "source": [
    "\n",
    "folder_path3=\"/home/anu/Desktop/samapti/carrington/North hemisphere\"\n",
    "Files = os.listdir(folder_path3)\n",
    "txt_files = glob.glob(os.path.join(folder_path3, '*.txt'))\n",
    "\n",
    "for Nfile in txt_files:\n",
    "    A=[]\n",
    "    B=[]\n",
    " \n",
    "    with open (Nfile, \"r\") as infile:\n",
    "          for line in infile:\n",
    "            parts=line.split()\n",
    "            if len(parts)==2:\n",
    "                fhi=float(parts[0])\n",
    "                lamda=float(parts[1])\n",
    "                A.append(fhi)\n",
    "                B.append(lamda)\n",
    "    N=np.array(A)\n",
    "    def model(lon,a,b1,c1,b2,c2,b3,c3,b4,c4,b5,c5):\n",
    "        S= (lon*np.pi)/180\n",
    "        return a+b1*np.sin(S+c1)+b2*np.sin(2*S+c2)+b3*np.sin(3*S+c3)+b4*np.sin(4*S+c4)+b5*np.sin(5*S+c5)\n",
    "    params5, Cov5 = curve_fit(model,N,B,method = 'trf')\n",
    "    print(f\"a= {params5[0]}, b1= {params5[1]}, c1={params5[2]},b2={params5[3]},c2={params5[4]},b3={params5[5]},c3={params5[6]},b4={params5[7]},c4={params5[8]},b5={params5[9]},c5={params5[10]}\")\n",
    "    Y5=model(N, *params5)\n",
    "#print(SY)\n",
    "    NB=np.subtract(B,Y5)\n",
    "#print(SQ)\n",
    "    mean=np.mean(NB**2)\n",
    "#print(Smean)\n",
    "    rms=np.sqrt(mean)\n",
    "    print(rms)\n",
    "    RMS.append(rms)\n",
    "    error9=model(lon, *params5)+rms\n",
    "    error10=model(lon, *params5)-rms\n",
    "    \n",
    "    base_name = os.path.basename(file).replace('.txt', '')\n",
    "    fig = plt.figure(figsize=(12,6))\n",
    "    plt.plot (lon,model(lon, *params5), color=\"Red\" ,linewidth=1)\n",
    "    plt.plot(lon,error9, color=\"green\",linewidth=1)\n",
    "    plt.plot(lon,error10, color=\"blue\",linewidth=1)\n",
    "    plt.pcolormesh(x,y,Flux,cmap='gray')\n",
    "\n",
    "    plt.xlabel(\"carington longitutde\", color=\"black\", fontsize=14, fontstyle=\"oblique\")\n",
    "    plt.ylabel(\" latitude\", color=\"black\", fontsize=14, fontstyle=\"oblique\")\n",
    "    image_name= f\" {base_name}_NTF5.jpeg\"\n",
    "    mag_image= os.path.join(save_dir4, image_name)\n",
    "    plt.savefig(mag_image, dpi=300)\n",
    "    plt.close(fig)\n"
   ]
  },
  {
   "cell_type": "code",
   "execution_count": 102,
   "id": "f0181baa",
   "metadata": {},
   "outputs": [
    {
     "name": "stdout",
     "output_type": "stream",
     "text": [
      "/home/anu/Desktop/samapti/carrington/North hemisphere/ synop_Mr_0.1960_NH.txt\n",
      "a= 20.213672681088394, b1= -0.8912971965711816, c1=1.3167412624037338,b2=-1.742729136933709,c2=-1.5046658726414044,b3=0.941384374857087,c3=-1.0212770893048044,b4=4.037914583612353,c4=0.13142766484184168,b5=-3.77135558184117,c5=-10.37039004084626,b6=1.595957539928281,c6=1.6412037062161773\n",
      "7.53585596108201\n"
     ]
    },
    {
     "name": "stderr",
     "output_type": "stream",
     "text": [
      "/tmp/ipykernel_63061/1595254111.py:40: MatplotlibDeprecationWarning: shading='flat' when X and Y have the same dimensions as C is deprecated since 3.3.  Either specify the corners of the quadrilaterals with X and Y, or pass shading='auto', 'nearest' or 'gouraud', or set rcParams['pcolor.shading'].  This will become an error two minor releases later.\n",
      "  plt.pcolormesh(x,y,Flux,cmap='gray')\n"
     ]
    }
   ],
   "source": [
    "folder_path3=\"/home/anu/Desktop/samapti/carrington/North hemisphere\"\n",
    "Files = os.listdir(folder_path3)\n",
    "txt_files = glob.glob(os.path.join(folder_path3, '*.txt'))\n",
    "\n",
    "for Nfile in txt_files:\n",
    "    A=[]\n",
    "    B=[]\n",
    "    print(Nfile)\n",
    "    with open (Nfile, \"r\") as infile:\n",
    "          for line in infile:\n",
    "            parts=line.split()\n",
    "            if len(parts)==2:\n",
    "                fhi=float(parts[0])\n",
    "                lamda=float(parts[1])\n",
    "                A.append(fhi)\n",
    "                B.append(lamda)\n",
    "    N=np.array(A)\n",
    "    def model(lon,a,b1,c1,b2,c2,b3,c3,b4,c4,b5,c5,b6,c6):\n",
    "        S= (lon*np.pi)/180\n",
    "        return a+b1*np.sin(S+c1)+b2*np.sin(2*S+c2)+b3*np.sin(3*S+c3)+b4*np.sin(4*S+c4)+b5*np.sin(5*S+c5)+b6*np.sin(6*S+c6)\n",
    "    params6, Cov6 = curve_fit(model,N,B,method = 'trf')\n",
    "    print(f\"a= {params6[0]}, b1= {params6[1]}, c1={params6[2]},b2={params6[3]},c2={params6[4]},b3={params6[5]},c3={params6[6]},b4={params6[7]},c4={params6[8]},b5={params6[9]},c5={params6[10]},b6={params6[11]},c6={params6[12]}\")\n",
    "    Y6=model(N, *params6)\n",
    "#print(SY)\n",
    "    NB=np.subtract(B,Y6)\n",
    "#print(SQ)\n",
    "    mean=np.mean(NB**2)\n",
    "#print(Smean)\n",
    "    rms=np.sqrt(mean)\n",
    "    print(rms)\n",
    "    RMS.append(rms)\n",
    "    error11=model(lon, *params6)+rms\n",
    "    error12=model(lon, *params6)-rms\n",
    "    \n",
    "    base_name = os.path.basename(file).replace('.txt', '')\n",
    "    fig = plt.figure(figsize=(12,6))\n",
    "    plt.plot (lon,model(lon, *params6), color=\"Red\" ,linewidth=1)\n",
    "    plt.plot(lon,error11, color=\"green\",linewidth=1)\n",
    "    plt.plot(lon,error12, color=\"blue\",linewidth=1)\n",
    "    plt.pcolormesh(x,y,Flux,cmap='gray')\n",
    "\n",
    "    plt.xlabel(\"carington longitutde\", color=\"black\", fontsize=14, fontstyle=\"oblique\")\n",
    "    plt.ylabel(\" latitude\", color=\"black\", fontsize=14, fontstyle=\"oblique\")\n",
    "    image_name= f\" {base_name}_NTF6.jpeg\"\n",
    "    mag_image= os.path.join(save_dir4, image_name)\n",
    "    plt.close(fig)"
   ]
  },
  {
   "cell_type": "code",
   "execution_count": 97,
   "id": "275438d8",
   "metadata": {},
   "outputs": [
    {
     "name": "stdout",
     "output_type": "stream",
     "text": [
      "/home/anu/Desktop/samapti/carrington/North hemisphere/ synop_Mr_0.1960_NH.txt\n",
      "a= 20.300278541185683, b1= -1.1197852808619329, c1=1.2069976083713208,b2=-1.7000384447265704,c2=-1.7083364117686592,b3=-1.0110631902726512,c3=1.718812053164453,b4=3.7497485649143054,c4=0.16295766541187195,b5=3.17814195880098,c5=11.697024794333728,b6=0.8111556710160203,c6=1.612885772947902,b7=1.426581744229648,c7=8.652682008825286\n",
      "7.493124143480662\n"
     ]
    },
    {
     "name": "stderr",
     "output_type": "stream",
     "text": [
      "/tmp/ipykernel_63061/280359294.py:40: MatplotlibDeprecationWarning: shading='flat' when X and Y have the same dimensions as C is deprecated since 3.3.  Either specify the corners of the quadrilaterals with X and Y, or pass shading='auto', 'nearest' or 'gouraud', or set rcParams['pcolor.shading'].  This will become an error two minor releases later.\n",
      "  plt.pcolormesh(x,y,Flux,cmap='gray')\n"
     ]
    }
   ],
   "source": [
    "folder_path3=\"/home/anu/Desktop/samapti/carrington/North hemisphere\"\n",
    "Files = os.listdir(folder_path3)\n",
    "txt_files = glob.glob(os.path.join(folder_path3, '*.txt'))\n",
    "\n",
    "for Nfile in txt_files:\n",
    "    A=[]\n",
    "    B=[]\n",
    "    print(Nfile)\n",
    "    with open (Nfile, \"r\") as infile:\n",
    "          for line in infile:\n",
    "            parts=line.split()\n",
    "            if len(parts)==2:\n",
    "                fhi=float(parts[0])\n",
    "                lamda=float(parts[1])\n",
    "                A.append(fhi)\n",
    "                B.append(lamda)\n",
    "    N=np.array(A)\n",
    "    def model(lon,a,b1,c1,b2,c2,b3,c3,b4,c4,b5,c5,b6,c6,b7,c7):\n",
    "        S= (lon*np.pi)/180\n",
    "        return a+b1*np.sin(S+c1)+b2*np.sin(2*S+c2)+b3*np.sin(3*S+c3)+b4*np.sin(4*S+c4)+b5*np.sin(5*S+c5)+b6*np.sin(6*S+c6)+b7*np.sin(7*S+c7)\n",
    "    params7, Cov7 = curve_fit(model,N,B,method = 'trf')\n",
    "    print(f\"a= {params7[0]}, b1= {params7[1]}, c1={params7[2]},b2={params7[3]},c2={params7[4]},b3={params7[5]},c3={params7[6]},b4={params7[7]},c4={params7[8]},b5={params7[9]},c5={params7[10]},b6={params7[11]},c6={params7[12]},b7={params7[13]},c7={params7[14]}\")\n",
    "    Y7=model(N, *params7)\n",
    "#print(SY)\n",
    "    NB=np.subtract(B,Y7)\n",
    "#print(SQ)\n",
    "    mean=np.mean(NB**2)\n",
    "#print(Smean)\n",
    "    rms=np.sqrt(mean)\n",
    "    print(rms)\n",
    "    RMS.append(rms)\n",
    "    error13=model(lon, *params7)+rms\n",
    "    error14=model(lon, *params7)-rms\n",
    "    \n",
    "    base_name = os.path.basename(file).replace('.txt', '')\n",
    "    fig = plt.figure(figsize=(12,6))\n",
    "    plt.plot (lon,model(lon, *params7), color=\"Red\" ,linewidth=1)\n",
    "    plt.plot(lon,error13, color=\"green\",linewidth=1)\n",
    "    plt.plot(lon,error14, color=\"blue\",linewidth=1)\n",
    "    plt.pcolormesh(x,y,Flux,cmap='gray')\n",
    "\n",
    "    plt.xlabel(\"carington longitutde\", color=\"black\", fontsize=14, fontstyle=\"oblique\")\n",
    "    plt.ylabel(\" latitude\", color=\"black\", fontsize=14, fontstyle=\"oblique\")\n",
    "    image_name= f\" {base_name}_NTF7.jpeg\"\n",
    "    mag_image= os.path.join(save_dir4, image_name)\n",
    "    plt.savefig(mag_image, dpi=300)\n",
    "    plt.close(fig)\n"
   ]
  },
  {
   "cell_type": "code",
   "execution_count": 98,
   "id": "faeaf10c",
   "metadata": {},
   "outputs": [
    {
     "name": "stdout",
     "output_type": "stream",
     "text": [
      "/home/anu/Desktop/samapti/carrington/North hemisphere/ synop_Mr_0.1960_NH.txt\n",
      "a= 20.42115403459803, b1= -1.2173517712066837, c1=1.4405849742048127,b2=-1.6488230173072225,c2=-1.461545267103768,b3=0.8289261433518336,c3=-1.1503673304280955,b4=3.718980317776203,c4=0.058567685964418546,b5=2.8134514958694132,c5=5.390555640098255,b6=1.0083347050668683,c6=1.2525532047719496,b7=1.303267861530013,c7=9.014401820019591,b8=0.5968294234435343,c8=2.025666071395046\n",
      "7.487866884076899\n"
     ]
    },
    {
     "name": "stderr",
     "output_type": "stream",
     "text": [
      "/tmp/ipykernel_63061/2591225484.py:40: MatplotlibDeprecationWarning: shading='flat' when X and Y have the same dimensions as C is deprecated since 3.3.  Either specify the corners of the quadrilaterals with X and Y, or pass shading='auto', 'nearest' or 'gouraud', or set rcParams['pcolor.shading'].  This will become an error two minor releases later.\n",
      "  plt.pcolormesh(x,y,Flux,cmap='gray')\n"
     ]
    }
   ],
   "source": [
    "folder_path3=\"/home/anu/Desktop/samapti/carrington/North hemisphere\"\n",
    "Files = os.listdir(folder_path3)\n",
    "txt_files = glob.glob(os.path.join(folder_path3, '*.txt'))\n",
    "\n",
    "for Nfile in txt_files:\n",
    "    A=[]\n",
    "    B=[]\n",
    "    print(Nfile)\n",
    "    with open (Nfile, \"r\") as infile:\n",
    "          for line in infile:\n",
    "            parts=line.split()\n",
    "            if len(parts)==2:\n",
    "                fhi=float(parts[0])\n",
    "                lamda=float(parts[1])\n",
    "                A.append(fhi)\n",
    "                B.append(lamda)\n",
    "    N=np.array(A)\n",
    "    def model(lon,a,b1,c1,b2,c2,b3,c3,b4,c4,b5,c5,b6,c6,b7,c7,b8,c8):\n",
    "        S= (lon*np.pi)/180\n",
    "        return a+b1*np.sin(S+c1)+b2*np.sin(2*S+c2)+b3*np.sin(3*S+c3)+b4*np.sin(4*S+c4)+b5*np.sin(5*S+c5)+b6*np.sin(6*S+c6)+b7*np.sin(7*S+c7)+b8*np.sin(8*S+c8)\n",
    "    params8, Cov8 = curve_fit(model,N,B,method = 'trf')\n",
    "    print(f\"a= {params8[0]}, b1= {params8[1]}, c1={params8[2]},b2={params8[3]},c2={params8[4]},b3={params8[5]},c3={params8[6]},b4={params8[7]},c4={params8[8]},b5={params8[9]},c5={params8[10]},b6={params8[11]},c6={params8[12]},b7={params8[13]},c7={params8[14]},b8={params8[15]},c8={params8[16]}\")\n",
    "    Y8=model(N, *params8)\n",
    "#print(SY)\n",
    "    NB=np.subtract(B,Y8)\n",
    "#print(SQ)\n",
    "    mean=np.mean(NB**2)\n",
    "#print(Smean)\n",
    "    rms=np.sqrt(mean)\n",
    "    print(rms)\n",
    "    RMS.append(rms)\n",
    "    error15=model(lon, *params8)+rms\n",
    "    error16=model(lon, *params8)-rms\n",
    "    \n",
    "    base_name = os.path.basename(file).replace('.txt', '')\n",
    "    fig = plt.figure(figsize=(12,6))\n",
    "    plt.plot (lon,model(lon, *params8), color=\"Red\" ,linewidth=1)\n",
    "    plt.plot(lon,error15, color=\"green\",linewidth=1)\n",
    "    plt.plot(lon,error16, color=\"blue\",linewidth=1)\n",
    "    plt.pcolormesh(x,y,Flux,cmap='gray')\n",
    "\n",
    "    plt.xlabel(\"carington longitutde\", color=\"black\", fontsize=14, fontstyle=\"oblique\")\n",
    "    plt.ylabel(\" latitude\", color=\"black\", fontsize=14, fontstyle=\"oblique\")\n",
    "    image_name= f\" {base_name}_NTF8.jpeg\"\n",
    "    mag_image= os.path.join(save_dir4, image_name)\n",
    "    plt.savefig(mag_image, dpi=300)\n",
    "    plt.close(fig)\n"
   ]
  },
  {
   "cell_type": "code",
   "execution_count": 99,
   "id": "a2d2b2f9",
   "metadata": {},
   "outputs": [
    {
     "name": "stdout",
     "output_type": "stream",
     "text": [
      "/home/anu/Desktop/samapti/carrington/North hemisphere/ synop_Mr_0.1960_NH.txt\n",
      "a= 19.421695131967205, b1= 1.0379133560053728, c1=1.7513610360668257,b2=1.609373406560788,c2=1.5052081139943674,b3=-1.6154488966236087,c3=-4.076294904418747,b4=4.035578422295338,c4=0.5005486638963721,b5=2.8134514958694132,c5=-7.1683103295245845,b6=0.7879709236550876,c6=1.8750954489026137,b7=2.659244224510525,c7=8.993148408743725,b8=-2.199905279544583,c8=-3.4234041093667247,b9=3.010777276391247,c9=-9.050591080990671\n",
      "7.385581717446678\n"
     ]
    },
    {
     "name": "stderr",
     "output_type": "stream",
     "text": [
      "/tmp/ipykernel_63061/3892038840.py:40: MatplotlibDeprecationWarning: shading='flat' when X and Y have the same dimensions as C is deprecated since 3.3.  Either specify the corners of the quadrilaterals with X and Y, or pass shading='auto', 'nearest' or 'gouraud', or set rcParams['pcolor.shading'].  This will become an error two minor releases later.\n",
      "  plt.pcolormesh(x,y,Flux,cmap='gray')\n"
     ]
    }
   ],
   "source": [
    "folder_path3=\"/home/anu/Desktop/samapti/carrington/North hemisphere\"\n",
    "Files = os.listdir(folder_path3)\n",
    "txt_files = glob.glob(os.path.join(folder_path3, '*.txt'))\n",
    "\n",
    "for Nfile in txt_files:\n",
    "    A=[]\n",
    "    B=[]\n",
    "    print(Nfile)\n",
    "    with open (Nfile, \"r\") as infile:\n",
    "          for line in infile:\n",
    "            parts=line.split()\n",
    "            if len(parts)==2:\n",
    "                fhi=float(parts[0])\n",
    "                lamda=float(parts[1])\n",
    "                A.append(fhi)\n",
    "                B.append(lamda)\n",
    "    N=np.array(A)\n",
    "    def model(lon,a,b1,c1,b2,c2,b3,c3,b4,c4,b5,c5,b6,c6,b7,c7,b8,c8,b9,c9):\n",
    "        S= (lon*np.pi)/180\n",
    "        return a+b1*np.sin(S+c1)+b2*np.sin(2*S+c2)+b3*np.sin(3*S+c3)+b4*np.sin(4*S+c4)+b5*np.sin(5*S+c5)+b6*np.sin(6*S+c6)+b7*np.sin(7*S+c7)+b8*np.sin(8*S+c8)+b9*np.sin(9*S+c9)\n",
    "    params9, Cov9 = curve_fit(model,N,B,method = 'trf')\n",
    "    print(f\"a= {params9[0]}, b1= {params9[1]}, c1={params9[2]},b2={params9[3]},c2={params9[4]},b3={params9[5]},c3={params9[6]},b4={params9[7]},c4={params9[8]},b5={params8[9]},c5={params9[10]},b6={params9[11]},c6={params9[12]},b7={params9[13]},c7={params9[14]},b8={params9[15]},c8={params9[16]},b9={params9[17]},c9={params9[18]}\")\n",
    "    Y9=model(N, *params9)\n",
    "#print(SY)\n",
    "    NB=np.subtract(B,Y9)\n",
    "#print(SQ)\n",
    "    mean=np.mean(NB**2)\n",
    "#print(Smean)\n",
    "    rms=np.sqrt(mean)\n",
    "    print(rms)\n",
    "    RMS.append(rms)\n",
    "    error17=model(lon, *params9)+rms\n",
    "    error18=model(lon, *params9)-rms\n",
    "    \n",
    "    base_name = os.path.basename(file).replace('.txt', '')\n",
    "    fig = plt.figure(figsize=(12,6))\n",
    "    plt.plot (lon,model(lon, *params9), color=\"Red\" ,linewidth=1)\n",
    "    plt.plot(lon,error17, color=\"green\",linewidth=1)\n",
    "    plt.plot(lon,error18, color=\"blue\",linewidth=1)\n",
    "    plt.pcolormesh(x,y,Flux,cmap='gray')\n",
    "\n",
    "    plt.xlabel(\"carington longitutde\", color=\"black\", fontsize=14, fontstyle=\"oblique\")\n",
    "    plt.ylabel(\" latitude\", color=\"black\", fontsize=14, fontstyle=\"oblique\")\n",
    "    image_name= f\" {base_name}_NTF9.jpeg\"\n",
    "    mag_image= os.path.join(save_dir4, image_name)\n",
    "    plt.savefig(mag_image, dpi=300)\n",
    "    plt.close(fig)\n"
   ]
  },
  {
   "cell_type": "code",
   "execution_count": 100,
   "id": "9a36f50f",
   "metadata": {},
   "outputs": [
    {
     "name": "stdout",
     "output_type": "stream",
     "text": [
      "/home/anu/Desktop/samapti/carrington/North hemisphere/ synop_Mr_0.1960_NH.txt\n",
      "a= 22.51824476379368, b1= -2.6715212505538815, c1=2.091741559648134,b2=2.961538807634765,c2=-4.189351315114674,b3=-2.3627762396842775,c3=3.7859227997556744,b4=5.596837790460838,c4=-0.4638260175246217,b5=1.170192906966318,c5=-0.9157360363885566,b6=2.4039329875518067,c6=0.10949940528876193,b7=-2.4099800442134343,c7=13.066887544117353,b8=1.872066462421555,c8=-3.4234041093667247,b9=-2.797023022591593,c9=2.0451159751793906,b10=-3.976600062208801,c10=0.15230068679263803\n",
      "7.210828803918939\n"
     ]
    },
    {
     "name": "stderr",
     "output_type": "stream",
     "text": [
      "/tmp/ipykernel_63061/4077334040.py:40: MatplotlibDeprecationWarning: shading='flat' when X and Y have the same dimensions as C is deprecated since 3.3.  Either specify the corners of the quadrilaterals with X and Y, or pass shading='auto', 'nearest' or 'gouraud', or set rcParams['pcolor.shading'].  This will become an error two minor releases later.\n",
      "  plt.pcolormesh(x,y,Flux,cmap='gray')\n"
     ]
    }
   ],
   "source": [
    "folder_path3=\"/home/anu/Desktop/samapti/carrington/North hemisphere\"\n",
    "Files = os.listdir(folder_path3)\n",
    "txt_files = glob.glob(os.path.join(folder_path3, '*.txt'))\n",
    "\n",
    "for Nfile in txt_files:\n",
    "    A=[]\n",
    "    B=[]\n",
    "    print(Nfile)\n",
    "    with open (Nfile, \"r\") as infile:\n",
    "          for line in infile:\n",
    "            parts=line.split()\n",
    "            if len(parts)==2:\n",
    "                fhi=float(parts[0])\n",
    "                lamda=float(parts[1])\n",
    "                A.append(fhi)\n",
    "                B.append(lamda)\n",
    "    N=np.array(A)\n",
    "    def model(lon,a,b1,c1,b2,c2,b3,c3,b4,c4,b5,c5,b6,c6,b7,c7,b8,c8,b9,c9,b10,c10):\n",
    "        S= (lon*np.pi)/180\n",
    "        return a+b1*np.sin(S+c1)+b2*np.sin(2*S+c2)+b3*np.sin(3*S+c3)+b4*np.sin(4*S+c4)+b5*np.sin(5*S+c5)+b6*np.sin(6*S+c6)+b7*np.sin(7*S+c7)+b8*np.sin(8*S+c8)+b9*np.sin(9*S+c9)+b10*np.sin(10*S+c10)\n",
    "    params10, Cov10 = curve_fit(model,N,B,method = 'trf')\n",
    "    print(f\"a= {params10[0]}, b1= {params10[1]}, c1={params10[2]},b2={params10[3]},c2={params10[4]},b3={params10[5]},c3={params10[6]},b4={params10[7]},c4={params10[8]},b5={params10[9]},c5={params10[10]},b6={params10[11]},c6={params10[12]},b7={params10[13]},c7={params10[14]},b8={params10[15]},c8={params9[16]},b9={params10[17]},c9={params10[18]},b10={params10[19]},c10={params10[20]}\")\n",
    "    Y10=model(N, *params10)\n",
    "#print(SY)\n",
    "    NB=np.subtract(B,Y10)\n",
    "#print(SQ)\n",
    "    mean=np.mean(NB**2)\n",
    "#print(Smean)\n",
    "    rms=np.sqrt(mean)\n",
    "    print(rms)\n",
    "    RMS.append(rms)\n",
    "    error19=model(lon, *params10)+rms\n",
    "    error20=model(lon, *params10)-rms\n",
    "    \n",
    "    base_name = os.path.basename(file).replace('.txt', '')\n",
    "    fig = plt.figure(figsize=(12,6))\n",
    "    plt.plot (lon,model(lon, *params10), color=\"Red\" ,linewidth=1)\n",
    "    plt.plot(lon,error19, color=\"green\",linewidth=1)\n",
    "    plt.plot(lon,error20, color=\"blue\",linewidth=1)\n",
    "    plt.pcolormesh(x,y,Flux,cmap='gray')\n",
    "\n",
    "    plt.xlabel(\"carington longitutde\", color=\"black\", fontsize=14, fontstyle=\"oblique\")\n",
    "    plt.ylabel(\" latitude\", color=\"black\", fontsize=14, fontstyle=\"oblique\")\n",
    "    image_name= f\" {base_name}_NTF10.jpeg\"\n",
    "    mag_image= os.path.join(save_dir4, image_name)\n",
    "    plt.savefig(mag_image, dpi=300)\n",
    "    plt.close(fig)\n"
   ]
  },
  {
   "cell_type": "code",
   "execution_count": 101,
   "id": "3c36e831",
   "metadata": {},
   "outputs": [
    {
     "data": {
      "text/plain": [
       "[<matplotlib.lines.Line2D at 0x7f34a75072e0>]"
      ]
     },
     "execution_count": 101,
     "metadata": {},
     "output_type": "execute_result"
    },
    {
     "data": {
      "image/png": "[encoded data removed]",
      "text/plain": [
       "<Figure size 432x288 with 1 Axes>"
      ]
     },
     "metadata": {
      "needs_background": "light"
     },
     "output_type": "display_data"
    }
   ],
   "source": [
    "N=[1,2,3,4,5,6,7,8,9]\n",
    "plt.plot(N,RMS)"
   ]
  },
  {
   "cell_type": "code",
   "execution_count": 94,
   "id": "5aa4dd31",
   "metadata": {},
   "outputs": [],
   "source": []
  },
  {
   "cell_type": "code",
   "execution_count": null,
   "id": "8cbf790f",
   "metadata": {},
   "outputs": [],
   "source": []
  },
  {
   "cell_type": "code",
   "execution_count": null,
   "id": "a5b8aae8",
   "metadata": {},
   "outputs": [],
   "source": []
  },
  {
   "cell_type": "code",
   "execution_count": null,
   "id": "b0e951e1",
   "metadata": {},
   "outputs": [],
   "source": []
  },
  {
   "cell_type": "code",
   "execution_count": 253,
   "id": "10dd24df",
   "metadata": {},
   "outputs": [],
   "source": []
  },
  {
   "cell_type": "code",
   "execution_count": null,
   "id": "ca27c0e1",
   "metadata": {},
   "outputs": [],
   "source": []
  },
  {
   "cell_type": "code",
   "execution_count": null,
   "id": "a1eeabb4",
   "metadata": {},
   "outputs": [],
   "source": []
  },
  {
   "cell_type": "code",
   "execution_count": null,
   "id": "0899f04a",
   "metadata": {},
   "outputs": [],
   "source": []
  },
  {
   "cell_type": "code",
   "execution_count": null,
   "id": "ad70c974",
   "metadata": {},
   "outputs": [],
   "source": []
  },
  {
   "cell_type": "code",
   "execution_count": null,
   "id": "73c7c9d4",
   "metadata": {},
   "outputs": [],
   "source": []
  },
  {
   "cell_type": "code",
   "execution_count": null,
   "id": "a85d6d42",
   "metadata": {},
   "outputs": [],
   "source": []
  },
  {
   "cell_type": "code",
   "execution_count": null,
   "id": "ac1e239d",
   "metadata": {},
   "outputs": [],
   "source": []
  },
  {
   "cell_type": "code",
   "execution_count": null,
   "id": "06fb6720",
   "metadata": {},
   "outputs": [],
   "source": []
  },
  {
   "cell_type": "code",
   "execution_count": null,
   "id": "9769e5a6",
   "metadata": {},
   "outputs": [],
   "source": []
  },
  {
   "cell_type": "code",
   "execution_count": 269,
   "id": "ddd85984",
   "metadata": {},
   "outputs": [],
   "source": []
  },
  {
   "cell_type": "code",
   "execution_count": null,
   "id": "f176b1e8",
   "metadata": {},
   "outputs": [],
   "source": []
  },
  {
   "cell_type": "code",
   "execution_count": null,
   "id": "326dd26a",
   "metadata": {},
   "outputs": [],
   "source": []
  },
  {
   "cell_type": "code",
   "execution_count": null,
   "id": "abcb83ce",
   "metadata": {},
   "outputs": [],
   "source": []
  },
  {
   "cell_type": "code",
   "execution_count": null,
   "id": "43be7f0b",
   "metadata": {},
   "outputs": [],
   "source": []
  },
  {
   "cell_type": "code",
   "execution_count": null,
   "id": "aab6370a",
   "metadata": {},
   "outputs": [],
   "source": []
  },
  {
   "cell_type": "code",
   "execution_count": null,
   "id": "a74fe0d0",
   "metadata": {},
   "outputs": [],
   "source": []
  },
  {
   "cell_type": "code",
   "execution_count": null,
   "id": "61a30f35",
   "metadata": {},
   "outputs": [],
   "source": []
  },
  {
   "cell_type": "code",
   "execution_count": 276,
   "id": "fddb54a7",
   "metadata": {},
   "outputs": [],
   "source": [
    "\n"
   ]
  },
  {
   "cell_type": "code",
   "execution_count": null,
   "id": "b7ec3a75",
   "metadata": {},
   "outputs": [],
   "source": []
  },
  {
   "cell_type": "code",
   "execution_count": null,
   "id": "7d209f47",
   "metadata": {},
   "outputs": [],
   "source": []
  },
  {
   "cell_type": "code",
   "execution_count": null,
   "id": "76dcae98",
   "metadata": {},
   "outputs": [],
   "source": []
  },
  {
   "cell_type": "code",
   "execution_count": null,
   "id": "cf4ba460",
   "metadata": {},
   "outputs": [],
   "source": []
  },
  {
   "cell_type": "code",
   "execution_count": null,
   "id": "fdff6b7b",
   "metadata": {},
   "outputs": [],
   "source": []
  },
  {
   "cell_type": "code",
   "execution_count": null,
   "id": "15785ae5",
   "metadata": {},
   "outputs": [],
   "source": []
  },
  {
   "cell_type": "code",
   "execution_count": null,
   "id": "2a98872f",
   "metadata": {},
   "outputs": [],
   "source": []
  },
  {
   "cell_type": "code",
   "execution_count": 35,
   "id": "645e8185",
   "metadata": {},
   "outputs": [],
   "source": []
  },
  {
   "cell_type": "code",
   "execution_count": null,
   "id": "f5d04f21",
   "metadata": {},
   "outputs": [],
   "source": []
  },
  {
   "cell_type": "code",
   "execution_count": null,
   "id": "40a0d4de",
   "metadata": {},
   "outputs": [],
   "source": [
    "newdata=resize(data, (1000,1000), mode=\"reflect\", anti_aliasing=True)\n",
    "fig = plt.figure(figsize=(12,6))\n",
    "plt.imshow(newdata, origin=\"lower\", cmap='gray', aspect=0.5)              #vmax=100, vmin=-100\n",
    "plt.colorbar()\n",
    "nx=newdata.shape[1]\n",
    "ny=newdata.shape[0]\n",
    "print(nx)\n",
    "longitude=[]\n",
    "longitude_rad=[]\n",
    "sinlat=[]\n",
    "latitude=[]\n",
    "\n",
    "R_sun = 6.96e10\n",
    "d_sinlat=2/ny\n",
    "dtr=np.pi/180\n",
    "rtd=180/np.pi\n",
    "dlon_rad=(360/nx)*dtr\n",
    "\n",
    "\n",
    "\n",
    "for i in range (ny):\n",
    "  sin_lat= -1+i*(2/ny)\n",
    "  Latitude =np.arcsin(sin_lat)*rtd\n",
    "  Latitude_rad=  (Latitude*dtr)\n",
    "  \n",
    "  latitude.append(Latitude)\n",
    "  sinlat.append(sin_lat)\n",
    "for j in range(nx):\n",
    "    Longitude = 0+j*(360/nx)\n",
    "    Longitude_rad=Longitude*dtr\n",
    "    d_lon=360/nx\n",
    "    dlon_rad=d_lon*dtr\n",
    "    longitude.append(Longitude)\n",
    "    longitude_rad.append(Longitude_rad)\n",
    "  \n",
    "Flux=(data)*(R_sun**2)*(d_sinlat)*(dlon_rad)\n",
    "S= (R_sun**2)*(d_sinlat)*(dlon_rad)\n",
    "print(S)\n",
    "print(Flux)\n",
    "print(np.subtract(longitude_rad[2:7], longitude_rad[1:6])\n",
    "lon=np.linspace(min(longitude), max(longitude),1000)\n",
    "\n",
    "lat= np.linspace(min(latitude), max(latitude),1000)\n",
    "\n",
    "x,y=np.meshgrid(lon, lat)\n",
    "flux= RegularGridInterpolator((latitude,longitude),Flux)((y,x))\n",
    "Sinlat=np.linspace(min(sinlat), max(sinlat),1000)\n",
    "\n",
    "X,Y=np.meshgrid(lon, Sinlat )\n",
    "flux1= RegularGridInterpolator((sinlat,longitude),Flux)((Y,X))\n",
    "#print(lat)\n",
    "#print(Sinlat)\n",
    "#print(lon.shape)\n",
    "#print(flux)\n",
    "print(flux1\n",
    "fig=plt.figure(figsize=(12,6))\n",
    "plt.pcolormesh(x,y,Data, cmap='gray')\n",
    "plt.xlabel(\"carington longitutde\", color=\"black\", fontsize=14, fontstyle=\"oblique\")\n",
    "plt.ylabel(\"carington latitude\", color=\"black\", fontsize=14, fontstyle=\"oblique\")\n",
    "fig=plt.figure(figsize=(12,6))\n",
    "plt.pcolormesh(X,Y,Data1, cmap='gray')     #, vmin=-1e19,vmax=1e19)\n",
    "plt.colorbar()\n",
    "plt.xlabel(\"carington longitutde\", color=\"black\", fontsize=14, fontstyle=\"oblique\")\n",
    "plt.ylabel(\"sin(lat)\", color=\"black\", fontsize=14, fontstyle=\"oblique\")\n",
    "sizes = ndimage.sum(binary_mask, labeled_array, range(1, num_features + 1))\n",
    "sizes1 = ndimage.sum(binary_mask, labeled_array)\n",
    "areathres=50\n",
    "mask_filtered = np.zeros_like(binary_mask)\n",
    "\n",
    "print(sizes1)\n",
    "for i, size in enumerate(sizes):\n",
    "    #print(f\"{i+1}  {size}\")\n",
    "    \n",
    "    if size >=areathres:\n",
    "       mask_filtered[labeled_array == (i + 1)] = 1\n"
   ]
  }
 ],
 "metadata": {
  "kernelspec": {
   "display_name": "Python 3 (ipykernel)",
   "language": "python",
   "name": "python3"
  },
  "language_info": {
   "codemirror_mode": {
    "name": "ipython",
    "version": 3
   },
   "file_extension": ".py",
   "mimetype": "text/x-python",
   "name": "python",
   "nbconvert_exporter": "python",
   "pygments_lexer": "ipython3",
   "version": "3.9.7"
  }
 },
 "nbformat": 4,
 "nbformat_minor": 5
}
