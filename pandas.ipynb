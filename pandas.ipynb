{
 "cells": [
  {
   "cell_type": "code",
   "execution_count": 12,
   "metadata": {},
   "outputs": [],
   "source": [
    "import os\n",
    "from astropy.io import fits\n",
    "import sunpy.map\n",
    "#from sunpy.coordinates import NorthOffsetFrame\n",
    "import astropy.units as u\n",
    "import numpy as np\n",
    "from astropy.coordinates import SkyCoord\n",
    "from sunpy.coordinates import frames\n",
    "import matplotlib.pyplot as plt\n",
    "import matplotlib.colors\n",
    "import glob\n",
    "from scipy import ndimage\n",
    "import numpy as np\n",
    "#import sunpy.timeseries\n",
    "import scipy.ndimage as ndimage\n",
    "from scipy.ndimage import label\n",
    "from scipy.optimize import curve_fit\n",
    "from scipy.interpolate import RegularGridInterpolator\n",
    "import matplotlib.patches as patches\n",
    "from matplotlib.patches import Rectangle\n",
    "import ast  \n",
    "import seaborn as sns"
   ]
  },
  {
   "cell_type": "code",
   "execution_count": 2,
   "metadata": {},
   "outputs": [],
   "source": [
    "import pandas as pd"
   ]
  },
  {
   "cell_type": "code",
   "execution_count": 40,
   "metadata": {},
   "outputs": [
    {
     "name": "stdout",
     "output_type": "stream",
     "text": [
      "/home/vindia/samapti/cycle24(feb-july)/CR2149/TF3CR/CR6.txt\n"
     ]
    },
    {
     "data": {
      "text/html": [
       "<div>\n",
       "<style scoped>\n",
       "    .dataframe tbody tr th:only-of-type {\n",
       "        vertical-align: middle;\n",
       "    }\n",
       "\n",
       "    .dataframe tbody tr th {\n",
       "        vertical-align: top;\n",
       "    }\n",
       "\n",
       "    .dataframe thead th {\n",
       "        text-align: right;\n",
       "    }\n",
       "</style>\n",
       "<table border=\"1\" class=\"dataframe\">\n",
       "  <thead>\n",
       "    <tr style=\"text-align: right;\">\n",
       "      <th></th>\n",
       "      <th>patchid</th>\n",
       "      <th>meantd</th>\n",
       "      <th>maxtd</th>\n",
       "      <th>mintd</th>\n",
       "      <th>lamda</th>\n",
       "      <th>phi</th>\n",
       "      <th>day</th>\n",
       "      <th>TFlux</th>\n",
       "      <th>maxTotflux</th>\n",
       "      <th>meanTotflux</th>\n",
       "      <th>flags</th>\n",
       "    </tr>\n",
       "  </thead>\n",
       "  <tbody>\n",
       "    <tr>\n",
       "      <th>0</th>\n",
       "      <td>325</td>\n",
       "      <td>24.598329</td>\n",
       "      <td>26.002419</td>\n",
       "      <td>23.311326</td>\n",
       "      <td>325.0</td>\n",
       "      <td>-2.5</td>\n",
       "      <td>1</td>\n",
       "      <td>6.534228e+22</td>\n",
       "      <td>3.752820e+20</td>\n",
       "      <td>3.475653e+18</td>\n",
       "      <td>1</td>\n",
       "    </tr>\n",
       "    <tr>\n",
       "      <th>1</th>\n",
       "      <td>237</td>\n",
       "      <td>27.362044</td>\n",
       "      <td>29.268403</td>\n",
       "      <td>25.535887</td>\n",
       "      <td>235.0</td>\n",
       "      <td>17.5</td>\n",
       "      <td>2</td>\n",
       "      <td>1.889910e+22</td>\n",
       "      <td>2.037068e+20</td>\n",
       "      <td>1.055816e+18</td>\n",
       "      <td>1</td>\n",
       "    </tr>\n",
       "    <tr>\n",
       "      <th>2</th>\n",
       "      <td>238</td>\n",
       "      <td>27.362044</td>\n",
       "      <td>29.268403</td>\n",
       "      <td>25.535887</td>\n",
       "      <td>235.0</td>\n",
       "      <td>27.5</td>\n",
       "      <td>2</td>\n",
       "      <td>1.689000e+22</td>\n",
       "      <td>2.037068e+20</td>\n",
       "      <td>1.017470e+18</td>\n",
       "      <td>1</td>\n",
       "    </tr>\n",
       "    <tr>\n",
       "      <th>3</th>\n",
       "      <td>185</td>\n",
       "      <td>35.551683</td>\n",
       "      <td>36.262354</td>\n",
       "      <td>34.530530</td>\n",
       "      <td>185.0</td>\n",
       "      <td>-2.5</td>\n",
       "      <td>3</td>\n",
       "      <td>1.176134e+23</td>\n",
       "      <td>6.027202e+20</td>\n",
       "      <td>6.256033e+18</td>\n",
       "      <td>1</td>\n",
       "    </tr>\n",
       "    <tr>\n",
       "      <th>4</th>\n",
       "      <td>195</td>\n",
       "      <td>34.451709</td>\n",
       "      <td>35.623047</td>\n",
       "      <td>33.026710</td>\n",
       "      <td>195.0</td>\n",
       "      <td>-2.5</td>\n",
       "      <td>3</td>\n",
       "      <td>2.126515e+22</td>\n",
       "      <td>2.210609e+20</td>\n",
       "      <td>1.131125e+18</td>\n",
       "      <td>1</td>\n",
       "    </tr>\n",
       "  </tbody>\n",
       "</table>\n",
       "</div>"
      ],
      "text/plain": [
       "   patchid     meantd      maxtd      mintd  lamda   phi  day         TFlux  \\\n",
       "0      325  24.598329  26.002419  23.311326  325.0  -2.5    1  6.534228e+22   \n",
       "1      237  27.362044  29.268403  25.535887  235.0  17.5    2  1.889910e+22   \n",
       "2      238  27.362044  29.268403  25.535887  235.0  27.5    2  1.689000e+22   \n",
       "3      185  35.551683  36.262354  34.530530  185.0  -2.5    3  1.176134e+23   \n",
       "4      195  34.451709  35.623047  33.026710  195.0  -2.5    3  2.126515e+22   \n",
       "\n",
       "     maxTotflux   meanTotflux  flags  \n",
       "0  3.752820e+20  3.475653e+18      1  \n",
       "1  2.037068e+20  1.055816e+18      1  \n",
       "2  2.037068e+20  1.017470e+18      1  \n",
       "3  6.027202e+20  6.256033e+18      1  \n",
       "4  2.210609e+20  1.131125e+18      1  "
      ]
     },
     "execution_count": 40,
     "metadata": {},
     "output_type": "execute_result"
    }
   ],
   "source": [
    "folder_path = \"/home/vindia/samapti/cycle24(feb-july)/CR2149/TF3CR\"\n",
    "save_dir = \"/home/vindia/samapti/cycle24(feb-july)/CR2149\"\n",
    "txt_files =sorted(glob.glob(os.path.join(folder_path, \"*.txt\")))\n",
    "with open(txt_files[5], \"r\") as f:\n",
    "    print(txt_files[5])\n",
    "    data = [ast.literal_eval(line.strip()) for line in f]\n",
    "df=pd.DataFrame(data, columns=[\"patchid\", \"meantd\", \"maxtd\", \"mintd\",\"lamda\",\"phi\",\"day\",\"TFlux\",\"maxTotflux\",\"meanTotflux\",\"flags\"])\n",
    "df.head()"
   ]
  },
  {
   "cell_type": "code",
   "execution_count": 52,
   "metadata": {},
   "outputs": [
    {
     "data": {
      "text/plain": [
       "(360, 11)"
      ]
     },
     "execution_count": 52,
     "metadata": {},
     "output_type": "execute_result"
    }
   ],
   "source": [
    "df.shape"
   ]
  },
  {
   "cell_type": "code",
   "execution_count": 42,
   "metadata": {},
   "outputs": [
    {
     "data": {
      "text/html": [
       "<div>\n",
       "<style scoped>\n",
       "    .dataframe tbody tr th:only-of-type {\n",
       "        vertical-align: middle;\n",
       "    }\n",
       "\n",
       "    .dataframe tbody tr th {\n",
       "        vertical-align: top;\n",
       "    }\n",
       "\n",
       "    .dataframe thead th {\n",
       "        text-align: right;\n",
       "    }\n",
       "</style>\n",
       "<table border=\"1\" class=\"dataframe\">\n",
       "  <thead>\n",
       "    <tr style=\"text-align: right;\">\n",
       "      <th></th>\n",
       "      <th>patchid</th>\n",
       "      <th>meantd</th>\n",
       "      <th>maxtd</th>\n",
       "      <th>mintd</th>\n",
       "      <th>lamda</th>\n",
       "      <th>phi</th>\n",
       "      <th>day</th>\n",
       "      <th>TFlux</th>\n",
       "      <th>maxTotflux</th>\n",
       "      <th>meanTotflux</th>\n",
       "      <th>flags</th>\n",
       "    </tr>\n",
       "  </thead>\n",
       "  <tbody>\n",
       "    <tr>\n",
       "      <th>289</th>\n",
       "      <td>289</td>\n",
       "      <td>21.669585</td>\n",
       "      <td>21.915095</td>\n",
       "      <td>21.581521</td>\n",
       "      <td>285.0</td>\n",
       "      <td>37.5</td>\n",
       "      <td>7</td>\n",
       "      <td>6.362568e+20</td>\n",
       "      <td>2.435538e+19</td>\n",
       "      <td>4.241712e+16</td>\n",
       "      <td>0</td>\n",
       "    </tr>\n",
       "    <tr>\n",
       "      <th>306</th>\n",
       "      <td>306</td>\n",
       "      <td>22.389433</td>\n",
       "      <td>23.288555</td>\n",
       "      <td>21.738449</td>\n",
       "      <td>305.0</td>\n",
       "      <td>7.5</td>\n",
       "      <td>7</td>\n",
       "      <td>6.871782e+20</td>\n",
       "      <td>2.032703e+19</td>\n",
       "      <td>3.674750e+16</td>\n",
       "      <td>0</td>\n",
       "    </tr>\n",
       "    <tr>\n",
       "      <th>42</th>\n",
       "      <td>23</td>\n",
       "      <td>21.302126</td>\n",
       "      <td>23.034456</td>\n",
       "      <td>19.948221</td>\n",
       "      <td>25.0</td>\n",
       "      <td>-22.5</td>\n",
       "      <td>7</td>\n",
       "      <td>2.654086e+22</td>\n",
       "      <td>6.271300e+20</td>\n",
       "      <td>1.534154e+18</td>\n",
       "      <td>0</td>\n",
       "    </tr>\n",
       "    <tr>\n",
       "      <th>74</th>\n",
       "      <td>55</td>\n",
       "      <td>19.456947</td>\n",
       "      <td>20.009105</td>\n",
       "      <td>19.251056</td>\n",
       "      <td>55.0</td>\n",
       "      <td>-2.5</td>\n",
       "      <td>7</td>\n",
       "      <td>2.332941e+22</td>\n",
       "      <td>1.589254e+20</td>\n",
       "      <td>1.240926e+18</td>\n",
       "      <td>0</td>\n",
       "    </tr>\n",
       "    <tr>\n",
       "      <th>211</th>\n",
       "      <td>204</td>\n",
       "      <td>32.963414</td>\n",
       "      <td>34.503970</td>\n",
       "      <td>31.242387</td>\n",
       "      <td>205.0</td>\n",
       "      <td>-12.5</td>\n",
       "      <td>7</td>\n",
       "      <td>4.251484e+23</td>\n",
       "      <td>9.461384e+20</td>\n",
       "      <td>2.310589e+19</td>\n",
       "      <td>0</td>\n",
       "    </tr>\n",
       "  </tbody>\n",
       "</table>\n",
       "</div>"
      ],
      "text/plain": [
       "     patchid     meantd      maxtd      mintd  lamda   phi  day         TFlux  \\\n",
       "289      289  21.669585  21.915095  21.581521  285.0  37.5    7  6.362568e+20   \n",
       "306      306  22.389433  23.288555  21.738449  305.0   7.5    7  6.871782e+20   \n",
       "42        23  21.302126  23.034456  19.948221   25.0 -22.5    7  2.654086e+22   \n",
       "74        55  19.456947  20.009105  19.251056   55.0  -2.5    7  2.332941e+22   \n",
       "211      204  32.963414  34.503970  31.242387  205.0 -12.5    7  4.251484e+23   \n",
       "\n",
       "       maxTotflux   meanTotflux  flags  \n",
       "289  2.435538e+19  4.241712e+16      0  \n",
       "306  2.032703e+19  3.674750e+16      0  \n",
       "42   6.271300e+20  1.534154e+18      0  \n",
       "74   1.589254e+20  1.240926e+18      0  \n",
       "211  9.461384e+20  2.310589e+19      0  "
      ]
     },
     "execution_count": 42,
     "metadata": {},
     "output_type": "execute_result"
    }
   ],
   "source": [
    "df.sample(5)"
   ]
  },
  {
   "cell_type": "code",
   "execution_count": 43,
   "metadata": {},
   "outputs": [
    {
     "name": "stdout",
     "output_type": "stream",
     "text": [
      "<class 'pandas.core.frame.DataFrame'>\n",
      "RangeIndex: 360 entries, 0 to 359\n",
      "Data columns (total 11 columns):\n",
      " #   Column       Non-Null Count  Dtype  \n",
      "---  ------       --------------  -----  \n",
      " 0   patchid      360 non-null    int64  \n",
      " 1   meantd       360 non-null    float64\n",
      " 2   maxtd        360 non-null    float64\n",
      " 3   mintd        360 non-null    float64\n",
      " 4   lamda        360 non-null    float64\n",
      " 5   phi          360 non-null    float64\n",
      " 6   day          360 non-null    int64  \n",
      " 7   TFlux        360 non-null    float64\n",
      " 8   maxTotflux   360 non-null    float64\n",
      " 9   meanTotflux  360 non-null    float64\n",
      " 10  flags        360 non-null    int64  \n",
      "dtypes: float64(8), int64(3)\n",
      "memory usage: 31.1 KB\n"
     ]
    }
   ],
   "source": [
    "df.info()"
   ]
  },
  {
   "cell_type": "code",
   "execution_count": 44,
   "metadata": {},
   "outputs": [
    {
     "data": {
      "text/plain": [
       "patchid        0\n",
       "meantd         0\n",
       "maxtd          0\n",
       "mintd          0\n",
       "lamda          0\n",
       "phi            0\n",
       "day            0\n",
       "TFlux          0\n",
       "maxTotflux     0\n",
       "meanTotflux    0\n",
       "flags          0\n",
       "dtype: int64"
      ]
     },
     "execution_count": 44,
     "metadata": {},
     "output_type": "execute_result"
    }
   ],
   "source": [
    "df.isnull().sum()     #missing value check"
   ]
  },
  {
   "cell_type": "code",
   "execution_count": 45,
   "metadata": {},
   "outputs": [
    {
     "data": {
      "text/html": [
       "<div>\n",
       "<style scoped>\n",
       "    .dataframe tbody tr th:only-of-type {\n",
       "        vertical-align: middle;\n",
       "    }\n",
       "\n",
       "    .dataframe tbody tr th {\n",
       "        vertical-align: top;\n",
       "    }\n",
       "\n",
       "    .dataframe thead th {\n",
       "        text-align: right;\n",
       "    }\n",
       "</style>\n",
       "<table border=\"1\" class=\"dataframe\">\n",
       "  <thead>\n",
       "    <tr style=\"text-align: right;\">\n",
       "      <th></th>\n",
       "      <th>patchid</th>\n",
       "      <th>meantd</th>\n",
       "      <th>maxtd</th>\n",
       "      <th>mintd</th>\n",
       "      <th>lamda</th>\n",
       "      <th>phi</th>\n",
       "      <th>day</th>\n",
       "      <th>TFlux</th>\n",
       "      <th>maxTotflux</th>\n",
       "      <th>meanTotflux</th>\n",
       "      <th>flags</th>\n",
       "    </tr>\n",
       "  </thead>\n",
       "  <tbody>\n",
       "    <tr>\n",
       "      <th>count</th>\n",
       "      <td>360.000000</td>\n",
       "      <td>360.000000</td>\n",
       "      <td>360.000000</td>\n",
       "      <td>360.000000</td>\n",
       "      <td>360.00000</td>\n",
       "      <td>360.000000</td>\n",
       "      <td>360.000000</td>\n",
       "      <td>3.600000e+02</td>\n",
       "      <td>3.600000e+02</td>\n",
       "      <td>3.600000e+02</td>\n",
       "      <td>360.000000</td>\n",
       "    </tr>\n",
       "    <tr>\n",
       "      <th>mean</th>\n",
       "      <td>180.500000</td>\n",
       "      <td>26.787617</td>\n",
       "      <td>28.118717</td>\n",
       "      <td>25.522565</td>\n",
       "      <td>180.00000</td>\n",
       "      <td>2.500000</td>\n",
       "      <td>6.819444</td>\n",
       "      <td>1.039962e+24</td>\n",
       "      <td>1.003847e+21</td>\n",
       "      <td>5.720059e+19</td>\n",
       "      <td>0.058333</td>\n",
       "    </tr>\n",
       "    <tr>\n",
       "      <th>std</th>\n",
       "      <td>104.067286</td>\n",
       "      <td>5.351683</td>\n",
       "      <td>5.337332</td>\n",
       "      <td>5.211506</td>\n",
       "      <td>104.02753</td>\n",
       "      <td>28.762789</td>\n",
       "      <td>0.809525</td>\n",
       "      <td>4.195372e+24</td>\n",
       "      <td>2.455701e+21</td>\n",
       "      <td>2.299474e+20</td>\n",
       "      <td>0.234699</td>\n",
       "    </tr>\n",
       "    <tr>\n",
       "      <th>min</th>\n",
       "      <td>1.000000</td>\n",
       "      <td>19.425846</td>\n",
       "      <td>19.929215</td>\n",
       "      <td>19.251056</td>\n",
       "      <td>5.00000</td>\n",
       "      <td>-42.500000</td>\n",
       "      <td>1.000000</td>\n",
       "      <td>0.000000e+00</td>\n",
       "      <td>0.000000e+00</td>\n",
       "      <td>0.000000e+00</td>\n",
       "      <td>0.000000</td>\n",
       "    </tr>\n",
       "    <tr>\n",
       "      <th>25%</th>\n",
       "      <td>90.750000</td>\n",
       "      <td>22.291817</td>\n",
       "      <td>23.225030</td>\n",
       "      <td>21.581521</td>\n",
       "      <td>92.50000</td>\n",
       "      <td>-22.500000</td>\n",
       "      <td>7.000000</td>\n",
       "      <td>3.494023e+20</td>\n",
       "      <td>1.718248e+19</td>\n",
       "      <td>2.197570e+16</td>\n",
       "      <td>0.000000</td>\n",
       "    </tr>\n",
       "    <tr>\n",
       "      <th>50%</th>\n",
       "      <td>180.500000</td>\n",
       "      <td>25.508611</td>\n",
       "      <td>27.414881</td>\n",
       "      <td>23.634630</td>\n",
       "      <td>180.00000</td>\n",
       "      <td>2.500000</td>\n",
       "      <td>7.000000</td>\n",
       "      <td>3.500573e+21</td>\n",
       "      <td>6.753028e+19</td>\n",
       "      <td>2.019911e+17</td>\n",
       "      <td>0.000000</td>\n",
       "    </tr>\n",
       "    <tr>\n",
       "      <th>75%</th>\n",
       "      <td>270.250000</td>\n",
       "      <td>31.282033</td>\n",
       "      <td>33.100175</td>\n",
       "      <td>29.348693</td>\n",
       "      <td>267.50000</td>\n",
       "      <td>27.500000</td>\n",
       "      <td>7.000000</td>\n",
       "      <td>1.028579e+23</td>\n",
       "      <td>4.303825e+20</td>\n",
       "      <td>5.764573e+18</td>\n",
       "      <td>0.000000</td>\n",
       "    </tr>\n",
       "    <tr>\n",
       "      <th>max</th>\n",
       "      <td>360.000000</td>\n",
       "      <td>36.271013</td>\n",
       "      <td>36.392868</td>\n",
       "      <td>35.913117</td>\n",
       "      <td>355.00000</td>\n",
       "      <td>47.500000</td>\n",
       "      <td>7.000000</td>\n",
       "      <td>3.572550e+25</td>\n",
       "      <td>1.183623e+22</td>\n",
       "      <td>1.910454e+21</td>\n",
       "      <td>1.000000</td>\n",
       "    </tr>\n",
       "  </tbody>\n",
       "</table>\n",
       "</div>"
      ],
      "text/plain": [
       "          patchid      meantd       maxtd       mintd      lamda         phi  \\\n",
       "count  360.000000  360.000000  360.000000  360.000000  360.00000  360.000000   \n",
       "mean   180.500000   26.787617   28.118717   25.522565  180.00000    2.500000   \n",
       "std    104.067286    5.351683    5.337332    5.211506  104.02753   28.762789   \n",
       "min      1.000000   19.425846   19.929215   19.251056    5.00000  -42.500000   \n",
       "25%     90.750000   22.291817   23.225030   21.581521   92.50000  -22.500000   \n",
       "50%    180.500000   25.508611   27.414881   23.634630  180.00000    2.500000   \n",
       "75%    270.250000   31.282033   33.100175   29.348693  267.50000   27.500000   \n",
       "max    360.000000   36.271013   36.392868   35.913117  355.00000   47.500000   \n",
       "\n",
       "              day         TFlux    maxTotflux   meanTotflux       flags  \n",
       "count  360.000000  3.600000e+02  3.600000e+02  3.600000e+02  360.000000  \n",
       "mean     6.819444  1.039962e+24  1.003847e+21  5.720059e+19    0.058333  \n",
       "std      0.809525  4.195372e+24  2.455701e+21  2.299474e+20    0.234699  \n",
       "min      1.000000  0.000000e+00  0.000000e+00  0.000000e+00    0.000000  \n",
       "25%      7.000000  3.494023e+20  1.718248e+19  2.197570e+16    0.000000  \n",
       "50%      7.000000  3.500573e+21  6.753028e+19  2.019911e+17    0.000000  \n",
       "75%      7.000000  1.028579e+23  4.303825e+20  5.764573e+18    0.000000  \n",
       "max      7.000000  3.572550e+25  1.183623e+22  1.910454e+21    1.000000  "
      ]
     },
     "execution_count": 45,
     "metadata": {},
     "output_type": "execute_result"
    }
   ],
   "source": [
    "df.describe()"
   ]
  },
  {
   "cell_type": "code",
   "execution_count": 9,
   "metadata": {},
   "outputs": [
    {
     "data": {
      "text/plain": [
       "0"
      ]
     },
     "execution_count": 9,
     "metadata": {},
     "output_type": "execute_result"
    }
   ],
   "source": [
    "df.duplicated().sum()"
   ]
  },
  {
   "cell_type": "code",
   "execution_count": 46,
   "metadata": {},
   "outputs": [
    {
     "data": {
      "text/html": [
       "<div>\n",
       "<style scoped>\n",
       "    .dataframe tbody tr th:only-of-type {\n",
       "        vertical-align: middle;\n",
       "    }\n",
       "\n",
       "    .dataframe tbody tr th {\n",
       "        vertical-align: top;\n",
       "    }\n",
       "\n",
       "    .dataframe thead th {\n",
       "        text-align: right;\n",
       "    }\n",
       "</style>\n",
       "<table border=\"1\" class=\"dataframe\">\n",
       "  <thead>\n",
       "    <tr style=\"text-align: right;\">\n",
       "      <th></th>\n",
       "      <th>patchid</th>\n",
       "      <th>meantd</th>\n",
       "      <th>maxtd</th>\n",
       "      <th>mintd</th>\n",
       "      <th>lamda</th>\n",
       "      <th>phi</th>\n",
       "      <th>day</th>\n",
       "      <th>TFlux</th>\n",
       "      <th>maxTotflux</th>\n",
       "      <th>meanTotflux</th>\n",
       "      <th>flags</th>\n",
       "    </tr>\n",
       "  </thead>\n",
       "  <tbody>\n",
       "    <tr>\n",
       "      <th>patchid</th>\n",
       "      <td>1.000000</td>\n",
       "      <td>1.214891e-01</td>\n",
       "      <td>8.959259e-02</td>\n",
       "      <td>1.481588e-01</td>\n",
       "      <td>9.996180e-01</td>\n",
       "      <td>2.763865e-02</td>\n",
       "      <td>-0.086116</td>\n",
       "      <td>0.028593</td>\n",
       "      <td>-0.011552</td>\n",
       "      <td>0.029336</td>\n",
       "      <td>0.015111</td>\n",
       "    </tr>\n",
       "    <tr>\n",
       "      <th>meantd</th>\n",
       "      <td>0.121489</td>\n",
       "      <td>1.000000e+00</td>\n",
       "      <td>9.929812e-01</td>\n",
       "      <td>9.928759e-01</td>\n",
       "      <td>1.215355e-01</td>\n",
       "      <td>-4.346013e-17</td>\n",
       "      <td>-0.065212</td>\n",
       "      <td>-0.011987</td>\n",
       "      <td>-0.025420</td>\n",
       "      <td>-0.009839</td>\n",
       "      <td>0.092407</td>\n",
       "    </tr>\n",
       "    <tr>\n",
       "      <th>maxtd</th>\n",
       "      <td>0.089593</td>\n",
       "      <td>9.929812e-01</td>\n",
       "      <td>1.000000e+00</td>\n",
       "      <td>9.718639e-01</td>\n",
       "      <td>8.962683e-02</td>\n",
       "      <td>-2.681661e-17</td>\n",
       "      <td>-0.051133</td>\n",
       "      <td>-0.000348</td>\n",
       "      <td>-0.017725</td>\n",
       "      <td>0.001773</td>\n",
       "      <td>0.076416</td>\n",
       "    </tr>\n",
       "    <tr>\n",
       "      <th>mintd</th>\n",
       "      <td>0.148159</td>\n",
       "      <td>9.928759e-01</td>\n",
       "      <td>9.718639e-01</td>\n",
       "      <td>1.000000e+00</td>\n",
       "      <td>1.482154e-01</td>\n",
       "      <td>2.508737e-17</td>\n",
       "      <td>-0.078936</td>\n",
       "      <td>-0.021741</td>\n",
       "      <td>-0.030386</td>\n",
       "      <td>-0.019595</td>\n",
       "      <td>0.108277</td>\n",
       "    </tr>\n",
       "    <tr>\n",
       "      <th>lamda</th>\n",
       "      <td>0.999618</td>\n",
       "      <td>1.215355e-01</td>\n",
       "      <td>8.962683e-02</td>\n",
       "      <td>1.482154e-01</td>\n",
       "      <td>1.000000e+00</td>\n",
       "      <td>-1.947396e-17</td>\n",
       "      <td>-0.085173</td>\n",
       "      <td>0.030766</td>\n",
       "      <td>-0.008941</td>\n",
       "      <td>0.031564</td>\n",
       "      <td>0.014261</td>\n",
       "    </tr>\n",
       "    <tr>\n",
       "      <th>phi</th>\n",
       "      <td>0.027639</td>\n",
       "      <td>-4.346013e-17</td>\n",
       "      <td>-2.681661e-17</td>\n",
       "      <td>2.508737e-17</td>\n",
       "      <td>-1.947396e-17</td>\n",
       "      <td>1.000000e+00</td>\n",
       "      <td>-0.035291</td>\n",
       "      <td>-0.078191</td>\n",
       "      <td>-0.094625</td>\n",
       "      <td>-0.080168</td>\n",
       "      <td>0.030947</td>\n",
       "    </tr>\n",
       "    <tr>\n",
       "      <th>day</th>\n",
       "      <td>-0.086116</td>\n",
       "      <td>-6.521188e-02</td>\n",
       "      <td>-5.113342e-02</td>\n",
       "      <td>-7.893575e-02</td>\n",
       "      <td>-8.517342e-02</td>\n",
       "      <td>-3.529118e-02</td>\n",
       "      <td>1.000000</td>\n",
       "      <td>0.000927</td>\n",
       "      <td>-0.101477</td>\n",
       "      <td>-0.000174</td>\n",
       "      <td>-0.897376</td>\n",
       "    </tr>\n",
       "    <tr>\n",
       "      <th>TFlux</th>\n",
       "      <td>0.028593</td>\n",
       "      <td>-1.198701e-02</td>\n",
       "      <td>-3.479147e-04</td>\n",
       "      <td>-2.174108e-02</td>\n",
       "      <td>3.076596e-02</td>\n",
       "      <td>-7.819095e-02</td>\n",
       "      <td>0.000927</td>\n",
       "      <td>1.000000</td>\n",
       "      <td>0.817348</td>\n",
       "      <td>0.999498</td>\n",
       "      <td>0.015199</td>\n",
       "    </tr>\n",
       "    <tr>\n",
       "      <th>maxTotflux</th>\n",
       "      <td>-0.011552</td>\n",
       "      <td>-2.542025e-02</td>\n",
       "      <td>-1.772489e-02</td>\n",
       "      <td>-3.038594e-02</td>\n",
       "      <td>-8.940520e-03</td>\n",
       "      <td>-9.462458e-02</td>\n",
       "      <td>-0.101477</td>\n",
       "      <td>0.817348</td>\n",
       "      <td>1.000000</td>\n",
       "      <td>0.818855</td>\n",
       "      <td>0.130162</td>\n",
       "    </tr>\n",
       "    <tr>\n",
       "      <th>meanTotflux</th>\n",
       "      <td>0.029336</td>\n",
       "      <td>-9.838912e-03</td>\n",
       "      <td>1.773041e-03</td>\n",
       "      <td>-1.959476e-02</td>\n",
       "      <td>3.156396e-02</td>\n",
       "      <td>-8.016799e-02</td>\n",
       "      <td>-0.000174</td>\n",
       "      <td>0.999498</td>\n",
       "      <td>0.818855</td>\n",
       "      <td>1.000000</td>\n",
       "      <td>0.016871</td>\n",
       "    </tr>\n",
       "    <tr>\n",
       "      <th>flags</th>\n",
       "      <td>0.015111</td>\n",
       "      <td>9.240696e-02</td>\n",
       "      <td>7.641571e-02</td>\n",
       "      <td>1.082770e-01</td>\n",
       "      <td>1.426121e-02</td>\n",
       "      <td>3.094744e-02</td>\n",
       "      <td>-0.897376</td>\n",
       "      <td>0.015199</td>\n",
       "      <td>0.130162</td>\n",
       "      <td>0.016871</td>\n",
       "      <td>1.000000</td>\n",
       "    </tr>\n",
       "  </tbody>\n",
       "</table>\n",
       "</div>"
      ],
      "text/plain": [
       "              patchid        meantd         maxtd         mintd         lamda  \\\n",
       "patchid      1.000000  1.214891e-01  8.959259e-02  1.481588e-01  9.996180e-01   \n",
       "meantd       0.121489  1.000000e+00  9.929812e-01  9.928759e-01  1.215355e-01   \n",
       "maxtd        0.089593  9.929812e-01  1.000000e+00  9.718639e-01  8.962683e-02   \n",
       "mintd        0.148159  9.928759e-01  9.718639e-01  1.000000e+00  1.482154e-01   \n",
       "lamda        0.999618  1.215355e-01  8.962683e-02  1.482154e-01  1.000000e+00   \n",
       "phi          0.027639 -4.346013e-17 -2.681661e-17  2.508737e-17 -1.947396e-17   \n",
       "day         -0.086116 -6.521188e-02 -5.113342e-02 -7.893575e-02 -8.517342e-02   \n",
       "TFlux        0.028593 -1.198701e-02 -3.479147e-04 -2.174108e-02  3.076596e-02   \n",
       "maxTotflux  -0.011552 -2.542025e-02 -1.772489e-02 -3.038594e-02 -8.940520e-03   \n",
       "meanTotflux  0.029336 -9.838912e-03  1.773041e-03 -1.959476e-02  3.156396e-02   \n",
       "flags        0.015111  9.240696e-02  7.641571e-02  1.082770e-01  1.426121e-02   \n",
       "\n",
       "                      phi       day     TFlux  maxTotflux  meanTotflux  \\\n",
       "patchid      2.763865e-02 -0.086116  0.028593   -0.011552     0.029336   \n",
       "meantd      -4.346013e-17 -0.065212 -0.011987   -0.025420    -0.009839   \n",
       "maxtd       -2.681661e-17 -0.051133 -0.000348   -0.017725     0.001773   \n",
       "mintd        2.508737e-17 -0.078936 -0.021741   -0.030386    -0.019595   \n",
       "lamda       -1.947396e-17 -0.085173  0.030766   -0.008941     0.031564   \n",
       "phi          1.000000e+00 -0.035291 -0.078191   -0.094625    -0.080168   \n",
       "day         -3.529118e-02  1.000000  0.000927   -0.101477    -0.000174   \n",
       "TFlux       -7.819095e-02  0.000927  1.000000    0.817348     0.999498   \n",
       "maxTotflux  -9.462458e-02 -0.101477  0.817348    1.000000     0.818855   \n",
       "meanTotflux -8.016799e-02 -0.000174  0.999498    0.818855     1.000000   \n",
       "flags        3.094744e-02 -0.897376  0.015199    0.130162     0.016871   \n",
       "\n",
       "                flags  \n",
       "patchid      0.015111  \n",
       "meantd       0.092407  \n",
       "maxtd        0.076416  \n",
       "mintd        0.108277  \n",
       "lamda        0.014261  \n",
       "phi          0.030947  \n",
       "day         -0.897376  \n",
       "TFlux        0.015199  \n",
       "maxTotflux   0.130162  \n",
       "meanTotflux  0.016871  \n",
       "flags        1.000000  "
      ]
     },
     "execution_count": 46,
     "metadata": {},
     "output_type": "execute_result"
    }
   ],
   "source": [
    "df.corr()"
   ]
  },
  {
   "cell_type": "code",
   "execution_count": 51,
   "metadata": {},
   "outputs": [
    {
     "data": {
      "text/plain": [
       "0    339\n",
       "1     21\n",
       "Name: flags, dtype: int64"
      ]
     },
     "execution_count": 51,
     "metadata": {},
     "output_type": "execute_result"
    }
   ],
   "source": [
    "df[\"flags\"].value_counts()"
   ]
  },
  {
   "cell_type": "code",
   "execution_count": 47,
   "metadata": {},
   "outputs": [
    {
     "data": {
      "text/plain": [
       "<AxesSubplot:>"
      ]
     },
     "execution_count": 47,
     "metadata": {},
     "output_type": "execute_result"
    },
    {
     "data": {
      "image/png": "[encoded data removed]",
      "text/plain": [
       "<Figure size 432x288 with 1 Axes>"
      ]
     },
     "metadata": {
      "needs_background": "light"
     },
     "output_type": "display_data"
    }
   ],
   "source": [
    "df[\"flags\"].value_counts().plot(kind=\"bar\")"
   ]
  },
  {
   "cell_type": "code",
   "execution_count": 48,
   "metadata": {},
   "outputs": [
    {
     "data": {
      "text/plain": [
       "<AxesSubplot:ylabel='flags'>"
      ]
     },
     "execution_count": 48,
     "metadata": {},
     "output_type": "execute_result"
    },
    {
     "data": {
      "image/png": "[encoded data removed]",
      "text/plain": [
       "<Figure size 432x288 with 1 Axes>"
      ]
     },
     "metadata": {},
     "output_type": "display_data"
    }
   ],
   "source": [
    "df[\"flags\"].value_counts().plot(kind=\"pie\", autopct=\"%.2f\")"
   ]
  },
  {
   "cell_type": "code",
   "execution_count": 49,
   "metadata": {},
   "outputs": [
    {
     "name": "stderr",
     "output_type": "stream",
     "text": [
      "/home/vindia/anaconda3/lib/python3.7/site-packages/ipykernel_launcher.py:1: UserWarning: \n",
      "\n",
      "`distplot` is a deprecated function and will be removed in seaborn v0.14.0.\n",
      "\n",
      "Please adapt your code to use either `displot` (a figure-level function with\n",
      "similar flexibility) or `histplot` (an axes-level function for histograms).\n",
      "\n",
      "For a guide to updating your code to use the new functions, please see\n",
      "https://gist.github.com/mwaskom/de44147ed2974457ad6372750bbe5751\n",
      "\n",
      "  \"\"\"Entry point for launching an IPython kernel.\n"
     ]
    },
    {
     "data": {
      "text/plain": [
       "<AxesSubplot:xlabel='maxtd', ylabel='Density'>"
      ]
     },
     "execution_count": 49,
     "metadata": {},
     "output_type": "execute_result"
    },
    {
     "data": {
      "image/png": "[encoded data removed]",
      "text/plain": [
       "<Figure size 432x288 with 1 Axes>"
      ]
     },
     "metadata": {
      "needs_background": "light"
     },
     "output_type": "display_data"
    }
   ],
   "source": [
    "sns.distplot(df[\"maxtd\"])"
   ]
  },
  {
   "cell_type": "code",
   "execution_count": 21,
   "metadata": {},
   "outputs": [
    {
     "data": {
      "text/plain": [
       "<AxesSubplot:>"
      ]
     },
     "execution_count": 21,
     "metadata": {},
     "output_type": "execute_result"
    },
    {
     "data": {
      "image/png": "[encoded data removed]",
      "text/plain": [
       "<Figure size 432x288 with 1 Axes>"
      ]
     },
     "metadata": {
      "needs_background": "light"
     },
     "output_type": "display_data"
    }
   ],
   "source": [
    "sns.boxplot(df[\"tipdiff\"])"
   ]
  },
  {
   "cell_type": "code",
   "execution_count": 24,
   "metadata": {},
   "outputs": [
    {
     "data": {
      "text/plain": [
       "0.08652474540483304"
      ]
     },
     "execution_count": 24,
     "metadata": {},
     "output_type": "execute_result"
    }
   ],
   "source": [
    "df[\"tipdiff\"].skew()"
   ]
  },
  {
   "cell_type": "code",
   "execution_count": 35,
   "metadata": {},
   "outputs": [
    {
     "data": {
      "text/plain": [
       "<AxesSubplot:xlabel='lamda', ylabel='tipdiff'>"
      ]
     },
     "execution_count": 35,
     "metadata": {},
     "output_type": "execute_result"
    },
    {
     "data": {
      "image/png": "[encoded data removed]",
      "text/plain": [
       "<Figure size 432x288 with 1 Axes>"
      ]
     },
     "metadata": {
      "needs_background": "light"
     },
     "output_type": "display_data"
    }
   ],
   "source": [
    "sns.scatterplot(data=df, x='lamda',y='tipdiff',hue='day',style=\"flags\")"
   ]
  },
  {
   "cell_type": "code",
   "execution_count": 50,
   "metadata": {},
   "outputs": [
    {
     "data": {
      "text/plain": [
       "<AxesSubplot:xlabel='phi', ylabel='maxtd'>"
      ]
     },
     "execution_count": 50,
     "metadata": {},
     "output_type": "execute_result"
    },
    {
     "data": {
      "image/png": "[encoded data removed]",
      "text/plain": [
       "<Figure size 432x288 with 1 Axes>"
      ]
     },
     "metadata": {
      "needs_background": "light"
     },
     "output_type": "display_data"
    }
   ],
   "source": [
    "sns.barplot(data=df, x='phi',y='maxtd',hue='flags')"
   ]
  },
  {
   "cell_type": "code",
   "execution_count": 107,
   "metadata": {},
   "outputs": [
    {
     "name": "stdout",
     "output_type": "stream",
     "text": [
      "/home/vindia/samapti/cycle24(feb-july)/CR2149/TF3CR/CR0.txt\n"
     ]
    },
    {
     "data": {
      "text/html": [
       "<div>\n",
       "<style scoped>\n",
       "    .dataframe tbody tr th:only-of-type {\n",
       "        vertical-align: middle;\n",
       "    }\n",
       "\n",
       "    .dataframe tbody tr th {\n",
       "        vertical-align: top;\n",
       "    }\n",
       "\n",
       "    .dataframe thead th {\n",
       "        text-align: right;\n",
       "    }\n",
       "</style>\n",
       "<table border=\"1\" class=\"dataframe\">\n",
       "  <thead>\n",
       "    <tr style=\"text-align: right;\">\n",
       "      <th></th>\n",
       "      <th>patchid</th>\n",
       "      <th>meantd</th>\n",
       "      <th>maxtd</th>\n",
       "      <th>mintd</th>\n",
       "      <th>lamda</th>\n",
       "      <th>phi</th>\n",
       "      <th>day</th>\n",
       "      <th>TFlux</th>\n",
       "      <th>maxTotflux</th>\n",
       "      <th>meanTotflux</th>\n",
       "      <th>flags</th>\n",
       "    </tr>\n",
       "  </thead>\n",
       "  <tbody>\n",
       "    <tr>\n",
       "      <th>0</th>\n",
       "      <td>564</td>\n",
       "      <td>23.966036</td>\n",
       "      <td>25.495680</td>\n",
       "      <td>22.596793</td>\n",
       "      <td>285.0</td>\n",
       "      <td>-12.5</td>\n",
       "      <td>1</td>\n",
       "      <td>2.169728e+23</td>\n",
       "      <td>6.457557e+20</td>\n",
       "      <td>1.179200e+19</td>\n",
       "      <td>1</td>\n",
       "    </tr>\n",
       "    <tr>\n",
       "      <th>1</th>\n",
       "      <td>565</td>\n",
       "      <td>23.966036</td>\n",
       "      <td>25.495680</td>\n",
       "      <td>22.596793</td>\n",
       "      <td>285.0</td>\n",
       "      <td>-2.5</td>\n",
       "      <td>1</td>\n",
       "      <td>1.667119e+23</td>\n",
       "      <td>6.457557e+20</td>\n",
       "      <td>8.867655e+18</td>\n",
       "      <td>1</td>\n",
       "    </tr>\n",
       "    <tr>\n",
       "      <th>2</th>\n",
       "      <td>575</td>\n",
       "      <td>25.536088</td>\n",
       "      <td>27.224212</td>\n",
       "      <td>23.939379</td>\n",
       "      <td>290.0</td>\n",
       "      <td>-2.5</td>\n",
       "      <td>1</td>\n",
       "      <td>1.928484e+23</td>\n",
       "      <td>6.457557e+20</td>\n",
       "      <td>1.025789e+19</td>\n",
       "      <td>1</td>\n",
       "    </tr>\n",
       "    <tr>\n",
       "      <th>3</th>\n",
       "      <td>625</td>\n",
       "      <td>33.171895</td>\n",
       "      <td>33.977458</td>\n",
       "      <td>32.113608</td>\n",
       "      <td>315.0</td>\n",
       "      <td>-2.5</td>\n",
       "      <td>1</td>\n",
       "      <td>1.468510e+23</td>\n",
       "      <td>5.092293e+20</td>\n",
       "      <td>7.811226e+18</td>\n",
       "      <td>1</td>\n",
       "    </tr>\n",
       "    <tr>\n",
       "      <th>4</th>\n",
       "      <td>635</td>\n",
       "      <td>33.908413</td>\n",
       "      <td>34.282423</td>\n",
       "      <td>33.246726</td>\n",
       "      <td>320.0</td>\n",
       "      <td>-2.5</td>\n",
       "      <td>1</td>\n",
       "      <td>1.444461e+23</td>\n",
       "      <td>5.092293e+20</td>\n",
       "      <td>7.683302e+18</td>\n",
       "      <td>1</td>\n",
       "    </tr>\n",
       "  </tbody>\n",
       "</table>\n",
       "</div>"
      ],
      "text/plain": [
       "   patchid     meantd      maxtd      mintd  lamda   phi  day         TFlux  \\\n",
       "0      564  23.966036  25.495680  22.596793  285.0 -12.5    1  2.169728e+23   \n",
       "1      565  23.966036  25.495680  22.596793  285.0  -2.5    1  1.667119e+23   \n",
       "2      575  25.536088  27.224212  23.939379  290.0  -2.5    1  1.928484e+23   \n",
       "3      625  33.171895  33.977458  32.113608  315.0  -2.5    1  1.468510e+23   \n",
       "4      635  33.908413  34.282423  33.246726  320.0  -2.5    1  1.444461e+23   \n",
       "\n",
       "     maxTotflux   meanTotflux  flags  \n",
       "0  6.457557e+20  1.179200e+19      1  \n",
       "1  6.457557e+20  8.867655e+18      1  \n",
       "2  6.457557e+20  1.025789e+19      1  \n",
       "3  5.092293e+20  7.811226e+18      1  \n",
       "4  5.092293e+20  7.683302e+18      1  "
      ]
     },
     "execution_count": 107,
     "metadata": {},
     "output_type": "execute_result"
    }
   ],
   "source": [
    "folder_path = \"/home/vindia/samapti/cycle24(feb-july)/CR2149/TF3CR\"\n",
    "save_dir = \"/home/vindia/samapti/cycle24(feb-july)/CR2149\"\n",
    "txt_files =sorted(glob.glob(os.path.join(folder_path, \"*.txt\")))\n",
    "with open(txt_files[2], \"r\") as f:\n",
    "    print(txt_files[2])\n",
    "    data = [ast.literal_eval(line.strip()) for line in f]\n",
    "df0=pd.DataFrame(data, columns=[\"patchid\", \"meantd\", \"maxtd\", \"mintd\",\"lamda\",\"phi\",\"day\",\"TFlux\",\"maxTotflux\",\"meanTotflux\",\"flags\"])\n",
    "df0.head()"
   ]
  },
  {
   "cell_type": "code",
   "execution_count": 108,
   "metadata": {},
   "outputs": [
    {
     "data": {
      "text/html": [
       "<div>\n",
       "<style scoped>\n",
       "    .dataframe tbody tr th:only-of-type {\n",
       "        vertical-align: middle;\n",
       "    }\n",
       "\n",
       "    .dataframe tbody tr th {\n",
       "        vertical-align: top;\n",
       "    }\n",
       "\n",
       "    .dataframe thead th {\n",
       "        text-align: right;\n",
       "    }\n",
       "</style>\n",
       "<table border=\"1\" class=\"dataframe\">\n",
       "  <thead>\n",
       "    <tr style=\"text-align: right;\">\n",
       "      <th></th>\n",
       "      <th>patchid</th>\n",
       "      <th>meantd</th>\n",
       "      <th>maxtd</th>\n",
       "      <th>mintd</th>\n",
       "      <th>lamda</th>\n",
       "      <th>phi</th>\n",
       "      <th>day</th>\n",
       "      <th>TFlux</th>\n",
       "      <th>maxTotflux</th>\n",
       "      <th>meanTotflux</th>\n",
       "      <th>flags</th>\n",
       "    </tr>\n",
       "  </thead>\n",
       "  <tbody>\n",
       "    <tr>\n",
       "      <th>patchid</th>\n",
       "      <td>1.000000</td>\n",
       "      <td>1.992192e-01</td>\n",
       "      <td>1.904745e-01</td>\n",
       "      <td>2.028653e-01</td>\n",
       "      <td>9.999045e-01</td>\n",
       "      <td>1.381928e-02</td>\n",
       "      <td>-0.118440</td>\n",
       "      <td>-0.051166</td>\n",
       "      <td>-0.087763</td>\n",
       "      <td>-0.048946</td>\n",
       "      <td>0.116156</td>\n",
       "    </tr>\n",
       "    <tr>\n",
       "      <th>meantd</th>\n",
       "      <td>0.199219</td>\n",
       "      <td>1.000000e+00</td>\n",
       "      <td>9.937242e-01</td>\n",
       "      <td>9.938167e-01</td>\n",
       "      <td>1.992383e-01</td>\n",
       "      <td>-6.223308e-17</td>\n",
       "      <td>0.091502</td>\n",
       "      <td>-0.044889</td>\n",
       "      <td>-0.077765</td>\n",
       "      <td>-0.041231</td>\n",
       "      <td>-0.062347</td>\n",
       "    </tr>\n",
       "    <tr>\n",
       "      <th>maxtd</th>\n",
       "      <td>0.190474</td>\n",
       "      <td>9.937242e-01</td>\n",
       "      <td>1.000000e+00</td>\n",
       "      <td>9.752081e-01</td>\n",
       "      <td>1.904927e-01</td>\n",
       "      <td>-5.956100e-17</td>\n",
       "      <td>0.093537</td>\n",
       "      <td>-0.055743</td>\n",
       "      <td>-0.088334</td>\n",
       "      <td>-0.052105</td>\n",
       "      <td>-0.066754</td>\n",
       "    </tr>\n",
       "    <tr>\n",
       "      <th>mintd</th>\n",
       "      <td>0.202865</td>\n",
       "      <td>9.938167e-01</td>\n",
       "      <td>9.752081e-01</td>\n",
       "      <td>1.000000e+00</td>\n",
       "      <td>2.028847e-01</td>\n",
       "      <td>-1.054665e-17</td>\n",
       "      <td>0.088720</td>\n",
       "      <td>-0.034395</td>\n",
       "      <td>-0.067079</td>\n",
       "      <td>-0.030775</td>\n",
       "      <td>-0.057451</td>\n",
       "    </tr>\n",
       "    <tr>\n",
       "      <th>lamda</th>\n",
       "      <td>0.999905</td>\n",
       "      <td>1.992383e-01</td>\n",
       "      <td>1.904927e-01</td>\n",
       "      <td>2.028847e-01</td>\n",
       "      <td>1.000000e+00</td>\n",
       "      <td>-3.470440e-17</td>\n",
       "      <td>-0.119180</td>\n",
       "      <td>-0.049741</td>\n",
       "      <td>-0.085772</td>\n",
       "      <td>-0.047500</td>\n",
       "      <td>0.117068</td>\n",
       "    </tr>\n",
       "    <tr>\n",
       "      <th>phi</th>\n",
       "      <td>0.013819</td>\n",
       "      <td>-6.223308e-17</td>\n",
       "      <td>-5.956100e-17</td>\n",
       "      <td>-1.054665e-17</td>\n",
       "      <td>-3.470440e-17</td>\n",
       "      <td>1.000000e+00</td>\n",
       "      <td>0.052774</td>\n",
       "      <td>-0.103475</td>\n",
       "      <td>-0.144657</td>\n",
       "      <td>-0.104945</td>\n",
       "      <td>-0.065158</td>\n",
       "    </tr>\n",
       "    <tr>\n",
       "      <th>day</th>\n",
       "      <td>-0.118440</td>\n",
       "      <td>9.150230e-02</td>\n",
       "      <td>9.353697e-02</td>\n",
       "      <td>8.871975e-02</td>\n",
       "      <td>-1.191802e-01</td>\n",
       "      <td>5.277360e-02</td>\n",
       "      <td>1.000000</td>\n",
       "      <td>-0.037313</td>\n",
       "      <td>-0.111409</td>\n",
       "      <td>-0.036487</td>\n",
       "      <td>-0.829071</td>\n",
       "    </tr>\n",
       "    <tr>\n",
       "      <th>TFlux</th>\n",
       "      <td>-0.051166</td>\n",
       "      <td>-4.488851e-02</td>\n",
       "      <td>-5.574268e-02</td>\n",
       "      <td>-3.439510e-02</td>\n",
       "      <td>-4.974071e-02</td>\n",
       "      <td>-1.034747e-01</td>\n",
       "      <td>-0.037313</td>\n",
       "      <td>1.000000</td>\n",
       "      <td>0.783435</td>\n",
       "      <td>0.999559</td>\n",
       "      <td>0.015381</td>\n",
       "    </tr>\n",
       "    <tr>\n",
       "      <th>maxTotflux</th>\n",
       "      <td>-0.087763</td>\n",
       "      <td>-7.776501e-02</td>\n",
       "      <td>-8.833360e-02</td>\n",
       "      <td>-6.707934e-02</td>\n",
       "      <td>-8.577173e-02</td>\n",
       "      <td>-1.446575e-01</td>\n",
       "      <td>-0.111409</td>\n",
       "      <td>0.783435</td>\n",
       "      <td>1.000000</td>\n",
       "      <td>0.781588</td>\n",
       "      <td>0.123385</td>\n",
       "    </tr>\n",
       "    <tr>\n",
       "      <th>meanTotflux</th>\n",
       "      <td>-0.048946</td>\n",
       "      <td>-4.123103e-02</td>\n",
       "      <td>-5.210495e-02</td>\n",
       "      <td>-3.077475e-02</td>\n",
       "      <td>-4.750012e-02</td>\n",
       "      <td>-1.049455e-01</td>\n",
       "      <td>-0.036487</td>\n",
       "      <td>0.999559</td>\n",
       "      <td>0.781588</td>\n",
       "      <td>1.000000</td>\n",
       "      <td>0.014668</td>\n",
       "    </tr>\n",
       "    <tr>\n",
       "      <th>flags</th>\n",
       "      <td>0.116156</td>\n",
       "      <td>-6.234679e-02</td>\n",
       "      <td>-6.675442e-02</td>\n",
       "      <td>-5.745073e-02</td>\n",
       "      <td>1.170678e-01</td>\n",
       "      <td>-6.515789e-02</td>\n",
       "      <td>-0.829071</td>\n",
       "      <td>0.015381</td>\n",
       "      <td>0.123385</td>\n",
       "      <td>0.014668</td>\n",
       "      <td>1.000000</td>\n",
       "    </tr>\n",
       "  </tbody>\n",
       "</table>\n",
       "</div>"
      ],
      "text/plain": [
       "              patchid        meantd         maxtd         mintd         lamda  \\\n",
       "patchid      1.000000  1.992192e-01  1.904745e-01  2.028653e-01  9.999045e-01   \n",
       "meantd       0.199219  1.000000e+00  9.937242e-01  9.938167e-01  1.992383e-01   \n",
       "maxtd        0.190474  9.937242e-01  1.000000e+00  9.752081e-01  1.904927e-01   \n",
       "mintd        0.202865  9.938167e-01  9.752081e-01  1.000000e+00  2.028847e-01   \n",
       "lamda        0.999905  1.992383e-01  1.904927e-01  2.028847e-01  1.000000e+00   \n",
       "phi          0.013819 -6.223308e-17 -5.956100e-17 -1.054665e-17 -3.470440e-17   \n",
       "day         -0.118440  9.150230e-02  9.353697e-02  8.871975e-02 -1.191802e-01   \n",
       "TFlux       -0.051166 -4.488851e-02 -5.574268e-02 -3.439510e-02 -4.974071e-02   \n",
       "maxTotflux  -0.087763 -7.776501e-02 -8.833360e-02 -6.707934e-02 -8.577173e-02   \n",
       "meanTotflux -0.048946 -4.123103e-02 -5.210495e-02 -3.077475e-02 -4.750012e-02   \n",
       "flags        0.116156 -6.234679e-02 -6.675442e-02 -5.745073e-02  1.170678e-01   \n",
       "\n",
       "                      phi       day     TFlux  maxTotflux  meanTotflux  \\\n",
       "patchid      1.381928e-02 -0.118440 -0.051166   -0.087763    -0.048946   \n",
       "meantd      -6.223308e-17  0.091502 -0.044889   -0.077765    -0.041231   \n",
       "maxtd       -5.956100e-17  0.093537 -0.055743   -0.088334    -0.052105   \n",
       "mintd       -1.054665e-17  0.088720 -0.034395   -0.067079    -0.030775   \n",
       "lamda       -3.470440e-17 -0.119180 -0.049741   -0.085772    -0.047500   \n",
       "phi          1.000000e+00  0.052774 -0.103475   -0.144657    -0.104945   \n",
       "day          5.277360e-02  1.000000 -0.037313   -0.111409    -0.036487   \n",
       "TFlux       -1.034747e-01 -0.037313  1.000000    0.783435     0.999559   \n",
       "maxTotflux  -1.446575e-01 -0.111409  0.783435    1.000000     0.781588   \n",
       "meanTotflux -1.049455e-01 -0.036487  0.999559    0.781588     1.000000   \n",
       "flags       -6.515789e-02 -0.829071  0.015381    0.123385     0.014668   \n",
       "\n",
       "                flags  \n",
       "patchid      0.116156  \n",
       "meantd      -0.062347  \n",
       "maxtd       -0.066754  \n",
       "mintd       -0.057451  \n",
       "lamda        0.117068  \n",
       "phi         -0.065158  \n",
       "day         -0.829071  \n",
       "TFlux        0.015381  \n",
       "maxTotflux   0.123385  \n",
       "meanTotflux  0.014668  \n",
       "flags        1.000000  "
      ]
     },
     "execution_count": 108,
     "metadata": {},
     "output_type": "execute_result"
    }
   ],
   "source": [
    "df0.corr()"
   ]
  },
  {
   "cell_type": "code",
   "execution_count": 109,
   "metadata": {},
   "outputs": [
    {
     "data": {
      "text/html": [
       "<div>\n",
       "<style scoped>\n",
       "    .dataframe tbody tr th:only-of-type {\n",
       "        vertical-align: middle;\n",
       "    }\n",
       "\n",
       "    .dataframe tbody tr th {\n",
       "        vertical-align: top;\n",
       "    }\n",
       "\n",
       "    .dataframe thead th {\n",
       "        text-align: right;\n",
       "    }\n",
       "</style>\n",
       "<table border=\"1\" class=\"dataframe\">\n",
       "  <thead>\n",
       "    <tr style=\"text-align: right;\">\n",
       "      <th></th>\n",
       "      <th>patchid</th>\n",
       "      <th>meantd</th>\n",
       "      <th>maxtd</th>\n",
       "      <th>mintd</th>\n",
       "      <th>lamda</th>\n",
       "      <th>phi</th>\n",
       "      <th>day</th>\n",
       "      <th>TFlux</th>\n",
       "      <th>maxTotflux</th>\n",
       "      <th>meanTotflux</th>\n",
       "      <th>flags</th>\n",
       "    </tr>\n",
       "  </thead>\n",
       "  <tbody>\n",
       "    <tr>\n",
       "      <th>patchid</th>\n",
       "      <td>1.000000</td>\n",
       "      <td>1.992192e-01</td>\n",
       "      <td>1.904745e-01</td>\n",
       "      <td>2.028653e-01</td>\n",
       "      <td>9.999045e-01</td>\n",
       "      <td>1.381928e-02</td>\n",
       "      <td>-0.118440</td>\n",
       "      <td>-0.051166</td>\n",
       "      <td>-0.087763</td>\n",
       "      <td>-0.048946</td>\n",
       "      <td>0.116156</td>\n",
       "    </tr>\n",
       "    <tr>\n",
       "      <th>meantd</th>\n",
       "      <td>0.199219</td>\n",
       "      <td>1.000000e+00</td>\n",
       "      <td>9.937242e-01</td>\n",
       "      <td>9.938167e-01</td>\n",
       "      <td>1.992383e-01</td>\n",
       "      <td>-6.223308e-17</td>\n",
       "      <td>0.091502</td>\n",
       "      <td>-0.044889</td>\n",
       "      <td>-0.077765</td>\n",
       "      <td>-0.041231</td>\n",
       "      <td>-0.062347</td>\n",
       "    </tr>\n",
       "    <tr>\n",
       "      <th>maxtd</th>\n",
       "      <td>0.190474</td>\n",
       "      <td>9.937242e-01</td>\n",
       "      <td>1.000000e+00</td>\n",
       "      <td>9.752081e-01</td>\n",
       "      <td>1.904927e-01</td>\n",
       "      <td>-5.956100e-17</td>\n",
       "      <td>0.093537</td>\n",
       "      <td>-0.055743</td>\n",
       "      <td>-0.088334</td>\n",
       "      <td>-0.052105</td>\n",
       "      <td>-0.066754</td>\n",
       "    </tr>\n",
       "    <tr>\n",
       "      <th>mintd</th>\n",
       "      <td>0.202865</td>\n",
       "      <td>9.938167e-01</td>\n",
       "      <td>9.752081e-01</td>\n",
       "      <td>1.000000e+00</td>\n",
       "      <td>2.028847e-01</td>\n",
       "      <td>-1.054665e-17</td>\n",
       "      <td>0.088720</td>\n",
       "      <td>-0.034395</td>\n",
       "      <td>-0.067079</td>\n",
       "      <td>-0.030775</td>\n",
       "      <td>-0.057451</td>\n",
       "    </tr>\n",
       "    <tr>\n",
       "      <th>lamda</th>\n",
       "      <td>0.999905</td>\n",
       "      <td>1.992383e-01</td>\n",
       "      <td>1.904927e-01</td>\n",
       "      <td>2.028847e-01</td>\n",
       "      <td>1.000000e+00</td>\n",
       "      <td>-3.470440e-17</td>\n",
       "      <td>-0.119180</td>\n",
       "      <td>-0.049741</td>\n",
       "      <td>-0.085772</td>\n",
       "      <td>-0.047500</td>\n",
       "      <td>0.117068</td>\n",
       "    </tr>\n",
       "    <tr>\n",
       "      <th>phi</th>\n",
       "      <td>0.013819</td>\n",
       "      <td>-6.223308e-17</td>\n",
       "      <td>-5.956100e-17</td>\n",
       "      <td>-1.054665e-17</td>\n",
       "      <td>-3.470440e-17</td>\n",
       "      <td>1.000000e+00</td>\n",
       "      <td>0.052774</td>\n",
       "      <td>-0.103475</td>\n",
       "      <td>-0.144657</td>\n",
       "      <td>-0.104945</td>\n",
       "      <td>-0.065158</td>\n",
       "    </tr>\n",
       "    <tr>\n",
       "      <th>day</th>\n",
       "      <td>-0.118440</td>\n",
       "      <td>9.150230e-02</td>\n",
       "      <td>9.353697e-02</td>\n",
       "      <td>8.871975e-02</td>\n",
       "      <td>-1.191802e-01</td>\n",
       "      <td>5.277360e-02</td>\n",
       "      <td>1.000000</td>\n",
       "      <td>-0.037313</td>\n",
       "      <td>-0.111409</td>\n",
       "      <td>-0.036487</td>\n",
       "      <td>-0.829071</td>\n",
       "    </tr>\n",
       "    <tr>\n",
       "      <th>TFlux</th>\n",
       "      <td>-0.051166</td>\n",
       "      <td>-4.488851e-02</td>\n",
       "      <td>-5.574268e-02</td>\n",
       "      <td>-3.439510e-02</td>\n",
       "      <td>-4.974071e-02</td>\n",
       "      <td>-1.034747e-01</td>\n",
       "      <td>-0.037313</td>\n",
       "      <td>1.000000</td>\n",
       "      <td>0.783435</td>\n",
       "      <td>0.999559</td>\n",
       "      <td>0.015381</td>\n",
       "    </tr>\n",
       "    <tr>\n",
       "      <th>maxTotflux</th>\n",
       "      <td>-0.087763</td>\n",
       "      <td>-7.776501e-02</td>\n",
       "      <td>-8.833360e-02</td>\n",
       "      <td>-6.707934e-02</td>\n",
       "      <td>-8.577173e-02</td>\n",
       "      <td>-1.446575e-01</td>\n",
       "      <td>-0.111409</td>\n",
       "      <td>0.783435</td>\n",
       "      <td>1.000000</td>\n",
       "      <td>0.781588</td>\n",
       "      <td>0.123385</td>\n",
       "    </tr>\n",
       "    <tr>\n",
       "      <th>meanTotflux</th>\n",
       "      <td>-0.048946</td>\n",
       "      <td>-4.123103e-02</td>\n",
       "      <td>-5.210495e-02</td>\n",
       "      <td>-3.077475e-02</td>\n",
       "      <td>-4.750012e-02</td>\n",
       "      <td>-1.049455e-01</td>\n",
       "      <td>-0.036487</td>\n",
       "      <td>0.999559</td>\n",
       "      <td>0.781588</td>\n",
       "      <td>1.000000</td>\n",
       "      <td>0.014668</td>\n",
       "    </tr>\n",
       "    <tr>\n",
       "      <th>flags</th>\n",
       "      <td>0.116156</td>\n",
       "      <td>-6.234679e-02</td>\n",
       "      <td>-6.675442e-02</td>\n",
       "      <td>-5.745073e-02</td>\n",
       "      <td>1.170678e-01</td>\n",
       "      <td>-6.515789e-02</td>\n",
       "      <td>-0.829071</td>\n",
       "      <td>0.015381</td>\n",
       "      <td>0.123385</td>\n",
       "      <td>0.014668</td>\n",
       "      <td>1.000000</td>\n",
       "    </tr>\n",
       "  </tbody>\n",
       "</table>\n",
       "</div>"
      ],
      "text/plain": [
       "              patchid        meantd         maxtd         mintd         lamda  \\\n",
       "patchid      1.000000  1.992192e-01  1.904745e-01  2.028653e-01  9.999045e-01   \n",
       "meantd       0.199219  1.000000e+00  9.937242e-01  9.938167e-01  1.992383e-01   \n",
       "maxtd        0.190474  9.937242e-01  1.000000e+00  9.752081e-01  1.904927e-01   \n",
       "mintd        0.202865  9.938167e-01  9.752081e-01  1.000000e+00  2.028847e-01   \n",
       "lamda        0.999905  1.992383e-01  1.904927e-01  2.028847e-01  1.000000e+00   \n",
       "phi          0.013819 -6.223308e-17 -5.956100e-17 -1.054665e-17 -3.470440e-17   \n",
       "day         -0.118440  9.150230e-02  9.353697e-02  8.871975e-02 -1.191802e-01   \n",
       "TFlux       -0.051166 -4.488851e-02 -5.574268e-02 -3.439510e-02 -4.974071e-02   \n",
       "maxTotflux  -0.087763 -7.776501e-02 -8.833360e-02 -6.707934e-02 -8.577173e-02   \n",
       "meanTotflux -0.048946 -4.123103e-02 -5.210495e-02 -3.077475e-02 -4.750012e-02   \n",
       "flags        0.116156 -6.234679e-02 -6.675442e-02 -5.745073e-02  1.170678e-01   \n",
       "\n",
       "                      phi       day     TFlux  maxTotflux  meanTotflux  \\\n",
       "patchid      1.381928e-02 -0.118440 -0.051166   -0.087763    -0.048946   \n",
       "meantd      -6.223308e-17  0.091502 -0.044889   -0.077765    -0.041231   \n",
       "maxtd       -5.956100e-17  0.093537 -0.055743   -0.088334    -0.052105   \n",
       "mintd       -1.054665e-17  0.088720 -0.034395   -0.067079    -0.030775   \n",
       "lamda       -3.470440e-17 -0.119180 -0.049741   -0.085772    -0.047500   \n",
       "phi          1.000000e+00  0.052774 -0.103475   -0.144657    -0.104945   \n",
       "day          5.277360e-02  1.000000 -0.037313   -0.111409    -0.036487   \n",
       "TFlux       -1.034747e-01 -0.037313  1.000000    0.783435     0.999559   \n",
       "maxTotflux  -1.446575e-01 -0.111409  0.783435    1.000000     0.781588   \n",
       "meanTotflux -1.049455e-01 -0.036487  0.999559    0.781588     1.000000   \n",
       "flags       -6.515789e-02 -0.829071  0.015381    0.123385     0.014668   \n",
       "\n",
       "                flags  \n",
       "patchid      0.116156  \n",
       "meantd      -0.062347  \n",
       "maxtd       -0.066754  \n",
       "mintd       -0.057451  \n",
       "lamda        0.117068  \n",
       "phi         -0.065158  \n",
       "day         -0.829071  \n",
       "TFlux        0.015381  \n",
       "maxTotflux   0.123385  \n",
       "meanTotflux  0.014668  \n",
       "flags        1.000000  "
      ]
     },
     "execution_count": 109,
     "metadata": {},
     "output_type": "execute_result"
    }
   ],
   "source": [
    "df0.corr(method='pearson')"
   ]
  },
  {
   "cell_type": "code",
   "execution_count": 110,
   "metadata": {},
   "outputs": [
    {
     "data": {
      "text/html": [
       "<div>\n",
       "<style scoped>\n",
       "    .dataframe tbody tr th:only-of-type {\n",
       "        vertical-align: middle;\n",
       "    }\n",
       "\n",
       "    .dataframe tbody tr th {\n",
       "        vertical-align: top;\n",
       "    }\n",
       "\n",
       "    .dataframe thead th {\n",
       "        text-align: right;\n",
       "    }\n",
       "</style>\n",
       "<table border=\"1\" class=\"dataframe\">\n",
       "  <thead>\n",
       "    <tr style=\"text-align: right;\">\n",
       "      <th></th>\n",
       "      <th>patchid</th>\n",
       "      <th>meantd</th>\n",
       "      <th>maxtd</th>\n",
       "      <th>mintd</th>\n",
       "      <th>lamda</th>\n",
       "      <th>phi</th>\n",
       "      <th>day</th>\n",
       "      <th>TFlux</th>\n",
       "      <th>maxTotflux</th>\n",
       "      <th>meanTotflux</th>\n",
       "      <th>flags</th>\n",
       "    </tr>\n",
       "  </thead>\n",
       "  <tbody>\n",
       "    <tr>\n",
       "      <th>patchid</th>\n",
       "      <td>1.000000</td>\n",
       "      <td>0.134518</td>\n",
       "      <td>0.117870</td>\n",
       "      <td>0.150965</td>\n",
       "      <td>0.993722</td>\n",
       "      <td>0.013185</td>\n",
       "      <td>-0.095576</td>\n",
       "      <td>-0.034235</td>\n",
       "      <td>-0.028249</td>\n",
       "      <td>-0.031901</td>\n",
       "      <td>0.094907</td>\n",
       "    </tr>\n",
       "    <tr>\n",
       "      <th>meantd</th>\n",
       "      <td>0.134518</td>\n",
       "      <td>1.000000</td>\n",
       "      <td>0.963398</td>\n",
       "      <td>0.959280</td>\n",
       "      <td>0.135368</td>\n",
       "      <td>0.000000</td>\n",
       "      <td>0.083286</td>\n",
       "      <td>-0.023650</td>\n",
       "      <td>-0.020331</td>\n",
       "      <td>-0.025633</td>\n",
       "      <td>-0.048912</td>\n",
       "    </tr>\n",
       "    <tr>\n",
       "      <th>maxtd</th>\n",
       "      <td>0.117870</td>\n",
       "      <td>0.963398</td>\n",
       "      <td>1.000000</td>\n",
       "      <td>0.922625</td>\n",
       "      <td>0.118614</td>\n",
       "      <td>0.000000</td>\n",
       "      <td>0.087957</td>\n",
       "      <td>-0.022665</td>\n",
       "      <td>-0.020226</td>\n",
       "      <td>-0.024820</td>\n",
       "      <td>-0.053434</td>\n",
       "    </tr>\n",
       "    <tr>\n",
       "      <th>mintd</th>\n",
       "      <td>0.150965</td>\n",
       "      <td>0.959280</td>\n",
       "      <td>0.922625</td>\n",
       "      <td>1.000000</td>\n",
       "      <td>0.151919</td>\n",
       "      <td>0.000000</td>\n",
       "      <td>0.081798</td>\n",
       "      <td>-0.023976</td>\n",
       "      <td>-0.019805</td>\n",
       "      <td>-0.025603</td>\n",
       "      <td>-0.048100</td>\n",
       "    </tr>\n",
       "    <tr>\n",
       "      <th>lamda</th>\n",
       "      <td>0.993722</td>\n",
       "      <td>0.135368</td>\n",
       "      <td>0.118614</td>\n",
       "      <td>0.151919</td>\n",
       "      <td>1.000000</td>\n",
       "      <td>0.000000</td>\n",
       "      <td>-0.096731</td>\n",
       "      <td>-0.031442</td>\n",
       "      <td>-0.025726</td>\n",
       "      <td>-0.029070</td>\n",
       "      <td>0.096247</td>\n",
       "    </tr>\n",
       "    <tr>\n",
       "      <th>phi</th>\n",
       "      <td>0.013185</td>\n",
       "      <td>0.000000</td>\n",
       "      <td>0.000000</td>\n",
       "      <td>0.000000</td>\n",
       "      <td>0.000000</td>\n",
       "      <td>1.000000</td>\n",
       "      <td>0.046491</td>\n",
       "      <td>-0.208430</td>\n",
       "      <td>-0.198696</td>\n",
       "      <td>-0.208967</td>\n",
       "      <td>-0.055798</td>\n",
       "    </tr>\n",
       "    <tr>\n",
       "      <th>day</th>\n",
       "      <td>-0.095576</td>\n",
       "      <td>0.083286</td>\n",
       "      <td>0.087957</td>\n",
       "      <td>0.081798</td>\n",
       "      <td>-0.096731</td>\n",
       "      <td>0.046491</td>\n",
       "      <td>1.000000</td>\n",
       "      <td>-0.150401</td>\n",
       "      <td>-0.192749</td>\n",
       "      <td>-0.148463</td>\n",
       "      <td>-0.921502</td>\n",
       "    </tr>\n",
       "    <tr>\n",
       "      <th>TFlux</th>\n",
       "      <td>-0.034235</td>\n",
       "      <td>-0.023650</td>\n",
       "      <td>-0.022665</td>\n",
       "      <td>-0.023976</td>\n",
       "      <td>-0.031442</td>\n",
       "      <td>-0.208430</td>\n",
       "      <td>-0.150401</td>\n",
       "      <td>1.000000</td>\n",
       "      <td>0.893203</td>\n",
       "      <td>0.982552</td>\n",
       "      <td>0.156158</td>\n",
       "    </tr>\n",
       "    <tr>\n",
       "      <th>maxTotflux</th>\n",
       "      <td>-0.028249</td>\n",
       "      <td>-0.020331</td>\n",
       "      <td>-0.020226</td>\n",
       "      <td>-0.019805</td>\n",
       "      <td>-0.025726</td>\n",
       "      <td>-0.198696</td>\n",
       "      <td>-0.192749</td>\n",
       "      <td>0.893203</td>\n",
       "      <td>1.000000</td>\n",
       "      <td>0.893063</td>\n",
       "      <td>0.207856</td>\n",
       "    </tr>\n",
       "    <tr>\n",
       "      <th>meanTotflux</th>\n",
       "      <td>-0.031901</td>\n",
       "      <td>-0.025633</td>\n",
       "      <td>-0.024820</td>\n",
       "      <td>-0.025603</td>\n",
       "      <td>-0.029070</td>\n",
       "      <td>-0.208967</td>\n",
       "      <td>-0.148463</td>\n",
       "      <td>0.982552</td>\n",
       "      <td>0.893063</td>\n",
       "      <td>1.000000</td>\n",
       "      <td>0.154494</td>\n",
       "    </tr>\n",
       "    <tr>\n",
       "      <th>flags</th>\n",
       "      <td>0.094907</td>\n",
       "      <td>-0.048912</td>\n",
       "      <td>-0.053434</td>\n",
       "      <td>-0.048100</td>\n",
       "      <td>0.096247</td>\n",
       "      <td>-0.055798</td>\n",
       "      <td>-0.921502</td>\n",
       "      <td>0.156158</td>\n",
       "      <td>0.207856</td>\n",
       "      <td>0.154494</td>\n",
       "      <td>1.000000</td>\n",
       "    </tr>\n",
       "  </tbody>\n",
       "</table>\n",
       "</div>"
      ],
      "text/plain": [
       "              patchid    meantd     maxtd     mintd     lamda       phi  \\\n",
       "patchid      1.000000  0.134518  0.117870  0.150965  0.993722  0.013185   \n",
       "meantd       0.134518  1.000000  0.963398  0.959280  0.135368  0.000000   \n",
       "maxtd        0.117870  0.963398  1.000000  0.922625  0.118614  0.000000   \n",
       "mintd        0.150965  0.959280  0.922625  1.000000  0.151919  0.000000   \n",
       "lamda        0.993722  0.135368  0.118614  0.151919  1.000000  0.000000   \n",
       "phi          0.013185  0.000000  0.000000  0.000000  0.000000  1.000000   \n",
       "day         -0.095576  0.083286  0.087957  0.081798 -0.096731  0.046491   \n",
       "TFlux       -0.034235 -0.023650 -0.022665 -0.023976 -0.031442 -0.208430   \n",
       "maxTotflux  -0.028249 -0.020331 -0.020226 -0.019805 -0.025726 -0.198696   \n",
       "meanTotflux -0.031901 -0.025633 -0.024820 -0.025603 -0.029070 -0.208967   \n",
       "flags        0.094907 -0.048912 -0.053434 -0.048100  0.096247 -0.055798   \n",
       "\n",
       "                  day     TFlux  maxTotflux  meanTotflux     flags  \n",
       "patchid     -0.095576 -0.034235   -0.028249    -0.031901  0.094907  \n",
       "meantd       0.083286 -0.023650   -0.020331    -0.025633 -0.048912  \n",
       "maxtd        0.087957 -0.022665   -0.020226    -0.024820 -0.053434  \n",
       "mintd        0.081798 -0.023976   -0.019805    -0.025603 -0.048100  \n",
       "lamda       -0.096731 -0.031442   -0.025726    -0.029070  0.096247  \n",
       "phi          0.046491 -0.208430   -0.198696    -0.208967 -0.055798  \n",
       "day          1.000000 -0.150401   -0.192749    -0.148463 -0.921502  \n",
       "TFlux       -0.150401  1.000000    0.893203     0.982552  0.156158  \n",
       "maxTotflux  -0.192749  0.893203    1.000000     0.893063  0.207856  \n",
       "meanTotflux -0.148463  0.982552    0.893063     1.000000  0.154494  \n",
       "flags       -0.921502  0.156158    0.207856     0.154494  1.000000  "
      ]
     },
     "execution_count": 110,
     "metadata": {},
     "output_type": "execute_result"
    }
   ],
   "source": [
    "df0.corr(method='kendall')"
   ]
  },
  {
   "cell_type": "code",
   "execution_count": 111,
   "metadata": {},
   "outputs": [
    {
     "data": {
      "text/html": [
       "<div>\n",
       "<style scoped>\n",
       "    .dataframe tbody tr th:only-of-type {\n",
       "        vertical-align: middle;\n",
       "    }\n",
       "\n",
       "    .dataframe tbody tr th {\n",
       "        vertical-align: top;\n",
       "    }\n",
       "\n",
       "    .dataframe thead th {\n",
       "        text-align: right;\n",
       "    }\n",
       "</style>\n",
       "<table border=\"1\" class=\"dataframe\">\n",
       "  <thead>\n",
       "    <tr style=\"text-align: right;\">\n",
       "      <th></th>\n",
       "      <th>patchid</th>\n",
       "      <th>meantd</th>\n",
       "      <th>maxtd</th>\n",
       "      <th>mintd</th>\n",
       "      <th>lamda</th>\n",
       "      <th>phi</th>\n",
       "      <th>day</th>\n",
       "      <th>TFlux</th>\n",
       "      <th>maxTotflux</th>\n",
       "      <th>meanTotflux</th>\n",
       "      <th>flags</th>\n",
       "    </tr>\n",
       "  </thead>\n",
       "  <tbody>\n",
       "    <tr>\n",
       "      <th>patchid</th>\n",
       "      <td>1.000000</td>\n",
       "      <td>0.202727</td>\n",
       "      <td>0.173841</td>\n",
       "      <td>0.230611</td>\n",
       "      <td>0.999905</td>\n",
       "      <td>0.013819</td>\n",
       "      <td>-0.116264</td>\n",
       "      <td>-0.056033</td>\n",
       "      <td>-0.046944</td>\n",
       "      <td>-0.053041</td>\n",
       "      <td>0.116156</td>\n",
       "    </tr>\n",
       "    <tr>\n",
       "      <th>meantd</th>\n",
       "      <td>0.202727</td>\n",
       "      <td>1.000000</td>\n",
       "      <td>0.996326</td>\n",
       "      <td>0.996270</td>\n",
       "      <td>0.202746</td>\n",
       "      <td>0.000000</td>\n",
       "      <td>0.102406</td>\n",
       "      <td>-0.035234</td>\n",
       "      <td>-0.032264</td>\n",
       "      <td>-0.038335</td>\n",
       "      <td>-0.059493</td>\n",
       "    </tr>\n",
       "    <tr>\n",
       "      <th>maxtd</th>\n",
       "      <td>0.173841</td>\n",
       "      <td>0.996326</td>\n",
       "      <td>1.000000</td>\n",
       "      <td>0.988061</td>\n",
       "      <td>0.173858</td>\n",
       "      <td>0.000000</td>\n",
       "      <td>0.108118</td>\n",
       "      <td>-0.034026</td>\n",
       "      <td>-0.032355</td>\n",
       "      <td>-0.037229</td>\n",
       "      <td>-0.064957</td>\n",
       "    </tr>\n",
       "    <tr>\n",
       "      <th>mintd</th>\n",
       "      <td>0.230611</td>\n",
       "      <td>0.996270</td>\n",
       "      <td>0.988061</td>\n",
       "      <td>1.000000</td>\n",
       "      <td>0.230633</td>\n",
       "      <td>0.000000</td>\n",
       "      <td>0.100707</td>\n",
       "      <td>-0.035754</td>\n",
       "      <td>-0.031727</td>\n",
       "      <td>-0.038600</td>\n",
       "      <td>-0.058462</td>\n",
       "    </tr>\n",
       "    <tr>\n",
       "      <th>lamda</th>\n",
       "      <td>0.999905</td>\n",
       "      <td>0.202746</td>\n",
       "      <td>0.173858</td>\n",
       "      <td>0.230633</td>\n",
       "      <td>1.000000</td>\n",
       "      <td>0.000000</td>\n",
       "      <td>-0.117032</td>\n",
       "      <td>-0.051853</td>\n",
       "      <td>-0.043016</td>\n",
       "      <td>-0.048826</td>\n",
       "      <td>0.117068</td>\n",
       "    </tr>\n",
       "    <tr>\n",
       "      <th>phi</th>\n",
       "      <td>0.013819</td>\n",
       "      <td>0.000000</td>\n",
       "      <td>0.000000</td>\n",
       "      <td>0.000000</td>\n",
       "      <td>0.000000</td>\n",
       "      <td>1.000000</td>\n",
       "      <td>0.054768</td>\n",
       "      <td>-0.302854</td>\n",
       "      <td>-0.284565</td>\n",
       "      <td>-0.305371</td>\n",
       "      <td>-0.065158</td>\n",
       "    </tr>\n",
       "    <tr>\n",
       "      <th>day</th>\n",
       "      <td>-0.116264</td>\n",
       "      <td>0.102406</td>\n",
       "      <td>0.108118</td>\n",
       "      <td>0.100707</td>\n",
       "      <td>-0.117032</td>\n",
       "      <td>0.054768</td>\n",
       "      <td>1.000000</td>\n",
       "      <td>-0.185587</td>\n",
       "      <td>-0.238398</td>\n",
       "      <td>-0.183215</td>\n",
       "      <td>-0.929947</td>\n",
       "    </tr>\n",
       "    <tr>\n",
       "      <th>TFlux</th>\n",
       "      <td>-0.056033</td>\n",
       "      <td>-0.035234</td>\n",
       "      <td>-0.034026</td>\n",
       "      <td>-0.035754</td>\n",
       "      <td>-0.051853</td>\n",
       "      <td>-0.302854</td>\n",
       "      <td>-0.185587</td>\n",
       "      <td>1.000000</td>\n",
       "      <td>0.980871</td>\n",
       "      <td>0.999230</td>\n",
       "      <td>0.191114</td>\n",
       "    </tr>\n",
       "    <tr>\n",
       "      <th>maxTotflux</th>\n",
       "      <td>-0.046944</td>\n",
       "      <td>-0.032264</td>\n",
       "      <td>-0.032355</td>\n",
       "      <td>-0.031727</td>\n",
       "      <td>-0.043016</td>\n",
       "      <td>-0.284565</td>\n",
       "      <td>-0.238398</td>\n",
       "      <td>0.980871</td>\n",
       "      <td>1.000000</td>\n",
       "      <td>0.981165</td>\n",
       "      <td>0.254087</td>\n",
       "    </tr>\n",
       "    <tr>\n",
       "      <th>meanTotflux</th>\n",
       "      <td>-0.053041</td>\n",
       "      <td>-0.038335</td>\n",
       "      <td>-0.037229</td>\n",
       "      <td>-0.038600</td>\n",
       "      <td>-0.048826</td>\n",
       "      <td>-0.305371</td>\n",
       "      <td>-0.183215</td>\n",
       "      <td>0.999230</td>\n",
       "      <td>0.981165</td>\n",
       "      <td>1.000000</td>\n",
       "      <td>0.189077</td>\n",
       "    </tr>\n",
       "    <tr>\n",
       "      <th>flags</th>\n",
       "      <td>0.116156</td>\n",
       "      <td>-0.059493</td>\n",
       "      <td>-0.064957</td>\n",
       "      <td>-0.058462</td>\n",
       "      <td>0.117068</td>\n",
       "      <td>-0.065158</td>\n",
       "      <td>-0.929947</td>\n",
       "      <td>0.191114</td>\n",
       "      <td>0.254087</td>\n",
       "      <td>0.189077</td>\n",
       "      <td>1.000000</td>\n",
       "    </tr>\n",
       "  </tbody>\n",
       "</table>\n",
       "</div>"
      ],
      "text/plain": [
       "              patchid    meantd     maxtd     mintd     lamda       phi  \\\n",
       "patchid      1.000000  0.202727  0.173841  0.230611  0.999905  0.013819   \n",
       "meantd       0.202727  1.000000  0.996326  0.996270  0.202746  0.000000   \n",
       "maxtd        0.173841  0.996326  1.000000  0.988061  0.173858  0.000000   \n",
       "mintd        0.230611  0.996270  0.988061  1.000000  0.230633  0.000000   \n",
       "lamda        0.999905  0.202746  0.173858  0.230633  1.000000  0.000000   \n",
       "phi          0.013819  0.000000  0.000000  0.000000  0.000000  1.000000   \n",
       "day         -0.116264  0.102406  0.108118  0.100707 -0.117032  0.054768   \n",
       "TFlux       -0.056033 -0.035234 -0.034026 -0.035754 -0.051853 -0.302854   \n",
       "maxTotflux  -0.046944 -0.032264 -0.032355 -0.031727 -0.043016 -0.284565   \n",
       "meanTotflux -0.053041 -0.038335 -0.037229 -0.038600 -0.048826 -0.305371   \n",
       "flags        0.116156 -0.059493 -0.064957 -0.058462  0.117068 -0.065158   \n",
       "\n",
       "                  day     TFlux  maxTotflux  meanTotflux     flags  \n",
       "patchid     -0.116264 -0.056033   -0.046944    -0.053041  0.116156  \n",
       "meantd       0.102406 -0.035234   -0.032264    -0.038335 -0.059493  \n",
       "maxtd        0.108118 -0.034026   -0.032355    -0.037229 -0.064957  \n",
       "mintd        0.100707 -0.035754   -0.031727    -0.038600 -0.058462  \n",
       "lamda       -0.117032 -0.051853   -0.043016    -0.048826  0.117068  \n",
       "phi          0.054768 -0.302854   -0.284565    -0.305371 -0.065158  \n",
       "day          1.000000 -0.185587   -0.238398    -0.183215 -0.929947  \n",
       "TFlux       -0.185587  1.000000    0.980871     0.999230  0.191114  \n",
       "maxTotflux  -0.238398  0.980871    1.000000     0.981165  0.254087  \n",
       "meanTotflux -0.183215  0.999230    0.981165     1.000000  0.189077  \n",
       "flags       -0.929947  0.191114    0.254087     0.189077  1.000000  "
      ]
     },
     "execution_count": 111,
     "metadata": {},
     "output_type": "execute_result"
    }
   ],
   "source": [
    "df0.corr(\"spearman\")"
   ]
  },
  {
   "cell_type": "code",
   "execution_count": 112,
   "metadata": {},
   "outputs": [
    {
     "data": {
      "text/plain": [
       "<AxesSubplot:xlabel='maxtd', ylabel='Count'>"
      ]
     },
     "execution_count": 112,
     "metadata": {},
     "output_type": "execute_result"
    },
    {
     "data": {
      "image/png": "[encoded data removed]",
      "text/plain": [
       "<Figure size 432x288 with 1 Axes>"
      ]
     },
     "metadata": {
      "needs_background": "light"
     },
     "output_type": "display_data"
    }
   ],
   "source": [
    "sns.histplot(data=df0, x=\"maxtd\", hue=\"flags\")"
   ]
  },
  {
   "cell_type": "code",
   "execution_count": 77,
   "metadata": {},
   "outputs": [
    {
     "data": {
      "text/plain": [
       "(720, 11)"
      ]
     },
     "execution_count": 77,
     "metadata": {},
     "output_type": "execute_result"
    }
   ],
   "source": [
    "df0.shape"
   ]
  },
  {
   "cell_type": "code",
   "execution_count": 78,
   "metadata": {},
   "outputs": [
    {
     "data": {
      "text/plain": [
       "0    681\n",
       "1     39\n",
       "Name: flags, dtype: int64"
      ]
     },
     "execution_count": 78,
     "metadata": {},
     "output_type": "execute_result"
    }
   ],
   "source": [
    "df0[\"flags\"].value_counts()\n"
   ]
  },
  {
   "cell_type": "code",
   "execution_count": 79,
   "metadata": {},
   "outputs": [
    {
     "data": {
      "text/plain": [
       "<AxesSubplot:>"
      ]
     },
     "execution_count": 79,
     "metadata": {},
     "output_type": "execute_result"
    },
    {
     "data": {
      "image/png": "[encoded data removed]",
      "text/plain": [
       "<Figure size 432x288 with 1 Axes>"
      ]
     },
     "metadata": {
      "needs_background": "light"
     },
     "output_type": "display_data"
    }
   ],
   "source": [
    "df0[\"flags\"].value_counts().plot(kind=\"bar\")"
   ]
  },
  {
   "cell_type": "code",
   "execution_count": 80,
   "metadata": {},
   "outputs": [
    {
     "data": {
      "text/plain": [
       "<AxesSubplot:ylabel='flags'>"
      ]
     },
     "execution_count": 80,
     "metadata": {},
     "output_type": "execute_result"
    },
    {
     "data": {
      "image/png": "[encoded data removed]",
      "text/plain": [
       "<Figure size 432x288 with 1 Axes>"
      ]
     },
     "metadata": {},
     "output_type": "display_data"
    }
   ],
   "source": [
    "df0[\"flags\"].value_counts().plot(kind=\"pie\", autopct=\"%.2f\")"
   ]
  },
  {
   "cell_type": "code",
   "execution_count": 119,
   "metadata": {},
   "outputs": [
    {
     "name": "stdout",
     "output_type": "stream",
     "text": [
      "['/home/vindia/samapti/cycle24(feb-july)/CR2149/TF3CR/CR0(360).txt', '/home/vindia/samapti/cycle24(feb-july)/CR2149/TF3CR/CR0(3600).txt', '/home/vindia/samapti/cycle24(feb-july)/CR2149/TF3CR/CR0(4320).txt', '/home/vindia/samapti/cycle24(feb-july)/CR2149/TF3CR/CR0.txt', '/home/vindia/samapti/cycle24(feb-july)/CR2149/TF3CR/CR1.txt', '/home/vindia/samapti/cycle24(feb-july)/CR2149/TF3CR/CR3.txt', '/home/vindia/samapti/cycle24(feb-july)/CR2149/TF3CR/CR4.txt', '/home/vindia/samapti/cycle24(feb-july)/CR2149/TF3CR/CR5.txt', '/home/vindia/samapti/cycle24(feb-july)/CR2149/TF3CR/CR6(3600).txt', '/home/vindia/samapti/cycle24(feb-july)/CR2149/TF3CR/CR6(720).txt', '/home/vindia/samapti/cycle24(feb-july)/CR2149/TF3CR/CR6.txt']\n"
     ]
    }
   ],
   "source": [
    "folder_path = \"/home/vindia/samapti/cycle24(feb-july)/CR2149/TF3CR\"\n",
    "save_dir = \"/home/vindia/samapti/cycle24(feb-july)/CR2149\"\n",
    "txt_files =sorted(glob.glob(os.path.join(folder_path, \"*.txt\")))\n",
    "print(txt_files)\n"
   ]
  },
  {
   "cell_type": "code",
   "execution_count": 81,
   "metadata": {},
   "outputs": [
    {
     "name": "stdout",
     "output_type": "stream",
     "text": [
      "/home/vindia/samapti/cycle24(feb-july)/CR2149/TF3CR/CR0(360).txt\n"
     ]
    },
    {
     "data": {
      "text/html": [
       "<div>\n",
       "<style scoped>\n",
       "    .dataframe tbody tr th:only-of-type {\n",
       "        vertical-align: middle;\n",
       "    }\n",
       "\n",
       "    .dataframe tbody tr th {\n",
       "        vertical-align: top;\n",
       "    }\n",
       "\n",
       "    .dataframe thead th {\n",
       "        text-align: right;\n",
       "    }\n",
       "</style>\n",
       "<table border=\"1\" class=\"dataframe\">\n",
       "  <thead>\n",
       "    <tr style=\"text-align: right;\">\n",
       "      <th></th>\n",
       "      <th>patchid</th>\n",
       "      <th>meantd</th>\n",
       "      <th>maxtd</th>\n",
       "      <th>mintd</th>\n",
       "      <th>lamda</th>\n",
       "      <th>phi</th>\n",
       "      <th>day</th>\n",
       "      <th>TFlux</th>\n",
       "      <th>maxTotflux</th>\n",
       "      <th>meanTotflux</th>\n",
       "      <th>flags</th>\n",
       "    </tr>\n",
       "  </thead>\n",
       "  <tbody>\n",
       "    <tr>\n",
       "      <th>0</th>\n",
       "      <td>284</td>\n",
       "      <td>23.966036</td>\n",
       "      <td>25.495680</td>\n",
       "      <td>22.596793</td>\n",
       "      <td>285.0</td>\n",
       "      <td>-12.5</td>\n",
       "      <td>1</td>\n",
       "      <td>2.169728e+23</td>\n",
       "      <td>6.457557e+20</td>\n",
       "      <td>1.179200e+19</td>\n",
       "      <td>1</td>\n",
       "    </tr>\n",
       "    <tr>\n",
       "      <th>1</th>\n",
       "      <td>285</td>\n",
       "      <td>23.966036</td>\n",
       "      <td>25.495680</td>\n",
       "      <td>22.596793</td>\n",
       "      <td>285.0</td>\n",
       "      <td>-2.5</td>\n",
       "      <td>1</td>\n",
       "      <td>1.667119e+23</td>\n",
       "      <td>6.457557e+20</td>\n",
       "      <td>8.867655e+18</td>\n",
       "      <td>1</td>\n",
       "    </tr>\n",
       "    <tr>\n",
       "      <th>2</th>\n",
       "      <td>315</td>\n",
       "      <td>33.171895</td>\n",
       "      <td>33.977458</td>\n",
       "      <td>32.113608</td>\n",
       "      <td>315.0</td>\n",
       "      <td>-2.5</td>\n",
       "      <td>1</td>\n",
       "      <td>1.468510e+23</td>\n",
       "      <td>5.092293e+20</td>\n",
       "      <td>7.811226e+18</td>\n",
       "      <td>1</td>\n",
       "    </tr>\n",
       "    <tr>\n",
       "      <th>3</th>\n",
       "      <td>156</td>\n",
       "      <td>21.560551</td>\n",
       "      <td>22.151330</td>\n",
       "      <td>21.246170</td>\n",
       "      <td>155.0</td>\n",
       "      <td>7.5</td>\n",
       "      <td>2</td>\n",
       "      <td>2.899707e+22</td>\n",
       "      <td>1.787286e+21</td>\n",
       "      <td>1.550645e+18</td>\n",
       "      <td>1</td>\n",
       "    </tr>\n",
       "    <tr>\n",
       "      <th>4</th>\n",
       "      <td>276</td>\n",
       "      <td>21.649647</td>\n",
       "      <td>22.573112</td>\n",
       "      <td>20.986042</td>\n",
       "      <td>275.0</td>\n",
       "      <td>7.5</td>\n",
       "      <td>2</td>\n",
       "      <td>1.329166e+25</td>\n",
       "      <td>8.538824e+21</td>\n",
       "      <td>7.107838e+20</td>\n",
       "      <td>1</td>\n",
       "    </tr>\n",
       "  </tbody>\n",
       "</table>\n",
       "</div>"
      ],
      "text/plain": [
       "   patchid     meantd      maxtd      mintd  lamda   phi  day         TFlux  \\\n",
       "0      284  23.966036  25.495680  22.596793  285.0 -12.5    1  2.169728e+23   \n",
       "1      285  23.966036  25.495680  22.596793  285.0  -2.5    1  1.667119e+23   \n",
       "2      315  33.171895  33.977458  32.113608  315.0  -2.5    1  1.468510e+23   \n",
       "3      156  21.560551  22.151330  21.246170  155.0   7.5    2  2.899707e+22   \n",
       "4      276  21.649647  22.573112  20.986042  275.0   7.5    2  1.329166e+25   \n",
       "\n",
       "     maxTotflux   meanTotflux  flags  \n",
       "0  6.457557e+20  1.179200e+19      1  \n",
       "1  6.457557e+20  8.867655e+18      1  \n",
       "2  5.092293e+20  7.811226e+18      1  \n",
       "3  1.787286e+21  1.550645e+18      1  \n",
       "4  8.538824e+21  7.107838e+20      1  "
      ]
     },
     "execution_count": 81,
     "metadata": {},
     "output_type": "execute_result"
    }
   ],
   "source": [
    "folder_path = \"/home/vindia/samapti/cycle24(feb-july)/CR2149/TF3CR\"\n",
    "save_dir = \"/home/vindia/samapti/cycle24(feb-july)/CR2149\"\n",
    "txt_files =sorted(glob.glob(os.path.join(folder_path, \"*.txt\")))\n",
    "with open(txt_files[0], \"r\") as f:\n",
    "    print(txt_files[0])\n",
    "    data = [ast.literal_eval(line.strip()) for line in f]\n",
    "df=pd.DataFrame(data, columns=[\"patchid\", \"meantd\", \"maxtd\", \"mintd\",\"lamda\",\"phi\",\"day\",\"TFlux\",\"maxTotflux\",\"meanTotflux\",\"flags\"])\n",
    "df.head()"
   ]
  },
  {
   "cell_type": "code",
   "execution_count": 82,
   "metadata": {},
   "outputs": [
    {
     "data": {
      "text/plain": [
       "(360, 11)"
      ]
     },
     "execution_count": 82,
     "metadata": {},
     "output_type": "execute_result"
    }
   ],
   "source": [
    "df.shape"
   ]
  },
  {
   "cell_type": "code",
   "execution_count": 83,
   "metadata": {},
   "outputs": [
    {
     "data": {
      "text/plain": [
       "0    342\n",
       "1     18\n",
       "Name: flags, dtype: int64"
      ]
     },
     "execution_count": 83,
     "metadata": {},
     "output_type": "execute_result"
    }
   ],
   "source": [
    "df[\"flags\"].value_counts()"
   ]
  },
  {
   "cell_type": "code",
   "execution_count": 84,
   "metadata": {},
   "outputs": [
    {
     "data": {
      "text/plain": [
       "<AxesSubplot:>"
      ]
     },
     "execution_count": 84,
     "metadata": {},
     "output_type": "execute_result"
    },
    {
     "data": {
      "image/png": "[encoded data removed]",
      "text/plain": [
       "<Figure size 432x288 with 1 Axes>"
      ]
     },
     "metadata": {
      "needs_background": "light"
     },
     "output_type": "display_data"
    }
   ],
   "source": [
    "df[\"flags\"].value_counts().plot(kind=\"bar\")"
   ]
  },
  {
   "cell_type": "code",
   "execution_count": 85,
   "metadata": {},
   "outputs": [
    {
     "data": {
      "text/plain": [
       "<AxesSubplot:ylabel='flags'>"
      ]
     },
     "execution_count": 85,
     "metadata": {},
     "output_type": "execute_result"
    },
    {
     "data": {
      "image/png": "[encoded data removed]",
      "text/plain": [
       "<Figure size 432x288 with 1 Axes>"
      ]
     },
     "metadata": {},
     "output_type": "display_data"
    }
   ],
   "source": [
    "df[\"flags\"].value_counts().plot(kind=\"pie\", autopct=\"%.2f\")"
   ]
  },
  {
   "cell_type": "code",
   "execution_count": 113,
   "metadata": {},
   "outputs": [
    {
     "name": "stdout",
     "output_type": "stream",
     "text": [
      "/home/vindia/samapti/cycle24(feb-july)/CR2149/TF3CR/CR0(3600).txt\n"
     ]
    },
    {
     "data": {
      "text/html": [
       "<div>\n",
       "<style scoped>\n",
       "    .dataframe tbody tr th:only-of-type {\n",
       "        vertical-align: middle;\n",
       "    }\n",
       "\n",
       "    .dataframe tbody tr th {\n",
       "        vertical-align: top;\n",
       "    }\n",
       "\n",
       "    .dataframe thead th {\n",
       "        text-align: right;\n",
       "    }\n",
       "</style>\n",
       "<table border=\"1\" class=\"dataframe\">\n",
       "  <thead>\n",
       "    <tr style=\"text-align: right;\">\n",
       "      <th></th>\n",
       "      <th>patchid</th>\n",
       "      <th>meantd</th>\n",
       "      <th>maxtd</th>\n",
       "      <th>mintd</th>\n",
       "      <th>lamda</th>\n",
       "      <th>phi</th>\n",
       "      <th>day</th>\n",
       "      <th>TFlux</th>\n",
       "      <th>maxTotflux</th>\n",
       "      <th>meanTotflux</th>\n",
       "      <th>flags</th>\n",
       "    </tr>\n",
       "  </thead>\n",
       "  <tbody>\n",
       "    <tr>\n",
       "      <th>0</th>\n",
       "      <td>74</td>\n",
       "      <td>22.849129</td>\n",
       "      <td>23.595892</td>\n",
       "      <td>22.148373</td>\n",
       "      <td>8.5</td>\n",
       "      <td>20.0</td>\n",
       "      <td>1</td>\n",
       "      <td>1.165895e+22</td>\n",
       "      <td>1.645506e+21</td>\n",
       "      <td>1.976094e+18</td>\n",
       "      <td>1</td>\n",
       "    </tr>\n",
       "    <tr>\n",
       "      <th>1</th>\n",
       "      <td>90</td>\n",
       "      <td>22.282893</td>\n",
       "      <td>22.971383</td>\n",
       "      <td>21.646611</td>\n",
       "      <td>10.5</td>\n",
       "      <td>0.0</td>\n",
       "      <td>1</td>\n",
       "      <td>3.659663e+21</td>\n",
       "      <td>3.591975e+20</td>\n",
       "      <td>5.855461e+17</td>\n",
       "      <td>1</td>\n",
       "    </tr>\n",
       "    <tr>\n",
       "      <th>2</th>\n",
       "      <td>110</td>\n",
       "      <td>21.769824</td>\n",
       "      <td>22.392358</td>\n",
       "      <td>21.205156</td>\n",
       "      <td>12.5</td>\n",
       "      <td>0.0</td>\n",
       "      <td>1</td>\n",
       "      <td>8.703251e+21</td>\n",
       "      <td>3.591975e+20</td>\n",
       "      <td>1.392520e+18</td>\n",
       "      <td>1</td>\n",
       "    </tr>\n",
       "    <tr>\n",
       "      <th>3</th>\n",
       "      <td>130</td>\n",
       "      <td>21.315682</td>\n",
       "      <td>21.865265</td>\n",
       "      <td>20.829020</td>\n",
       "      <td>14.5</td>\n",
       "      <td>0.0</td>\n",
       "      <td>1</td>\n",
       "      <td>8.104269e+21</td>\n",
       "      <td>3.591975e+20</td>\n",
       "      <td>1.296683e+18</td>\n",
       "      <td>1</td>\n",
       "    </tr>\n",
       "    <tr>\n",
       "      <th>4</th>\n",
       "      <td>190</td>\n",
       "      <td>20.354876</td>\n",
       "      <td>20.651585</td>\n",
       "      <td>20.132103</td>\n",
       "      <td>20.5</td>\n",
       "      <td>0.0</td>\n",
       "      <td>1</td>\n",
       "      <td>1.339399e+21</td>\n",
       "      <td>2.097400e+20</td>\n",
       "      <td>2.143038e+17</td>\n",
       "      <td>1</td>\n",
       "    </tr>\n",
       "  </tbody>\n",
       "</table>\n",
       "</div>"
      ],
      "text/plain": [
       "   patchid     meantd      maxtd      mintd  lamda   phi  day         TFlux  \\\n",
       "0       74  22.849129  23.595892  22.148373    8.5  20.0    1  1.165895e+22   \n",
       "1       90  22.282893  22.971383  21.646611   10.5   0.0    1  3.659663e+21   \n",
       "2      110  21.769824  22.392358  21.205156   12.5   0.0    1  8.703251e+21   \n",
       "3      130  21.315682  21.865265  20.829020   14.5   0.0    1  8.104269e+21   \n",
       "4      190  20.354876  20.651585  20.132103   20.5   0.0    1  1.339399e+21   \n",
       "\n",
       "     maxTotflux   meanTotflux  flags  \n",
       "0  1.645506e+21  1.976094e+18      1  \n",
       "1  3.591975e+20  5.855461e+17      1  \n",
       "2  3.591975e+20  1.392520e+18      1  \n",
       "3  3.591975e+20  1.296683e+18      1  \n",
       "4  2.097400e+20  2.143038e+17      1  "
      ]
     },
     "execution_count": 113,
     "metadata": {},
     "output_type": "execute_result"
    }
   ],
   "source": [
    "folder_path = \"/home/vindia/samapti/cycle24(feb-july)/CR2149/TF3CR\"\n",
    "save_dir = \"/home/vindia/samapti/cycle24(feb-july)/CR2149\"\n",
    "txt_files =sorted(glob.glob(os.path.join(folder_path, \"*.txt\")))\n",
    "with open(txt_files[1], \"r\") as f:\n",
    "    print(txt_files[1])\n",
    "    data = [ast.literal_eval(line.strip()) for line in f]\n",
    "df=pd.DataFrame(data, columns=[\"patchid\", \"meantd\", \"maxtd\", \"mintd\",\"lamda\",\"phi\",\"day\",\"TFlux\",\"maxTotflux\",\"meanTotflux\",\"flags\"])\n",
    "df.head()"
   ]
  },
  {
   "cell_type": "code",
   "execution_count": 114,
   "metadata": {},
   "outputs": [
    {
     "data": {
      "text/plain": [
       "<AxesSubplot:xlabel='maxtd', ylabel='Count'>"
      ]
     },
     "execution_count": 114,
     "metadata": {},
     "output_type": "execute_result"
    },
    {
     "data": {
      "image/png": "[encoded data removed]",
      "text/plain": [
       "<Figure size 432x288 with 1 Axes>"
      ]
     },
     "metadata": {
      "needs_background": "light"
     },
     "output_type": "display_data"
    }
   ],
   "source": [
    "sns.histplot(data=df, x=\"maxtd\", hue=\"flags\")"
   ]
  },
  {
   "cell_type": "code",
   "execution_count": 116,
   "metadata": {},
   "outputs": [
    {
     "data": {
      "text/plain": [
       "<AxesSubplot:xlabel='flags', ylabel='maxtd'>"
      ]
     },
     "execution_count": 116,
     "metadata": {},
     "output_type": "execute_result"
    },
    {
     "data": {
      "image/png": "[encoded data removed]",
      "text/plain": [
       "<Figure size 432x288 with 1 Axes>"
      ]
     },
     "metadata": {
      "needs_background": "light"
     },
     "output_type": "display_data"
    }
   ],
   "source": [
    "sns.stripplot(x=\"flags\", y=\"maxtd\", data=df)"
   ]
  },
  {
   "cell_type": "code",
   "execution_count": 117,
   "metadata": {},
   "outputs": [],
   "source": [
    "maxtd_flag1 = df[df[\"flags\"] == 1][\"maxtd\"]\n",
    "maxtd_flag0 = df[df[\"flags\"] == 0][\"maxtd\"]"
   ]
  },
  {
   "cell_type": "code",
   "execution_count": null,
   "metadata": {},
   "outputs": [],
   "source": []
  },
  {
   "cell_type": "code",
   "execution_count": 101,
   "metadata": {},
   "outputs": [
    {
     "data": {
      "text/plain": [
       "(3600, 11)"
      ]
     },
     "execution_count": 101,
     "metadata": {},
     "output_type": "execute_result"
    }
   ],
   "source": [
    "df.shape\n"
   ]
  },
  {
   "cell_type": "code",
   "execution_count": 102,
   "metadata": {},
   "outputs": [
    {
     "data": {
      "text/plain": [
       "0    3368\n",
       "1     232\n",
       "Name: flags, dtype: int64"
      ]
     },
     "execution_count": 102,
     "metadata": {},
     "output_type": "execute_result"
    }
   ],
   "source": [
    "df[\"flags\"].value_counts()"
   ]
  },
  {
   "cell_type": "code",
   "execution_count": 103,
   "metadata": {},
   "outputs": [
    {
     "data": {
      "text/plain": [
       "<AxesSubplot:ylabel='flags'>"
      ]
     },
     "execution_count": 103,
     "metadata": {},
     "output_type": "execute_result"
    },
    {
     "data": {
      "image/png": "[encoded data removed]",
      "text/plain": [
       "<Figure size 432x288 with 1 Axes>"
      ]
     },
     "metadata": {},
     "output_type": "display_data"
    }
   ],
   "source": [
    "df[\"flags\"].value_counts().plot(kind=\"pie\", autopct=\"%.2f\")"
   ]
  },
  {
   "cell_type": "code",
   "execution_count": 105,
   "metadata": {},
   "outputs": [
    {
     "data": {
      "text/html": [
       "<div>\n",
       "<style scoped>\n",
       "    .dataframe tbody tr th:only-of-type {\n",
       "        vertical-align: middle;\n",
       "    }\n",
       "\n",
       "    .dataframe tbody tr th {\n",
       "        vertical-align: top;\n",
       "    }\n",
       "\n",
       "    .dataframe thead th {\n",
       "        text-align: right;\n",
       "    }\n",
       "</style>\n",
       "<table border=\"1\" class=\"dataframe\">\n",
       "  <thead>\n",
       "    <tr style=\"text-align: right;\">\n",
       "      <th></th>\n",
       "      <th>patchid</th>\n",
       "      <th>meantd</th>\n",
       "      <th>maxtd</th>\n",
       "      <th>mintd</th>\n",
       "      <th>lamda</th>\n",
       "      <th>phi</th>\n",
       "      <th>day</th>\n",
       "      <th>TFlux</th>\n",
       "      <th>maxTotflux</th>\n",
       "      <th>meanTotflux</th>\n",
       "      <th>flags</th>\n",
       "    </tr>\n",
       "  </thead>\n",
       "  <tbody>\n",
       "    <tr>\n",
       "      <th>patchid</th>\n",
       "      <td>1.000000</td>\n",
       "      <td>2.011391e-01</td>\n",
       "      <td>1.977019e-01</td>\n",
       "      <td>2.032812e-01</td>\n",
       "      <td>9.999846e-01</td>\n",
       "      <td>5.548607e-03</td>\n",
       "      <td>-0.083243</td>\n",
       "      <td>-0.033995</td>\n",
       "      <td>-0.038136</td>\n",
       "      <td>-0.033102</td>\n",
       "      <td>0.105861</td>\n",
       "    </tr>\n",
       "    <tr>\n",
       "      <th>meantd</th>\n",
       "      <td>0.201139</td>\n",
       "      <td>1.000000e+00</td>\n",
       "      <td>9.984590e-01</td>\n",
       "      <td>9.984598e-01</td>\n",
       "      <td>2.011422e-01</td>\n",
       "      <td>9.759827e-17</td>\n",
       "      <td>0.064569</td>\n",
       "      <td>-0.045810</td>\n",
       "      <td>-0.066344</td>\n",
       "      <td>-0.043784</td>\n",
       "      <td>-0.059692</td>\n",
       "    </tr>\n",
       "    <tr>\n",
       "      <th>maxtd</th>\n",
       "      <td>0.197702</td>\n",
       "      <td>9.984590e-01</td>\n",
       "      <td>1.000000e+00</td>\n",
       "      <td>9.938442e-01</td>\n",
       "      <td>1.977049e-01</td>\n",
       "      <td>2.055814e-16</td>\n",
       "      <td>0.064585</td>\n",
       "      <td>-0.049147</td>\n",
       "      <td>-0.070502</td>\n",
       "      <td>-0.047143</td>\n",
       "      <td>-0.060449</td>\n",
       "    </tr>\n",
       "    <tr>\n",
       "      <th>mintd</th>\n",
       "      <td>0.203281</td>\n",
       "      <td>9.984598e-01</td>\n",
       "      <td>9.938442e-01</td>\n",
       "      <td>1.000000e+00</td>\n",
       "      <td>2.032843e-01</td>\n",
       "      <td>7.379010e-17</td>\n",
       "      <td>0.064398</td>\n",
       "      <td>-0.042463</td>\n",
       "      <td>-0.062122</td>\n",
       "      <td>-0.040424</td>\n",
       "      <td>-0.058851</td>\n",
       "    </tr>\n",
       "    <tr>\n",
       "      <th>lamda</th>\n",
       "      <td>0.999985</td>\n",
       "      <td>2.011422e-01</td>\n",
       "      <td>1.977049e-01</td>\n",
       "      <td>2.032843e-01</td>\n",
       "      <td>1.000000e+00</td>\n",
       "      <td>4.637558e-17</td>\n",
       "      <td>-0.083475</td>\n",
       "      <td>-0.033627</td>\n",
       "      <td>-0.037652</td>\n",
       "      <td>-0.032728</td>\n",
       "      <td>0.106138</td>\n",
       "    </tr>\n",
       "    <tr>\n",
       "      <th>phi</th>\n",
       "      <td>0.005549</td>\n",
       "      <td>9.759827e-17</td>\n",
       "      <td>2.055814e-16</td>\n",
       "      <td>7.379010e-17</td>\n",
       "      <td>4.637558e-17</td>\n",
       "      <td>1.000000e+00</td>\n",
       "      <td>0.041578</td>\n",
       "      <td>-0.066430</td>\n",
       "      <td>-0.087383</td>\n",
       "      <td>-0.067442</td>\n",
       "      <td>-0.049636</td>\n",
       "    </tr>\n",
       "    <tr>\n",
       "      <th>day</th>\n",
       "      <td>-0.083243</td>\n",
       "      <td>6.456928e-02</td>\n",
       "      <td>6.458486e-02</td>\n",
       "      <td>6.439812e-02</td>\n",
       "      <td>-8.347457e-02</td>\n",
       "      <td>4.157823e-02</td>\n",
       "      <td>1.000000</td>\n",
       "      <td>-0.082191</td>\n",
       "      <td>-0.195680</td>\n",
       "      <td>-0.081374</td>\n",
       "      <td>-0.877352</td>\n",
       "    </tr>\n",
       "    <tr>\n",
       "      <th>TFlux</th>\n",
       "      <td>-0.033995</td>\n",
       "      <td>-4.580991e-02</td>\n",
       "      <td>-4.914731e-02</td>\n",
       "      <td>-4.246318e-02</td>\n",
       "      <td>-3.362712e-02</td>\n",
       "      <td>-6.643040e-02</td>\n",
       "      <td>-0.082191</td>\n",
       "      <td>1.000000</td>\n",
       "      <td>0.780284</td>\n",
       "      <td>0.999756</td>\n",
       "      <td>0.126657</td>\n",
       "    </tr>\n",
       "    <tr>\n",
       "      <th>maxTotflux</th>\n",
       "      <td>-0.038136</td>\n",
       "      <td>-6.634358e-02</td>\n",
       "      <td>-7.050205e-02</td>\n",
       "      <td>-6.212211e-02</td>\n",
       "      <td>-3.765218e-02</td>\n",
       "      <td>-8.738269e-02</td>\n",
       "      <td>-0.195680</td>\n",
       "      <td>0.780284</td>\n",
       "      <td>1.000000</td>\n",
       "      <td>0.780038</td>\n",
       "      <td>0.264784</td>\n",
       "    </tr>\n",
       "    <tr>\n",
       "      <th>meanTotflux</th>\n",
       "      <td>-0.033102</td>\n",
       "      <td>-4.378409e-02</td>\n",
       "      <td>-4.714279e-02</td>\n",
       "      <td>-4.042428e-02</td>\n",
       "      <td>-3.272799e-02</td>\n",
       "      <td>-6.744243e-02</td>\n",
       "      <td>-0.081374</td>\n",
       "      <td>0.999756</td>\n",
       "      <td>0.780038</td>\n",
       "      <td>1.000000</td>\n",
       "      <td>0.126222</td>\n",
       "    </tr>\n",
       "    <tr>\n",
       "      <th>flags</th>\n",
       "      <td>0.105861</td>\n",
       "      <td>-5.969235e-02</td>\n",
       "      <td>-6.044937e-02</td>\n",
       "      <td>-5.885078e-02</td>\n",
       "      <td>1.061376e-01</td>\n",
       "      <td>-4.963576e-02</td>\n",
       "      <td>-0.877352</td>\n",
       "      <td>0.126657</td>\n",
       "      <td>0.264784</td>\n",
       "      <td>0.126222</td>\n",
       "      <td>1.000000</td>\n",
       "    </tr>\n",
       "  </tbody>\n",
       "</table>\n",
       "</div>"
      ],
      "text/plain": [
       "              patchid        meantd         maxtd         mintd         lamda  \\\n",
       "patchid      1.000000  2.011391e-01  1.977019e-01  2.032812e-01  9.999846e-01   \n",
       "meantd       0.201139  1.000000e+00  9.984590e-01  9.984598e-01  2.011422e-01   \n",
       "maxtd        0.197702  9.984590e-01  1.000000e+00  9.938442e-01  1.977049e-01   \n",
       "mintd        0.203281  9.984598e-01  9.938442e-01  1.000000e+00  2.032843e-01   \n",
       "lamda        0.999985  2.011422e-01  1.977049e-01  2.032843e-01  1.000000e+00   \n",
       "phi          0.005549  9.759827e-17  2.055814e-16  7.379010e-17  4.637558e-17   \n",
       "day         -0.083243  6.456928e-02  6.458486e-02  6.439812e-02 -8.347457e-02   \n",
       "TFlux       -0.033995 -4.580991e-02 -4.914731e-02 -4.246318e-02 -3.362712e-02   \n",
       "maxTotflux  -0.038136 -6.634358e-02 -7.050205e-02 -6.212211e-02 -3.765218e-02   \n",
       "meanTotflux -0.033102 -4.378409e-02 -4.714279e-02 -4.042428e-02 -3.272799e-02   \n",
       "flags        0.105861 -5.969235e-02 -6.044937e-02 -5.885078e-02  1.061376e-01   \n",
       "\n",
       "                      phi       day     TFlux  maxTotflux  meanTotflux  \\\n",
       "patchid      5.548607e-03 -0.083243 -0.033995   -0.038136    -0.033102   \n",
       "meantd       9.759827e-17  0.064569 -0.045810   -0.066344    -0.043784   \n",
       "maxtd        2.055814e-16  0.064585 -0.049147   -0.070502    -0.047143   \n",
       "mintd        7.379010e-17  0.064398 -0.042463   -0.062122    -0.040424   \n",
       "lamda        4.637558e-17 -0.083475 -0.033627   -0.037652    -0.032728   \n",
       "phi          1.000000e+00  0.041578 -0.066430   -0.087383    -0.067442   \n",
       "day          4.157823e-02  1.000000 -0.082191   -0.195680    -0.081374   \n",
       "TFlux       -6.643040e-02 -0.082191  1.000000    0.780284     0.999756   \n",
       "maxTotflux  -8.738269e-02 -0.195680  0.780284    1.000000     0.780038   \n",
       "meanTotflux -6.744243e-02 -0.081374  0.999756    0.780038     1.000000   \n",
       "flags       -4.963576e-02 -0.877352  0.126657    0.264784     0.126222   \n",
       "\n",
       "                flags  \n",
       "patchid      0.105861  \n",
       "meantd      -0.059692  \n",
       "maxtd       -0.060449  \n",
       "mintd       -0.058851  \n",
       "lamda        0.106138  \n",
       "phi         -0.049636  \n",
       "day         -0.877352  \n",
       "TFlux        0.126657  \n",
       "maxTotflux   0.264784  \n",
       "meanTotflux  0.126222  \n",
       "flags        1.000000  "
      ]
     },
     "execution_count": 105,
     "metadata": {},
     "output_type": "execute_result"
    }
   ],
   "source": [
    "df.corr()"
   ]
  },
  {
   "cell_type": "code",
   "execution_count": 120,
   "metadata": {},
   "outputs": [
    {
     "name": "stdout",
     "output_type": "stream",
     "text": [
      "/home/vindia/samapti/cycle24(feb-july)/CR2149/TF3CR/CR0(4320).txt\n"
     ]
    },
    {
     "data": {
      "text/html": [
       "<div>\n",
       "<style scoped>\n",
       "    .dataframe tbody tr th:only-of-type {\n",
       "        vertical-align: middle;\n",
       "    }\n",
       "\n",
       "    .dataframe tbody tr th {\n",
       "        vertical-align: top;\n",
       "    }\n",
       "\n",
       "    .dataframe thead th {\n",
       "        text-align: right;\n",
       "    }\n",
       "</style>\n",
       "<table border=\"1\" class=\"dataframe\">\n",
       "  <thead>\n",
       "    <tr style=\"text-align: right;\">\n",
       "      <th></th>\n",
       "      <th>patchid</th>\n",
       "      <th>meantd</th>\n",
       "      <th>maxtd</th>\n",
       "      <th>mintd</th>\n",
       "      <th>lamda</th>\n",
       "      <th>phi</th>\n",
       "      <th>day</th>\n",
       "      <th>TFlux</th>\n",
       "      <th>maxTotflux</th>\n",
       "      <th>meanTotflux</th>\n",
       "      <th>flags</th>\n",
       "    </tr>\n",
       "  </thead>\n",
       "  <tbody>\n",
       "    <tr>\n",
       "      <th>0</th>\n",
       "      <td>88</td>\n",
       "      <td>22.849129</td>\n",
       "      <td>23.595892</td>\n",
       "      <td>22.148373</td>\n",
       "      <td>8.5</td>\n",
       "      <td>20.0</td>\n",
       "      <td>1</td>\n",
       "      <td>1.165895e+22</td>\n",
       "      <td>1.645506e+21</td>\n",
       "      <td>1.976094e+18</td>\n",
       "      <td>1</td>\n",
       "    </tr>\n",
       "    <tr>\n",
       "      <th>1</th>\n",
       "      <td>108</td>\n",
       "      <td>22.282893</td>\n",
       "      <td>22.971383</td>\n",
       "      <td>21.646611</td>\n",
       "      <td>10.5</td>\n",
       "      <td>0.0</td>\n",
       "      <td>1</td>\n",
       "      <td>3.659663e+21</td>\n",
       "      <td>3.591975e+20</td>\n",
       "      <td>5.855461e+17</td>\n",
       "      <td>1</td>\n",
       "    </tr>\n",
       "    <tr>\n",
       "      <th>2</th>\n",
       "      <td>132</td>\n",
       "      <td>21.769824</td>\n",
       "      <td>22.392358</td>\n",
       "      <td>21.205156</td>\n",
       "      <td>12.5</td>\n",
       "      <td>0.0</td>\n",
       "      <td>1</td>\n",
       "      <td>8.703251e+21</td>\n",
       "      <td>3.591975e+20</td>\n",
       "      <td>1.392520e+18</td>\n",
       "      <td>1</td>\n",
       "    </tr>\n",
       "    <tr>\n",
       "      <th>3</th>\n",
       "      <td>156</td>\n",
       "      <td>21.315682</td>\n",
       "      <td>21.865265</td>\n",
       "      <td>20.829020</td>\n",
       "      <td>14.5</td>\n",
       "      <td>0.0</td>\n",
       "      <td>1</td>\n",
       "      <td>8.104269e+21</td>\n",
       "      <td>3.591975e+20</td>\n",
       "      <td>1.296683e+18</td>\n",
       "      <td>1</td>\n",
       "    </tr>\n",
       "    <tr>\n",
       "      <th>4</th>\n",
       "      <td>228</td>\n",
       "      <td>20.354876</td>\n",
       "      <td>20.651585</td>\n",
       "      <td>20.132103</td>\n",
       "      <td>20.5</td>\n",
       "      <td>0.0</td>\n",
       "      <td>1</td>\n",
       "      <td>1.339399e+21</td>\n",
       "      <td>2.097400e+20</td>\n",
       "      <td>2.143038e+17</td>\n",
       "      <td>1</td>\n",
       "    </tr>\n",
       "  </tbody>\n",
       "</table>\n",
       "</div>"
      ],
      "text/plain": [
       "   patchid     meantd      maxtd      mintd  lamda   phi  day         TFlux  \\\n",
       "0       88  22.849129  23.595892  22.148373    8.5  20.0    1  1.165895e+22   \n",
       "1      108  22.282893  22.971383  21.646611   10.5   0.0    1  3.659663e+21   \n",
       "2      132  21.769824  22.392358  21.205156   12.5   0.0    1  8.703251e+21   \n",
       "3      156  21.315682  21.865265  20.829020   14.5   0.0    1  8.104269e+21   \n",
       "4      228  20.354876  20.651585  20.132103   20.5   0.0    1  1.339399e+21   \n",
       "\n",
       "     maxTotflux   meanTotflux  flags  \n",
       "0  1.645506e+21  1.976094e+18      1  \n",
       "1  3.591975e+20  5.855461e+17      1  \n",
       "2  3.591975e+20  1.392520e+18      1  \n",
       "3  3.591975e+20  1.296683e+18      1  \n",
       "4  2.097400e+20  2.143038e+17      1  "
      ]
     },
     "execution_count": 120,
     "metadata": {},
     "output_type": "execute_result"
    }
   ],
   "source": [
    "folder_path = \"/home/vindia/samapti/cycle24(feb-july)/CR2149/TF3CR\"\n",
    "save_dir = \"/home/vindia/samapti/cycle24(feb-july)/CR2149\"\n",
    "txt_files =sorted(glob.glob(os.path.join(folder_path, \"*.txt\")))\n",
    "with open(txt_files[2], \"r\") as f:\n",
    "    print(txt_files[2])\n",
    "    data = [ast.literal_eval(line.strip()) for line in f]\n",
    "df=pd.DataFrame(data, columns=[\"patchid\", \"meantd\", \"maxtd\", \"mintd\",\"lamda\",\"phi\",\"day\",\"TFlux\",\"maxTotflux\",\"meanTotflux\",\"flags\"])\n",
    "df.head()"
   ]
  },
  {
   "cell_type": "code",
   "execution_count": 121,
   "metadata": {},
   "outputs": [
    {
     "data": {
      "text/plain": [
       "(4320, 11)"
      ]
     },
     "execution_count": 121,
     "metadata": {},
     "output_type": "execute_result"
    }
   ],
   "source": [
    "df.shape"
   ]
  },
  {
   "cell_type": "code",
   "execution_count": 122,
   "metadata": {},
   "outputs": [
    {
     "data": {
      "text/plain": [
       "<AxesSubplot:ylabel='flags'>"
      ]
     },
     "execution_count": 122,
     "metadata": {},
     "output_type": "execute_result"
    },
    {
     "data": {
      "image/png": "[encoded data removed]",
      "text/plain": [
       "<Figure size 432x288 with 1 Axes>"
      ]
     },
     "metadata": {},
     "output_type": "display_data"
    }
   ],
   "source": [
    "df[\"flags\"].value_counts().plot(kind=\"pie\", autopct=\"%.2f\")"
   ]
  },
  {
   "cell_type": "code",
   "execution_count": 88,
   "metadata": {},
   "outputs": [
    {
     "name": "stdout",
     "output_type": "stream",
     "text": [
      "/home/vindia/samapti/cycle24(feb-july)/CR2149/TF3CR/CR6(720).txt\n"
     ]
    },
    {
     "data": {
      "text/html": [
       "<div>\n",
       "<style scoped>\n",
       "    .dataframe tbody tr th:only-of-type {\n",
       "        vertical-align: middle;\n",
       "    }\n",
       "\n",
       "    .dataframe tbody tr th {\n",
       "        vertical-align: top;\n",
       "    }\n",
       "\n",
       "    .dataframe thead th {\n",
       "        text-align: right;\n",
       "    }\n",
       "</style>\n",
       "<table border=\"1\" class=\"dataframe\">\n",
       "  <thead>\n",
       "    <tr style=\"text-align: right;\">\n",
       "      <th></th>\n",
       "      <th>patchid</th>\n",
       "      <th>meantd</th>\n",
       "      <th>maxtd</th>\n",
       "      <th>mintd</th>\n",
       "      <th>lamda</th>\n",
       "      <th>phi</th>\n",
       "      <th>day</th>\n",
       "      <th>TFlux</th>\n",
       "      <th>maxTotflux</th>\n",
       "      <th>meanTotflux</th>\n",
       "      <th>flags</th>\n",
       "    </tr>\n",
       "  </thead>\n",
       "  <tbody>\n",
       "    <tr>\n",
       "      <th>0</th>\n",
       "      <td>192</td>\n",
       "      <td>34.451709</td>\n",
       "      <td>35.623047</td>\n",
       "      <td>33.026710</td>\n",
       "      <td>100.0</td>\n",
       "      <td>-32.5</td>\n",
       "      <td>1</td>\n",
       "      <td>2.411142e+21</td>\n",
       "      <td>4.947634e+20</td>\n",
       "      <td>1.526039e+17</td>\n",
       "      <td>1</td>\n",
       "    </tr>\n",
       "    <tr>\n",
       "      <th>1</th>\n",
       "      <td>197</td>\n",
       "      <td>34.451709</td>\n",
       "      <td>35.623047</td>\n",
       "      <td>33.026710</td>\n",
       "      <td>100.0</td>\n",
       "      <td>17.5</td>\n",
       "      <td>1</td>\n",
       "      <td>4.491611e+22</td>\n",
       "      <td>1.791793e+21</td>\n",
       "      <td>2.509280e+18</td>\n",
       "      <td>1</td>\n",
       "    </tr>\n",
       "    <tr>\n",
       "      <th>2</th>\n",
       "      <td>435</td>\n",
       "      <td>27.690267</td>\n",
       "      <td>29.268747</td>\n",
       "      <td>25.977279</td>\n",
       "      <td>220.0</td>\n",
       "      <td>-2.5</td>\n",
       "      <td>1</td>\n",
       "      <td>3.299734e+23</td>\n",
       "      <td>4.083579e+21</td>\n",
       "      <td>1.755177e+19</td>\n",
       "      <td>1</td>\n",
       "    </tr>\n",
       "    <tr>\n",
       "      <th>3</th>\n",
       "      <td>595</td>\n",
       "      <td>37.519081</td>\n",
       "      <td>39.950032</td>\n",
       "      <td>34.860143</td>\n",
       "      <td>300.0</td>\n",
       "      <td>-2.5</td>\n",
       "      <td>1</td>\n",
       "      <td>1.014058e+22</td>\n",
       "      <td>4.258954e+20</td>\n",
       "      <td>5.393924e+17</td>\n",
       "      <td>1</td>\n",
       "    </tr>\n",
       "    <tr>\n",
       "      <th>4</th>\n",
       "      <td>612</td>\n",
       "      <td>41.770648</td>\n",
       "      <td>43.156028</td>\n",
       "      <td>39.993399</td>\n",
       "      <td>310.0</td>\n",
       "      <td>-32.5</td>\n",
       "      <td>1</td>\n",
       "      <td>1.091839e+22</td>\n",
       "      <td>4.200894e+20</td>\n",
       "      <td>6.910376e+17</td>\n",
       "      <td>1</td>\n",
       "    </tr>\n",
       "  </tbody>\n",
       "</table>\n",
       "</div>"
      ],
      "text/plain": [
       "   patchid     meantd      maxtd      mintd  lamda   phi  day         TFlux  \\\n",
       "0      192  34.451709  35.623047  33.026710  100.0 -32.5    1  2.411142e+21   \n",
       "1      197  34.451709  35.623047  33.026710  100.0  17.5    1  4.491611e+22   \n",
       "2      435  27.690267  29.268747  25.977279  220.0  -2.5    1  3.299734e+23   \n",
       "3      595  37.519081  39.950032  34.860143  300.0  -2.5    1  1.014058e+22   \n",
       "4      612  41.770648  43.156028  39.993399  310.0 -32.5    1  1.091839e+22   \n",
       "\n",
       "     maxTotflux   meanTotflux  flags  \n",
       "0  4.947634e+20  1.526039e+17      1  \n",
       "1  1.791793e+21  2.509280e+18      1  \n",
       "2  4.083579e+21  1.755177e+19      1  \n",
       "3  4.258954e+20  5.393924e+17      1  \n",
       "4  4.200894e+20  6.910376e+17      1  "
      ]
     },
     "execution_count": 88,
     "metadata": {},
     "output_type": "execute_result"
    }
   ],
   "source": [
    "folder_path = \"/home/vindia/samapti/cycle24(feb-july)/CR2149/TF3CR\"\n",
    "save_dir = \"/home/vindia/samapti/cycle24(feb-july)/CR2149\"\n",
    "txt_files =sorted(glob.glob(os.path.join(folder_path, \"*.txt\")))\n",
    "with open(txt_files[6], \"r\") as f:\n",
    "    print(txt_files[6])\n",
    "    data = [ast.literal_eval(line.strip()) for line in f]\n",
    "df5=pd.DataFrame(data, columns=[\"patchid\", \"meantd\", \"maxtd\", \"mintd\",\"lamda\",\"phi\",\"day\",\"TFlux\",\"maxTotflux\",\"meanTotflux\",\"flags\"])\n",
    "df5.head()"
   ]
  },
  {
   "cell_type": "code",
   "execution_count": 89,
   "metadata": {},
   "outputs": [
    {
     "data": {
      "text/plain": [
       "(720, 11)"
      ]
     },
     "execution_count": 89,
     "metadata": {},
     "output_type": "execute_result"
    }
   ],
   "source": [
    "df5.shape\n"
   ]
  },
  {
   "cell_type": "code",
   "execution_count": 90,
   "metadata": {},
   "outputs": [
    {
     "data": {
      "text/plain": [
       "0    671\n",
       "1     49\n",
       "Name: flags, dtype: int64"
      ]
     },
     "execution_count": 90,
     "metadata": {},
     "output_type": "execute_result"
    }
   ],
   "source": [
    "df5[\"flags\"].value_counts()"
   ]
  },
  {
   "cell_type": "code",
   "execution_count": 91,
   "metadata": {},
   "outputs": [
    {
     "data": {
      "text/plain": [
       "<AxesSubplot:ylabel='flags'>"
      ]
     },
     "execution_count": 91,
     "metadata": {},
     "output_type": "execute_result"
    },
    {
     "data": {
      "image/png": "[encoded data removed]",
      "text/plain": [
       "<Figure size 432x288 with 1 Axes>"
      ]
     },
     "metadata": {},
     "output_type": "display_data"
    }
   ],
   "source": [
    "df5[\"flags\"].value_counts().plot(kind=\"pie\", autopct=\"%.2f\")"
   ]
  },
  {
   "cell_type": "code",
   "execution_count": null,
   "metadata": {},
   "outputs": [],
   "source": [
    "df.corr()"
   ]
  },
  {
   "cell_type": "code",
   "execution_count": 95,
   "metadata": {},
   "outputs": [
    {
     "name": "stdout",
     "output_type": "stream",
     "text": [
      "/home/vindia/samapti/cycle24(feb-july)/CR2149/TF3CR/CR6(3600).txt\n"
     ]
    },
    {
     "data": {
      "text/html": [
       "<div>\n",
       "<style scoped>\n",
       "    .dataframe tbody tr th:only-of-type {\n",
       "        vertical-align: middle;\n",
       "    }\n",
       "\n",
       "    .dataframe tbody tr th {\n",
       "        vertical-align: top;\n",
       "    }\n",
       "\n",
       "    .dataframe thead th {\n",
       "        text-align: right;\n",
       "    }\n",
       "</style>\n",
       "<table border=\"1\" class=\"dataframe\">\n",
       "  <thead>\n",
       "    <tr style=\"text-align: right;\">\n",
       "      <th></th>\n",
       "      <th>patchid</th>\n",
       "      <th>meantd</th>\n",
       "      <th>maxtd</th>\n",
       "      <th>mintd</th>\n",
       "      <th>lamda</th>\n",
       "      <th>phi</th>\n",
       "      <th>day</th>\n",
       "      <th>TFlux</th>\n",
       "      <th>maxTotflux</th>\n",
       "      <th>meanTotflux</th>\n",
       "      <th>flags</th>\n",
       "    </tr>\n",
       "  </thead>\n",
       "  <tbody>\n",
       "    <tr>\n",
       "      <th>0</th>\n",
       "      <td>154</td>\n",
       "      <td>20.785147</td>\n",
       "      <td>21.513406</td>\n",
       "      <td>20.152446</td>\n",
       "      <td>16.5</td>\n",
       "      <td>20.0</td>\n",
       "      <td>1</td>\n",
       "      <td>1.734711e+22</td>\n",
       "      <td>2.373632e+20</td>\n",
       "      <td>2.940188e+18</td>\n",
       "      <td>1</td>\n",
       "    </tr>\n",
       "    <tr>\n",
       "      <th>1</th>\n",
       "      <td>155</td>\n",
       "      <td>20.785147</td>\n",
       "      <td>21.513406</td>\n",
       "      <td>20.152446</td>\n",
       "      <td>16.5</td>\n",
       "      <td>25.0</td>\n",
       "      <td>1</td>\n",
       "      <td>1.437431e+22</td>\n",
       "      <td>2.373632e+20</td>\n",
       "      <td>2.544126e+18</td>\n",
       "      <td>1</td>\n",
       "    </tr>\n",
       "    <tr>\n",
       "      <th>2</th>\n",
       "      <td>823</td>\n",
       "      <td>36.319787</td>\n",
       "      <td>36.392868</td>\n",
       "      <td>36.160475</td>\n",
       "      <td>84.5</td>\n",
       "      <td>-35.0</td>\n",
       "      <td>1</td>\n",
       "      <td>7.346699e+20</td>\n",
       "      <td>2.563551e+20</td>\n",
       "      <td>1.426543e+17</td>\n",
       "      <td>1</td>\n",
       "    </tr>\n",
       "    <tr>\n",
       "      <th>3</th>\n",
       "      <td>1184</td>\n",
       "      <td>27.157028</td>\n",
       "      <td>28.093048</td>\n",
       "      <td>26.242644</td>\n",
       "      <td>120.5</td>\n",
       "      <td>-30.0</td>\n",
       "      <td>1</td>\n",
       "      <td>1.827813e+21</td>\n",
       "      <td>2.378926e+20</td>\n",
       "      <td>3.384839e+17</td>\n",
       "      <td>1</td>\n",
       "    </tr>\n",
       "    <tr>\n",
       "      <th>4</th>\n",
       "      <td>1470</td>\n",
       "      <td>21.661706</td>\n",
       "      <td>21.814014</td>\n",
       "      <td>21.581604</td>\n",
       "      <td>148.5</td>\n",
       "      <td>0.0</td>\n",
       "      <td>1</td>\n",
       "      <td>5.074537e+21</td>\n",
       "      <td>2.048819e+21</td>\n",
       "      <td>8.119259e+17</td>\n",
       "      <td>1</td>\n",
       "    </tr>\n",
       "  </tbody>\n",
       "</table>\n",
       "</div>"
      ],
      "text/plain": [
       "   patchid     meantd      maxtd      mintd  lamda   phi  day         TFlux  \\\n",
       "0      154  20.785147  21.513406  20.152446   16.5  20.0    1  1.734711e+22   \n",
       "1      155  20.785147  21.513406  20.152446   16.5  25.0    1  1.437431e+22   \n",
       "2      823  36.319787  36.392868  36.160475   84.5 -35.0    1  7.346699e+20   \n",
       "3     1184  27.157028  28.093048  26.242644  120.5 -30.0    1  1.827813e+21   \n",
       "4     1470  21.661706  21.814014  21.581604  148.5   0.0    1  5.074537e+21   \n",
       "\n",
       "     maxTotflux   meanTotflux  flags  \n",
       "0  2.373632e+20  2.940188e+18      1  \n",
       "1  2.373632e+20  2.544126e+18      1  \n",
       "2  2.563551e+20  1.426543e+17      1  \n",
       "3  2.378926e+20  3.384839e+17      1  \n",
       "4  2.048819e+21  8.119259e+17      1  "
      ]
     },
     "execution_count": 95,
     "metadata": {},
     "output_type": "execute_result"
    }
   ],
   "source": [
    "folder_path = \"/home/vindia/samapti/cycle24(feb-july)/CR2149/TF3CR\"\n",
    "save_dir = \"/home/vindia/samapti/cycle24(feb-july)/CR2149\"\n",
    "txt_files =sorted(glob.glob(os.path.join(folder_path, \"*.txt\")))\n",
    "with open(txt_files[6], \"r\") as f:\n",
    "    print(txt_files[6])\n",
    "    data = [ast.literal_eval(line.strip()) for line in f]\n",
    "df6=pd.DataFrame(data, columns=[\"patchid\", \"meantd\", \"maxtd\", \"mintd\",\"lamda\",\"phi\",\"day\",\"TFlux\",\"maxTotflux\",\"meanTotflux\",\"flags\"])\n",
    "df6.head()"
   ]
  },
  {
   "cell_type": "code",
   "execution_count": 96,
   "metadata": {},
   "outputs": [
    {
     "data": {
      "text/plain": [
       "(3600, 11)"
      ]
     },
     "execution_count": 96,
     "metadata": {},
     "output_type": "execute_result"
    }
   ],
   "source": [
    "df6.shape"
   ]
  },
  {
   "cell_type": "code",
   "execution_count": 97,
   "metadata": {},
   "outputs": [
    {
     "data": {
      "text/plain": [
       "0    3329\n",
       "1     271\n",
       "Name: flags, dtype: int64"
      ]
     },
     "execution_count": 97,
     "metadata": {},
     "output_type": "execute_result"
    }
   ],
   "source": [
    "df6[\"flags\"].value_counts()"
   ]
  },
  {
   "cell_type": "code",
   "execution_count": 98,
   "metadata": {},
   "outputs": [
    {
     "data": {
      "text/plain": [
       "<AxesSubplot:ylabel='flags'>"
      ]
     },
     "execution_count": 98,
     "metadata": {},
     "output_type": "execute_result"
    },
    {
     "data": {
      "image/png": "[encoded data removed]",
      "text/plain": [
       "<Figure size 432x288 with 1 Axes>"
      ]
     },
     "metadata": {},
     "output_type": "display_data"
    }
   ],
   "source": [
    "df6[\"flags\"].value_counts().plot(kind=\"pie\", autopct=\"%.2f\")"
   ]
  },
  {
   "cell_type": "code",
   "execution_count": 123,
   "metadata": {},
   "outputs": [
    {
     "name": "stdout",
     "output_type": "stream",
     "text": [
      "['/home/vindia/samapti/cycle24(feb-july)/CR2149/ARD/TF3CR/CR0(360).txt', '/home/vindia/samapti/cycle24(feb-july)/CR2149/ARD/TF3CR/CR0(3600).txt', '/home/vindia/samapti/cycle24(feb-july)/CR2149/ARD/TF3CR/CR0(4320).txt', '/home/vindia/samapti/cycle24(feb-july)/CR2149/ARD/TF3CR/CR0.txt', '/home/vindia/samapti/cycle24(feb-july)/CR2149/ARD/TF3CR/CR1.txt', '/home/vindia/samapti/cycle24(feb-july)/CR2149/ARD/TF3CR/CR3.txt', '/home/vindia/samapti/cycle24(feb-july)/CR2149/ARD/TF3CR/CR4.txt', '/home/vindia/samapti/cycle24(feb-july)/CR2149/ARD/TF3CR/CR5.txt', '/home/vindia/samapti/cycle24(feb-july)/CR2149/ARD/TF3CR/CR6(3600).txt', '/home/vindia/samapti/cycle24(feb-july)/CR2149/ARD/TF3CR/CR6(720).txt', '/home/vindia/samapti/cycle24(feb-july)/CR2149/ARD/TF3CR/CR6.txt']\n"
     ]
    }
   ],
   "source": [
    "folder_path = \"/home/vindia/samapti/cycle24(feb-july)/CR2149/ARD/TF3CR\"\n",
    "save_dir = \"/home/vindia/samapti/cycle24(feb-july)/CR2149\"\n",
    "txt_files =sorted(glob.glob(os.path.join(folder_path, \"*.txt\")))\n",
    "print(txt_files)"
   ]
  },
  {
   "cell_type": "code",
   "execution_count": 133,
   "metadata": {},
   "outputs": [
    {
     "name": "stdout",
     "output_type": "stream",
     "text": [
      "/home/vindia/samapti/cycle24(feb-july)/CR2149/ARD/TF3CR/CR0(360).txt\n"
     ]
    },
    {
     "data": {
      "text/html": [
       "<div>\n",
       "<style scoped>\n",
       "    .dataframe tbody tr th:only-of-type {\n",
       "        vertical-align: middle;\n",
       "    }\n",
       "\n",
       "    .dataframe tbody tr th {\n",
       "        vertical-align: top;\n",
       "    }\n",
       "\n",
       "    .dataframe thead th {\n",
       "        text-align: right;\n",
       "    }\n",
       "</style>\n",
       "<table border=\"1\" class=\"dataframe\">\n",
       "  <thead>\n",
       "    <tr style=\"text-align: right;\">\n",
       "      <th></th>\n",
       "      <th>patchid</th>\n",
       "      <th>meantd</th>\n",
       "      <th>maxtd</th>\n",
       "      <th>mintd</th>\n",
       "      <th>lamda</th>\n",
       "      <th>phi</th>\n",
       "      <th>day</th>\n",
       "      <th>TFlux</th>\n",
       "      <th>maxTotflux</th>\n",
       "      <th>meanTotflux</th>\n",
       "      <th>flags</th>\n",
       "    </tr>\n",
       "  </thead>\n",
       "  <tbody>\n",
       "    <tr>\n",
       "      <th>0</th>\n",
       "      <td>284</td>\n",
       "      <td>23.966036</td>\n",
       "      <td>25.495680</td>\n",
       "      <td>22.596793</td>\n",
       "      <td>285.0</td>\n",
       "      <td>-12.5</td>\n",
       "      <td>1</td>\n",
       "      <td>2.169728e+23</td>\n",
       "      <td>6.457557e+20</td>\n",
       "      <td>1.179200e+19</td>\n",
       "      <td>1</td>\n",
       "    </tr>\n",
       "    <tr>\n",
       "      <th>1</th>\n",
       "      <td>285</td>\n",
       "      <td>23.966036</td>\n",
       "      <td>25.495680</td>\n",
       "      <td>22.596793</td>\n",
       "      <td>285.0</td>\n",
       "      <td>-2.5</td>\n",
       "      <td>1</td>\n",
       "      <td>1.667119e+23</td>\n",
       "      <td>6.457557e+20</td>\n",
       "      <td>8.867655e+18</td>\n",
       "      <td>1</td>\n",
       "    </tr>\n",
       "    <tr>\n",
       "      <th>2</th>\n",
       "      <td>315</td>\n",
       "      <td>33.171895</td>\n",
       "      <td>33.977458</td>\n",
       "      <td>32.113608</td>\n",
       "      <td>315.0</td>\n",
       "      <td>-2.5</td>\n",
       "      <td>1</td>\n",
       "      <td>1.468510e+23</td>\n",
       "      <td>5.092293e+20</td>\n",
       "      <td>7.811226e+18</td>\n",
       "      <td>1</td>\n",
       "    </tr>\n",
       "    <tr>\n",
       "      <th>3</th>\n",
       "      <td>156</td>\n",
       "      <td>21.560551</td>\n",
       "      <td>22.151330</td>\n",
       "      <td>21.246170</td>\n",
       "      <td>155.0</td>\n",
       "      <td>7.5</td>\n",
       "      <td>2</td>\n",
       "      <td>2.899707e+22</td>\n",
       "      <td>1.787286e+21</td>\n",
       "      <td>1.550645e+18</td>\n",
       "      <td>1</td>\n",
       "    </tr>\n",
       "    <tr>\n",
       "      <th>4</th>\n",
       "      <td>276</td>\n",
       "      <td>21.649647</td>\n",
       "      <td>22.573112</td>\n",
       "      <td>20.986042</td>\n",
       "      <td>275.0</td>\n",
       "      <td>7.5</td>\n",
       "      <td>2</td>\n",
       "      <td>1.329166e+25</td>\n",
       "      <td>8.538824e+21</td>\n",
       "      <td>7.107838e+20</td>\n",
       "      <td>1</td>\n",
       "    </tr>\n",
       "  </tbody>\n",
       "</table>\n",
       "</div>"
      ],
      "text/plain": [
       "   patchid     meantd      maxtd      mintd  lamda   phi  day         TFlux  \\\n",
       "0      284  23.966036  25.495680  22.596793  285.0 -12.5    1  2.169728e+23   \n",
       "1      285  23.966036  25.495680  22.596793  285.0  -2.5    1  1.667119e+23   \n",
       "2      315  33.171895  33.977458  32.113608  315.0  -2.5    1  1.468510e+23   \n",
       "3      156  21.560551  22.151330  21.246170  155.0   7.5    2  2.899707e+22   \n",
       "4      276  21.649647  22.573112  20.986042  275.0   7.5    2  1.329166e+25   \n",
       "\n",
       "     maxTotflux   meanTotflux  flags  \n",
       "0  6.457557e+20  1.179200e+19      1  \n",
       "1  6.457557e+20  8.867655e+18      1  \n",
       "2  5.092293e+20  7.811226e+18      1  \n",
       "3  1.787286e+21  1.550645e+18      1  \n",
       "4  8.538824e+21  7.107838e+20      1  "
      ]
     },
     "execution_count": 133,
     "metadata": {},
     "output_type": "execute_result"
    }
   ],
   "source": [
    "with open(txt_files[0], \"r\") as f:\n",
    "    print(txt_files[0])\n",
    "    data = [ast.literal_eval(line.strip()) for line in f]\n",
    "df0=pd.DataFrame(data, columns=[\"patchid\", \"meantd\", \"maxtd\", \"mintd\",\"lamda\",\"phi\",\"day\",\"TFlux\",\"maxTotflux\",\"meanTotflux\",\"flags\"])\n",
    "df0.head()"
   ]
  },
  {
   "cell_type": "code",
   "execution_count": 134,
   "metadata": {},
   "outputs": [
    {
     "data": {
      "text/plain": [
       "(360, 11)"
      ]
     },
     "execution_count": 134,
     "metadata": {},
     "output_type": "execute_result"
    }
   ],
   "source": [
    "df0.shape"
   ]
  },
  {
   "cell_type": "code",
   "execution_count": 135,
   "metadata": {},
   "outputs": [
    {
     "data": {
      "text/plain": [
       "0    342\n",
       "1     18\n",
       "Name: flags, dtype: int64"
      ]
     },
     "execution_count": 135,
     "metadata": {},
     "output_type": "execute_result"
    }
   ],
   "source": [
    "df0[\"flags\"].value_counts()"
   ]
  },
  {
   "cell_type": "code",
   "execution_count": 136,
   "metadata": {},
   "outputs": [
    {
     "data": {
      "text/plain": [
       "<AxesSubplot:ylabel='flags'>"
      ]
     },
     "execution_count": 136,
     "metadata": {},
     "output_type": "execute_result"
    },
    {
     "data": {
      "image/png": "[encoded data removed]",
      "text/plain": [
       "<Figure size 432x288 with 1 Axes>"
      ]
     },
     "metadata": {},
     "output_type": "display_data"
    }
   ],
   "source": [
    "df0[\"flags\"].value_counts().plot(kind=\"pie\", autopct=\"%.2f\")"
   ]
  },
  {
   "cell_type": "code",
   "execution_count": 130,
   "metadata": {},
   "outputs": [
    {
     "name": "stdout",
     "output_type": "stream",
     "text": [
      "/home/vindia/samapti/cycle24(feb-july)/CR2149/ARD/TF3CR/CR0(3600).txt\n"
     ]
    },
    {
     "data": {
      "text/html": [
       "<div>\n",
       "<style scoped>\n",
       "    .dataframe tbody tr th:only-of-type {\n",
       "        vertical-align: middle;\n",
       "    }\n",
       "\n",
       "    .dataframe tbody tr th {\n",
       "        vertical-align: top;\n",
       "    }\n",
       "\n",
       "    .dataframe thead th {\n",
       "        text-align: right;\n",
       "    }\n",
       "</style>\n",
       "<table border=\"1\" class=\"dataframe\">\n",
       "  <thead>\n",
       "    <tr style=\"text-align: right;\">\n",
       "      <th></th>\n",
       "      <th>patchid</th>\n",
       "      <th>meantd</th>\n",
       "      <th>maxtd</th>\n",
       "      <th>mintd</th>\n",
       "      <th>lamda</th>\n",
       "      <th>phi</th>\n",
       "      <th>day</th>\n",
       "      <th>TFlux</th>\n",
       "      <th>maxTotflux</th>\n",
       "      <th>meanTotflux</th>\n",
       "      <th>flags</th>\n",
       "    </tr>\n",
       "  </thead>\n",
       "  <tbody>\n",
       "    <tr>\n",
       "      <th>0</th>\n",
       "      <td>74</td>\n",
       "      <td>22.849129</td>\n",
       "      <td>23.595892</td>\n",
       "      <td>22.148373</td>\n",
       "      <td>8.5</td>\n",
       "      <td>20.0</td>\n",
       "      <td>1</td>\n",
       "      <td>1.165895e+22</td>\n",
       "      <td>1.645506e+21</td>\n",
       "      <td>1.976094e+18</td>\n",
       "      <td>1</td>\n",
       "    </tr>\n",
       "    <tr>\n",
       "      <th>1</th>\n",
       "      <td>90</td>\n",
       "      <td>22.282893</td>\n",
       "      <td>22.971383</td>\n",
       "      <td>21.646611</td>\n",
       "      <td>10.5</td>\n",
       "      <td>0.0</td>\n",
       "      <td>1</td>\n",
       "      <td>3.659663e+21</td>\n",
       "      <td>3.591975e+20</td>\n",
       "      <td>5.855461e+17</td>\n",
       "      <td>1</td>\n",
       "    </tr>\n",
       "    <tr>\n",
       "      <th>2</th>\n",
       "      <td>110</td>\n",
       "      <td>21.769824</td>\n",
       "      <td>22.392358</td>\n",
       "      <td>21.205156</td>\n",
       "      <td>12.5</td>\n",
       "      <td>0.0</td>\n",
       "      <td>1</td>\n",
       "      <td>8.703251e+21</td>\n",
       "      <td>3.591975e+20</td>\n",
       "      <td>1.392520e+18</td>\n",
       "      <td>1</td>\n",
       "    </tr>\n",
       "    <tr>\n",
       "      <th>3</th>\n",
       "      <td>130</td>\n",
       "      <td>21.315682</td>\n",
       "      <td>21.865265</td>\n",
       "      <td>20.829020</td>\n",
       "      <td>14.5</td>\n",
       "      <td>0.0</td>\n",
       "      <td>1</td>\n",
       "      <td>8.104269e+21</td>\n",
       "      <td>3.591975e+20</td>\n",
       "      <td>1.296683e+18</td>\n",
       "      <td>1</td>\n",
       "    </tr>\n",
       "    <tr>\n",
       "      <th>4</th>\n",
       "      <td>190</td>\n",
       "      <td>20.354876</td>\n",
       "      <td>20.651585</td>\n",
       "      <td>20.132103</td>\n",
       "      <td>20.5</td>\n",
       "      <td>0.0</td>\n",
       "      <td>1</td>\n",
       "      <td>1.339399e+21</td>\n",
       "      <td>2.097400e+20</td>\n",
       "      <td>2.143038e+17</td>\n",
       "      <td>1</td>\n",
       "    </tr>\n",
       "  </tbody>\n",
       "</table>\n",
       "</div>"
      ],
      "text/plain": [
       "   patchid     meantd      maxtd      mintd  lamda   phi  day         TFlux  \\\n",
       "0       74  22.849129  23.595892  22.148373    8.5  20.0    1  1.165895e+22   \n",
       "1       90  22.282893  22.971383  21.646611   10.5   0.0    1  3.659663e+21   \n",
       "2      110  21.769824  22.392358  21.205156   12.5   0.0    1  8.703251e+21   \n",
       "3      130  21.315682  21.865265  20.829020   14.5   0.0    1  8.104269e+21   \n",
       "4      190  20.354876  20.651585  20.132103   20.5   0.0    1  1.339399e+21   \n",
       "\n",
       "     maxTotflux   meanTotflux  flags  \n",
       "0  1.645506e+21  1.976094e+18      1  \n",
       "1  3.591975e+20  5.855461e+17      1  \n",
       "2  3.591975e+20  1.392520e+18      1  \n",
       "3  3.591975e+20  1.296683e+18      1  \n",
       "4  2.097400e+20  2.143038e+17      1  "
      ]
     },
     "execution_count": 130,
     "metadata": {},
     "output_type": "execute_result"
    }
   ],
   "source": [
    "with open(txt_files[1], \"r\") as f:\n",
    "    print(txt_files[1])\n",
    "    data = [ast.literal_eval(line.strip()) for line in f]\n",
    "df1=pd.DataFrame(data, columns=[\"patchid\", \"meantd\", \"maxtd\", \"mintd\",\"lamda\",\"phi\",\"day\",\"TFlux\",\"maxTotflux\",\"meanTotflux\",\"flags\"])\n",
    "df1.head()"
   ]
  },
  {
   "cell_type": "code",
   "execution_count": 131,
   "metadata": {},
   "outputs": [
    {
     "data": {
      "text/plain": [
       "0    3368\n",
       "1     232\n",
       "Name: flags, dtype: int64"
      ]
     },
     "execution_count": 131,
     "metadata": {},
     "output_type": "execute_result"
    }
   ],
   "source": [
    "df1[\"flags\"].value_counts()"
   ]
  },
  {
   "cell_type": "code",
   "execution_count": 132,
   "metadata": {},
   "outputs": [
    {
     "data": {
      "text/plain": [
       "<AxesSubplot:ylabel='flags'>"
      ]
     },
     "execution_count": 132,
     "metadata": {},
     "output_type": "execute_result"
    },
    {
     "data": {
      "image/png": "[encoded data removed]",
      "text/plain": [
       "<Figure size 432x288 with 1 Axes>"
      ]
     },
     "metadata": {},
     "output_type": "display_data"
    }
   ],
   "source": [
    "df1[\"flags\"].value_counts().plot(kind=\"pie\", autopct=\"%.2f\")"
   ]
  },
  {
   "cell_type": "code",
   "execution_count": 137,
   "metadata": {},
   "outputs": [
    {
     "name": "stdout",
     "output_type": "stream",
     "text": [
      "/home/vindia/samapti/cycle24(feb-july)/CR2149/ARD/TF3CR/CR0(4320).txt\n"
     ]
    },
    {
     "data": {
      "text/html": [
       "<div>\n",
       "<style scoped>\n",
       "    .dataframe tbody tr th:only-of-type {\n",
       "        vertical-align: middle;\n",
       "    }\n",
       "\n",
       "    .dataframe tbody tr th {\n",
       "        vertical-align: top;\n",
       "    }\n",
       "\n",
       "    .dataframe thead th {\n",
       "        text-align: right;\n",
       "    }\n",
       "</style>\n",
       "<table border=\"1\" class=\"dataframe\">\n",
       "  <thead>\n",
       "    <tr style=\"text-align: right;\">\n",
       "      <th></th>\n",
       "      <th>patchid</th>\n",
       "      <th>meantd</th>\n",
       "      <th>maxtd</th>\n",
       "      <th>mintd</th>\n",
       "      <th>lamda</th>\n",
       "      <th>phi</th>\n",
       "      <th>day</th>\n",
       "      <th>TFlux</th>\n",
       "      <th>maxTotflux</th>\n",
       "      <th>meanTotflux</th>\n",
       "      <th>flags</th>\n",
       "    </tr>\n",
       "  </thead>\n",
       "  <tbody>\n",
       "    <tr>\n",
       "      <th>0</th>\n",
       "      <td>88</td>\n",
       "      <td>22.849129</td>\n",
       "      <td>23.595892</td>\n",
       "      <td>22.148373</td>\n",
       "      <td>8.5</td>\n",
       "      <td>20.0</td>\n",
       "      <td>1</td>\n",
       "      <td>1.165895e+22</td>\n",
       "      <td>1.645506e+21</td>\n",
       "      <td>1.976094e+18</td>\n",
       "      <td>1</td>\n",
       "    </tr>\n",
       "    <tr>\n",
       "      <th>1</th>\n",
       "      <td>108</td>\n",
       "      <td>22.282893</td>\n",
       "      <td>22.971383</td>\n",
       "      <td>21.646611</td>\n",
       "      <td>10.5</td>\n",
       "      <td>0.0</td>\n",
       "      <td>1</td>\n",
       "      <td>3.659663e+21</td>\n",
       "      <td>3.591975e+20</td>\n",
       "      <td>5.855461e+17</td>\n",
       "      <td>1</td>\n",
       "    </tr>\n",
       "    <tr>\n",
       "      <th>2</th>\n",
       "      <td>132</td>\n",
       "      <td>21.769824</td>\n",
       "      <td>22.392358</td>\n",
       "      <td>21.205156</td>\n",
       "      <td>12.5</td>\n",
       "      <td>0.0</td>\n",
       "      <td>1</td>\n",
       "      <td>8.703251e+21</td>\n",
       "      <td>3.591975e+20</td>\n",
       "      <td>1.392520e+18</td>\n",
       "      <td>1</td>\n",
       "    </tr>\n",
       "    <tr>\n",
       "      <th>3</th>\n",
       "      <td>156</td>\n",
       "      <td>21.315682</td>\n",
       "      <td>21.865265</td>\n",
       "      <td>20.829020</td>\n",
       "      <td>14.5</td>\n",
       "      <td>0.0</td>\n",
       "      <td>1</td>\n",
       "      <td>8.104269e+21</td>\n",
       "      <td>3.591975e+20</td>\n",
       "      <td>1.296683e+18</td>\n",
       "      <td>1</td>\n",
       "    </tr>\n",
       "    <tr>\n",
       "      <th>4</th>\n",
       "      <td>228</td>\n",
       "      <td>20.354876</td>\n",
       "      <td>20.651585</td>\n",
       "      <td>20.132103</td>\n",
       "      <td>20.5</td>\n",
       "      <td>0.0</td>\n",
       "      <td>1</td>\n",
       "      <td>1.339399e+21</td>\n",
       "      <td>2.097400e+20</td>\n",
       "      <td>2.143038e+17</td>\n",
       "      <td>1</td>\n",
       "    </tr>\n",
       "  </tbody>\n",
       "</table>\n",
       "</div>"
      ],
      "text/plain": [
       "   patchid     meantd      maxtd      mintd  lamda   phi  day         TFlux  \\\n",
       "0       88  22.849129  23.595892  22.148373    8.5  20.0    1  1.165895e+22   \n",
       "1      108  22.282893  22.971383  21.646611   10.5   0.0    1  3.659663e+21   \n",
       "2      132  21.769824  22.392358  21.205156   12.5   0.0    1  8.703251e+21   \n",
       "3      156  21.315682  21.865265  20.829020   14.5   0.0    1  8.104269e+21   \n",
       "4      228  20.354876  20.651585  20.132103   20.5   0.0    1  1.339399e+21   \n",
       "\n",
       "     maxTotflux   meanTotflux  flags  \n",
       "0  1.645506e+21  1.976094e+18      1  \n",
       "1  3.591975e+20  5.855461e+17      1  \n",
       "2  3.591975e+20  1.392520e+18      1  \n",
       "3  3.591975e+20  1.296683e+18      1  \n",
       "4  2.097400e+20  2.143038e+17      1  "
      ]
     },
     "execution_count": 137,
     "metadata": {},
     "output_type": "execute_result"
    }
   ],
   "source": [
    "with open(txt_files[2], \"r\") as f:\n",
    "    print(txt_files[2])\n",
    "    data = [ast.literal_eval(line.strip()) for line in f]\n",
    "df2=pd.DataFrame(data, columns=[\"patchid\", \"meantd\", \"maxtd\", \"mintd\",\"lamda\",\"phi\",\"day\",\"TFlux\",\"maxTotflux\",\"meanTotflux\",\"flags\"])\n",
    "df2.head()"
   ]
  },
  {
   "cell_type": "code",
   "execution_count": 138,
   "metadata": {},
   "outputs": [
    {
     "data": {
      "text/plain": [
       "0    4088\n",
       "1     232\n",
       "Name: flags, dtype: int64"
      ]
     },
     "execution_count": 138,
     "metadata": {},
     "output_type": "execute_result"
    }
   ],
   "source": [
    "df2[\"flags\"].value_counts()"
   ]
  },
  {
   "cell_type": "code",
   "execution_count": 139,
   "metadata": {},
   "outputs": [
    {
     "data": {
      "text/plain": [
       "<AxesSubplot:ylabel='flags'>"
      ]
     },
     "execution_count": 139,
     "metadata": {},
     "output_type": "execute_result"
    },
    {
     "data": {
      "image/png": "[encoded data removed]",
      "text/plain": [
       "<Figure size 432x288 with 1 Axes>"
      ]
     },
     "metadata": {},
     "output_type": "display_data"
    }
   ],
   "source": [
    "df1[\"flags\"].value_counts().plot(kind=\"pie\", autopct=\"%.2f\")"
   ]
  },
  {
   "cell_type": "code",
   "execution_count": null,
   "metadata": {},
   "outputs": [],
   "source": []
  }
 ],
 "metadata": {
  "kernelspec": {
   "display_name": "Python 3",
   "language": "python",
   "name": "python3"
  },
  "language_info": {
   "codemirror_mode": {
    "name": "ipython",
    "version": 3
   },
   "file_extension": ".py",
   "mimetype": "text/x-python",
   "name": "python",
   "nbconvert_exporter": "python",
   "pygments_lexer": "ipython3",
   "version": "3.7.3"
  }
 },
 "nbformat": 4,
 "nbformat_minor": 2
}
